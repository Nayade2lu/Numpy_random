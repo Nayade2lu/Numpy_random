{
 "cells": [
  {
   "cell_type": "markdown",
   "metadata": {},
   "source": [
    "# Numpy.random package and distributions\n"
   ]
  },
  {
   "cell_type": "markdown",
   "metadata": {},
   "source": [
    "### 1. Numpy random package \n",
    "\n",
    "Description: \n",
    "\n",
    "**Numpy** \n",
    "Numpy is a library for the Python programming language and it is the fundamental package for scientific computing with Python. This library adds support for large, multi-dimensional arrays and matrices, along with a large collection of high-level mathematical functions to operate on these arrays, including mathematical, logical, shape manipulation, sorting, selecting, I/O, discrete Fourier transforms, basic linear algebra, basic statistical operations, random simulation and much more.  \n",
    "\n",
    "It contains among other things:\n",
    "\n",
    "- N-dimensional array object\n",
    "- (broadcasting) functions\n",
    "- tools for integrating C/C++ and Fortran code\n",
    "- linear algebra, Fourier transform, and random number capabilities\n",
    "\n",
    "NumPy can also be used as an efficient multi-dimensional container of generic data. Arbitrary data-types can be defined. NumPy is open-source software created in 2005 by Travis Oliphant by incorporating features of the competing Numarray into Numeric, with extensive modifications.\n",
    "(_Source: https://docs.scipy.org, Wikipedia and http://www.numpy.org_)\n",
    "\n",
    "Specific advantages of the package:\n",
    "- High efficiency while dealing with numbers in long lists.\n",
    "- Deals with multidimensional arrays (or lists contained within lists)\n",
    "- Performs high-speed operations between arrays due to sophisticated algorithms\n",
    "\n",
    "**Numpy.random** \n",
    "\n",
    "Numpy.random is a subpackage of the Numpy package in Python, and it is destinated to generate a sequence of random numbers. It also comes loaded with the ability to draw from a lot more statistical distributions. \n",
    "\n",
    "The importance of the package lies on its matrix operation efficiency as is a common use in computers for everyday tasks such as for resizing images, showing the graphics in the screens, working with data sets... \n",
    "(_Source: https://realpython.com/python-random/)\n",
    "\n",
    "**What is a random variable?**\n",
    "\n",
    "A random variable is a variable that takes on a set of possible values (discrete or continuous) and is subject to randomness. Each possible value the random variable can take on is associated with a probability. The possible values the random variable can take on and the associated probabilities are known as probability distribution.\n",
    "\n",
    "(_Source: https://bigdata-madesimple.com/how-to-implement-these-5-powerful-probability-distributions-in-python/)"
   ]
  },
  {
   "cell_type": "markdown",
   "metadata": {},
   "source": [
    "### 2. Simple Random data\n",
    " \n",
    "The main purpose of this package is to generate random numbers due to the impossibility of the computers of generating random numbers. Each of each function attends to different needs: generating random integers, random floats, bytes... The different functions perform the task of generating random values following different rules depending on the function such as including values from low to high with open or close intervals.\n",
    "\n",
    "The following use of the different functions is based on Numpy.random Based on Rand function video."
   ]
  },
  {
   "cell_type": "markdown",
   "metadata": {},
   "source": [
    "   **2.1 numpy.random.rand**"
   ]
  },
  {
   "cell_type": "code",
   "execution_count": 1,
   "metadata": {
    "scrolled": true
   },
   "outputs": [
    {
     "data": {
      "text/plain": [
       "array([[0.38791294, 0.94312964],\n",
       "       [0.91536318, 0.41055555],\n",
       "       [0.41367566, 0.76926905],\n",
       "       [0.24955073, 0.57807301]])"
      ]
     },
     "execution_count": 1,
     "metadata": {},
     "output_type": "execute_result"
    }
   ],
   "source": [
    "#Importing numpy and setting its name to np\n",
    "import numpy as np\n",
    "\n",
    "#get a Matrix of random numbers with a 2dimension array that includes 4 rows and 2 columns\"\n",
    "np.random.rand(4,2)"
   ]
  },
  {
   "cell_type": "markdown",
   "metadata": {},
   "source": [
    "From the above experiment, using numpy.random.rand the result will be an array containing \"n\" (4 in this case) arrays inside it, with \"m\" (2 in this example) float numbers per array. If the argument is left blank numpy.random.rand will return a singe float as shown in the example below."
   ]
  },
  {
   "cell_type": "code",
   "execution_count": 2,
   "metadata": {},
   "outputs": [
    {
     "data": {
      "text/plain": [
       "0.3509277628391939"
      ]
     },
     "execution_count": 2,
     "metadata": {},
     "output_type": "execute_result"
    }
   ],
   "source": [
    "#get of one single number\n",
    "x = np.random.rand ()\n",
    "x"
   ]
  },
  {
   "cell_type": "markdown",
   "metadata": {},
   "source": [
    "We can also get multiple dimensions arrays if we pass more arguments to the function as in the example below."
   ]
  },
  {
   "cell_type": "code",
   "execution_count": 3,
   "metadata": {},
   "outputs": [
    {
     "data": {
      "text/plain": [
       "array([[[[0.50825006, 0.85984615],\n",
       "         [0.18136297, 0.73419521]],\n",
       "\n",
       "        [[0.87312573, 0.21538397],\n",
       "         [0.75588717, 0.06671629]]],\n",
       "\n",
       "\n",
       "       [[[0.01712147, 0.30966876],\n",
       "         [0.84191767, 0.76137024]],\n",
       "\n",
       "        [[0.09375891, 0.97469365],\n",
       "         [0.49168495, 0.89256011]]],\n",
       "\n",
       "\n",
       "       [[[0.95184548, 0.16620194],\n",
       "         [0.5519994 , 0.11960154]],\n",
       "\n",
       "        [[0.97950103, 0.18113968],\n",
       "         [0.93225769, 0.75151394]]]])"
      ]
     },
     "execution_count": 3,
     "metadata": {},
     "output_type": "execute_result"
    }
   ],
   "source": [
    "#get an array of multiple dimensions\n",
    "x = np.random.rand (3,2,2,2)\n",
    "x"
   ]
  },
  {
   "cell_type": "markdown",
   "metadata": {},
   "source": [
    "To reflect the idea of the distribution that numpy.random.rand works with, the following piece of code will generate 1000 random floats. After that, this random numbers will be presented in a histogram using matplot library."
   ]
  },
  {
   "cell_type": "code",
   "execution_count": 4,
   "metadata": {
    "scrolled": false
   },
   "outputs": [
    {
     "data": {
      "text/plain": [
       "array([3.25578064e-01, 8.90172702e-01, 9.34760215e-01, 8.71115005e-02,\n",
       "       3.32319368e-01, 9.07698796e-01, 2.87055345e-01, 1.99639377e-01,\n",
       "       7.39151787e-01, 8.28466969e-01, 2.79681658e-01, 4.56122039e-01,\n",
       "       5.31717932e-01, 7.84874220e-01, 3.07249924e-01, 3.61524369e-01,\n",
       "       1.59437970e-01, 5.03810228e-01, 6.90302809e-01, 6.31866173e-01,\n",
       "       8.62784942e-01, 2.68096134e-02, 9.38113381e-01, 3.56533978e-01,\n",
       "       2.98750395e-01, 2.58238857e-01, 2.09115546e-01, 2.22019992e-01,\n",
       "       6.10504479e-01, 5.84890188e-01, 6.75810493e-01, 8.40118509e-01,\n",
       "       1.00319744e-01, 4.91702289e-01, 9.03389326e-01, 1.11125792e-01,\n",
       "       3.54347250e-01, 3.67076973e-02, 5.63904787e-01, 8.82318217e-01,\n",
       "       9.09715203e-01, 4.92203548e-01, 8.97319549e-01, 5.56717295e-01,\n",
       "       2.54356882e-01, 9.34964870e-01, 4.23131313e-01, 6.85563590e-01,\n",
       "       9.67286214e-01, 9.26167859e-01, 9.78524542e-03, 8.18488240e-01,\n",
       "       1.90037180e-01, 9.75124537e-01, 6.62736453e-01, 9.71417391e-01,\n",
       "       5.04723274e-01, 4.05201667e-01, 7.92442391e-02, 3.70919917e-01,\n",
       "       7.54554858e-01, 5.82600730e-01, 3.59969557e-01, 1.62724543e-01,\n",
       "       9.32580445e-01, 5.42186514e-01, 1.68583301e-01, 7.07813881e-01,\n",
       "       9.71209846e-01, 2.08818639e-01, 9.36731873e-01, 5.64195943e-01,\n",
       "       4.17878154e-01, 8.05073358e-01, 3.30906711e-01, 9.96721717e-01,\n",
       "       8.76879868e-02, 5.96377930e-01, 3.25191090e-01, 5.74428360e-01,\n",
       "       6.75152100e-02, 9.50210513e-01, 9.32457449e-01, 8.52854905e-01,\n",
       "       5.42906457e-01, 4.50234216e-01, 9.27110311e-01, 3.53345438e-01,\n",
       "       9.48349620e-01, 5.56098591e-01, 2.04203415e-01, 5.31730976e-01,\n",
       "       4.04384965e-01, 2.67226149e-01, 2.02561313e-01, 2.39783409e-01,\n",
       "       1.27583706e-02, 4.43805409e-01, 9.98514709e-01, 2.74694224e-01,\n",
       "       7.32452838e-02, 6.73022311e-01, 3.05050241e-01, 9.19568293e-02,\n",
       "       2.39736961e-01, 3.38191170e-01, 8.87922563e-01, 2.63810318e-01,\n",
       "       2.25973324e-01, 2.22679760e-01, 8.86286158e-01, 9.43240252e-01,\n",
       "       4.92491457e-01, 9.12398382e-01, 6.27289132e-01, 9.30877989e-01,\n",
       "       2.95379388e-01, 2.92060254e-01, 3.74370178e-01, 3.59993304e-01,\n",
       "       7.68548327e-01, 3.98596181e-01, 5.80936404e-03, 5.74206577e-01,\n",
       "       8.22616074e-01, 2.45358056e-01, 4.28465733e-01, 6.54343048e-01,\n",
       "       8.56231897e-01, 4.47163364e-01, 8.10197300e-01, 4.47352894e-01,\n",
       "       3.58155740e-01, 4.26234527e-01, 2.12270588e-01, 9.06682868e-01,\n",
       "       4.78836824e-01, 7.55285550e-01, 4.86686316e-01, 6.55398312e-01,\n",
       "       5.63518689e-01, 2.21023859e-01, 5.28618142e-01, 8.28233434e-01,\n",
       "       6.47780896e-01, 2.79361971e-01, 7.78684681e-01, 1.98724119e-01,\n",
       "       5.30570571e-01, 1.64173198e-01, 7.37786560e-01, 1.58852342e-02,\n",
       "       3.71473589e-01, 1.35309207e-01, 3.50107775e-01, 8.93326135e-01,\n",
       "       2.85889649e-01, 8.76546925e-01, 9.42042916e-02, 2.50091644e-02,\n",
       "       2.02953568e-01, 3.92836615e-01, 3.15076274e-01, 6.09415787e-01,\n",
       "       4.46092937e-01, 7.33819127e-01, 9.14092413e-01, 2.97621793e-01,\n",
       "       7.78146948e-01, 1.41710937e-01, 5.65395800e-01, 3.78078953e-01,\n",
       "       6.59657818e-01, 4.21964040e-01, 7.11746744e-01, 4.96220083e-01,\n",
       "       8.23593294e-02, 7.58922768e-01, 4.66338659e-01, 9.12193168e-01,\n",
       "       3.34163686e-01, 6.24761118e-01, 6.78569230e-01, 5.00399390e-01,\n",
       "       9.29915051e-01, 7.95997342e-01, 1.96414312e-01, 9.83796507e-01,\n",
       "       3.25370578e-01, 4.91375025e-01, 6.46894209e-01, 3.51048118e-01,\n",
       "       1.27985360e-01, 8.79056657e-02, 1.00332784e-02, 7.21281772e-01,\n",
       "       4.88251002e-01, 9.29035603e-01, 8.99333140e-01, 4.61587294e-01,\n",
       "       9.75904035e-02, 1.10657692e-01, 3.44672596e-01, 8.73131171e-03,\n",
       "       8.23282170e-01, 5.88482073e-01, 6.96491464e-01, 2.15916565e-01,\n",
       "       5.91599861e-01, 9.43245761e-01, 8.26987641e-01, 8.16620420e-01,\n",
       "       5.78773630e-01, 8.98061833e-01, 4.45367854e-01, 6.07611291e-01,\n",
       "       1.72966762e-01, 5.91471161e-01, 4.11033015e-01, 4.69067136e-01,\n",
       "       3.65747473e-01, 8.23077719e-01, 9.11095944e-01, 3.36249668e-01,\n",
       "       2.58132469e-01, 8.80181862e-01, 9.91294706e-02, 1.09395451e-01,\n",
       "       8.67979683e-01, 3.80083243e-01, 8.06896254e-01, 3.75895671e-01,\n",
       "       6.34890830e-01, 4.44355240e-01, 8.62547156e-01, 1.62694136e-01,\n",
       "       7.08110516e-01, 8.18064843e-01, 5.39542487e-01, 4.08522782e-01,\n",
       "       8.49728647e-01, 1.88557702e-01, 2.09207901e-01, 5.18661437e-01,\n",
       "       7.98162525e-01, 6.69259916e-01, 9.88825428e-01, 3.90042637e-01,\n",
       "       4.25300541e-01, 5.76591211e-01, 1.89482453e-01, 5.08111926e-01,\n",
       "       8.05727088e-01, 3.91197155e-01, 3.88600554e-01, 5.26363815e-01,\n",
       "       8.86638246e-01, 6.69922261e-01, 9.90007582e-01, 2.24922371e-01,\n",
       "       4.34900223e-01, 5.13796317e-01, 2.66383682e-02, 4.46654561e-02,\n",
       "       3.98625627e-01, 5.52466467e-01, 2.78308123e-01, 5.38537625e-01,\n",
       "       9.22831107e-01, 9.23096249e-01, 2.52882753e-01, 4.63333559e-01,\n",
       "       3.77023521e-01, 6.86212069e-01, 7.25758161e-01, 8.02489072e-01,\n",
       "       8.17768962e-01, 1.60598722e-01, 9.25427159e-01, 7.56273848e-01,\n",
       "       2.31517619e-01, 8.79656687e-01, 4.19851251e-01, 3.93563569e-01,\n",
       "       1.32292476e-01, 8.61646178e-01, 3.60357809e-01, 8.52929765e-01,\n",
       "       5.10946846e-01, 1.15053807e-01, 1.76281440e-01, 2.95298045e-02,\n",
       "       3.93743377e-01, 9.69083886e-01, 8.97696411e-02, 6.36160294e-01,\n",
       "       8.38861716e-01, 8.87475010e-01, 3.42274454e-01, 1.50938160e-01,\n",
       "       7.75776282e-01, 6.92556554e-01, 7.82331982e-01, 8.02284768e-03,\n",
       "       2.69421035e-04, 8.44837730e-01, 9.05135354e-01, 8.07762017e-01,\n",
       "       5.50442947e-01, 5.37129084e-01, 3.82962559e-01, 2.57813858e-01,\n",
       "       6.82435830e-01, 1.52052935e-01, 4.64669966e-01, 4.58722422e-01,\n",
       "       3.28227144e-01, 8.71656351e-01, 9.54471238e-01, 6.54687819e-02,\n",
       "       9.39147685e-01, 1.53619919e-01, 4.29809888e-01, 7.85885248e-01,\n",
       "       9.72484994e-02, 8.35773398e-01, 7.15888617e-01, 1.88778358e-02,\n",
       "       7.03919193e-01, 6.82984431e-01, 7.24485763e-01, 1.81437781e-01,\n",
       "       3.91487824e-01, 2.49052590e-01, 9.58965300e-01, 4.49082396e-01,\n",
       "       3.28365930e-01, 5.53919402e-01, 7.07045191e-02, 7.81802802e-01,\n",
       "       4.64246767e-01, 4.45593341e-01, 1.16698597e-03, 6.75271584e-01,\n",
       "       2.56161296e-01, 1.92209274e-02, 6.08383775e-01, 1.07594211e-01,\n",
       "       1.47010766e-02, 2.76805231e-01, 2.70484955e-01, 1.75054913e-01,\n",
       "       1.81974757e-01, 5.95482122e-01, 8.97594733e-01, 9.05256696e-01,\n",
       "       9.63785187e-01, 6.54320646e-01, 1.59550266e-01, 9.69262140e-02,\n",
       "       2.05882297e-01, 4.15598043e-01, 5.97692496e-01, 9.66839136e-01,\n",
       "       2.34869585e-01, 8.29488948e-01, 9.88202609e-01, 7.09570104e-01,\n",
       "       9.51495505e-01, 1.30642938e-01, 6.07607272e-01, 3.57346960e-01,\n",
       "       1.51721218e-01, 4.02277700e-01, 8.03440434e-01, 9.44624528e-01,\n",
       "       5.53705243e-01, 8.21785679e-01, 2.10922843e-01, 4.08839326e-01,\n",
       "       5.17009347e-01, 8.93236441e-01, 8.42249890e-01, 1.23400134e-02,\n",
       "       9.02770240e-01, 5.27192706e-01, 8.74350342e-01, 3.87514411e-01,\n",
       "       2.18745426e-01, 9.10528603e-02, 3.42553070e-01, 9.35942915e-01,\n",
       "       7.07936671e-01, 8.55782351e-01, 8.33421695e-01, 2.12394093e-01,\n",
       "       8.44214471e-01, 4.67547740e-01, 7.90916337e-01, 6.88281461e-01,\n",
       "       4.98655746e-01, 5.16548240e-01, 2.48671470e-01, 9.13172255e-01,\n",
       "       1.96917477e-01, 4.87285388e-01, 6.75364686e-01, 9.49050431e-01,\n",
       "       3.93324751e-01, 6.13183468e-01, 9.49527042e-02, 1.86430054e-03,\n",
       "       6.51016650e-02, 8.28032805e-01, 2.54796319e-01, 1.94479814e-01,\n",
       "       9.92138724e-01, 6.95921311e-02, 4.54680519e-01, 2.57719462e-01,\n",
       "       7.18285333e-01, 1.58276293e-02, 5.20325644e-01, 8.69068757e-01,\n",
       "       1.72933992e-01, 4.67242952e-01, 8.20308675e-01, 9.51733610e-01,\n",
       "       2.02206528e-01, 9.90481375e-01, 9.73904116e-01, 1.45252288e-01,\n",
       "       1.00146757e-01, 8.28252552e-01, 6.12472619e-01, 7.37768253e-01,\n",
       "       3.78158087e-01, 4.55553313e-01, 2.97681997e-01, 9.94168716e-01,\n",
       "       1.94430049e-01, 6.20438146e-01, 6.07081722e-01, 3.20751924e-02,\n",
       "       9.73239101e-02, 6.98803584e-01, 5.31405017e-01, 3.92291261e-01,\n",
       "       2.46454595e-01, 9.51756797e-02, 6.96151850e-01, 8.03788800e-01,\n",
       "       6.30966060e-01, 1.94571343e-01, 3.78288970e-01, 6.97601381e-01,\n",
       "       8.51430823e-01, 3.38370672e-01, 6.89581498e-02, 7.75284806e-01,\n",
       "       9.17358120e-01, 6.62123394e-01, 4.34988351e-01, 7.89896106e-01,\n",
       "       5.99043341e-01, 7.38469645e-01, 7.13200342e-01, 9.22618626e-01,\n",
       "       9.76400386e-01, 4.05183786e-01, 5.09564178e-01, 1.07504263e-01,\n",
       "       1.99884264e-01, 4.45438010e-01, 3.50515273e-01, 6.48423934e-01,\n",
       "       1.32745157e-01, 2.74530247e-01, 3.41724555e-01, 1.14114282e-02,\n",
       "       6.81383267e-01, 2.35468007e-01, 8.75365338e-01, 8.36945760e-01,\n",
       "       6.90770821e-01, 7.66057831e-01, 9.92233496e-01, 7.27797896e-01,\n",
       "       9.09718835e-01, 9.63821512e-01, 6.98408876e-03, 8.54467441e-01,\n",
       "       2.08544732e-01, 6.15390788e-01, 8.68014045e-01, 2.81258231e-01,\n",
       "       3.60793092e-01, 6.89706170e-01, 8.81093712e-01, 6.90451142e-01,\n",
       "       7.89355901e-01, 2.92324748e-01, 9.58454631e-01, 4.05911666e-01,\n",
       "       8.21313154e-01, 3.71122932e-01, 6.87585312e-01, 9.11778630e-01,\n",
       "       7.47618556e-01, 7.94761875e-01, 7.31715966e-01, 4.72601541e-01,\n",
       "       4.24258984e-02, 5.77842846e-01, 9.25985571e-01, 4.56292169e-01,\n",
       "       7.73798409e-01, 9.18601941e-01, 7.32833782e-01, 2.54610263e-01,\n",
       "       1.98031778e-01, 4.78313882e-01, 2.69983428e-01, 7.29318915e-01,\n",
       "       5.73576780e-01, 1.64038940e-01, 5.36269630e-01, 8.14327508e-01,\n",
       "       4.36711566e-01, 1.79248368e-01, 7.75780925e-02, 9.07211303e-01,\n",
       "       1.68048548e-01, 8.59062626e-01, 6.94140157e-01, 1.03319038e-01,\n",
       "       3.83949199e-01, 2.30385960e-01, 6.83672170e-01, 9.74143384e-01,\n",
       "       6.46575932e-01, 4.04962015e-02, 9.93115750e-01, 6.41393668e-01,\n",
       "       9.18024875e-01, 4.50066273e-01, 9.79058982e-01, 9.91835279e-01,\n",
       "       4.25506599e-02, 3.61127930e-02, 9.65626100e-01, 1.98918354e-01,\n",
       "       1.97417128e-01, 3.60929891e-01, 7.46615116e-01, 9.26041497e-01,\n",
       "       8.07411888e-01, 9.61356480e-01, 3.37382517e-01, 3.70916152e-01,\n",
       "       9.66311671e-01, 8.64029588e-01, 2.64074006e-01, 6.18070000e-01,\n",
       "       6.12202448e-01, 1.98680722e-01, 9.27235768e-01, 9.66241192e-01,\n",
       "       5.25558330e-01, 5.07704736e-01, 4.84815352e-01, 7.92441698e-01,\n",
       "       8.43275379e-01, 9.27920422e-02, 2.42762127e-01, 1.56574841e-02,\n",
       "       2.11954778e-01, 5.42361578e-01, 1.53289278e-01, 8.24910814e-02,\n",
       "       1.50367614e-01, 5.73383351e-01, 2.97085038e-01, 4.23067858e-01,\n",
       "       3.38474600e-01, 4.44413511e-01, 1.55330376e-01, 5.57488068e-01,\n",
       "       2.53637983e-01, 3.58910382e-01, 1.19677217e-01, 3.83511829e-01,\n",
       "       4.16478705e-01, 1.80315786e-01, 3.70612501e-01, 3.17766876e-01,\n",
       "       2.46989500e-01, 9.97648132e-01, 9.83356234e-01, 3.40715106e-01,\n",
       "       4.84111823e-01, 3.76026819e-01, 8.04934879e-01, 3.72917677e-01,\n",
       "       3.37652844e-01, 4.92873620e-01, 3.37798333e-01, 9.34245290e-01,\n",
       "       5.03908658e-01, 2.99544583e-01, 7.94255959e-01, 3.24587593e-02,\n",
       "       1.21487033e-01, 1.01242576e-01, 3.38402201e-01, 2.76011132e-01,\n",
       "       5.95429151e-01, 2.84678309e-01, 9.30129580e-01, 7.89354333e-01,\n",
       "       2.28880258e-02, 8.12520573e-01, 3.12681038e-02, 4.67927519e-01,\n",
       "       7.60961175e-01, 9.93868821e-01, 5.43210051e-01, 8.13361214e-01,\n",
       "       7.00419499e-01, 2.68852208e-01, 7.18373867e-01, 7.55295701e-01,\n",
       "       9.60121444e-01, 7.92531977e-01, 2.72056904e-01, 4.75770053e-01,\n",
       "       6.12131987e-01, 9.47232541e-01, 7.39847430e-01, 1.02778877e-01,\n",
       "       9.61713294e-01, 4.82385840e-01, 6.42436937e-01, 7.10549248e-01,\n",
       "       4.19169024e-01, 7.55321764e-01, 9.83924798e-01, 2.11457276e-01,\n",
       "       1.67299810e-02, 4.58710962e-01, 6.42010312e-01, 8.30540131e-01,\n",
       "       2.73200188e-01, 1.74217065e-01, 3.56814917e-01, 6.86361306e-01,\n",
       "       4.68800110e-02, 3.86558758e-01, 3.49993371e-01, 1.19745081e-01,\n",
       "       7.77541125e-01, 8.23488226e-01, 2.49602049e-01, 8.60554052e-01,\n",
       "       1.39811384e-01, 7.44296791e-01, 9.36612536e-01, 4.81422619e-02,\n",
       "       1.31238207e-01, 4.43417702e-01, 6.85141186e-01, 8.14050348e-01,\n",
       "       2.69496563e-01, 4.82029985e-01, 2.31710627e-01, 3.32938762e-01,\n",
       "       6.88426392e-01, 2.06830194e-02, 9.69199907e-01, 1.50080448e-01,\n",
       "       1.93553086e-02, 3.74242696e-01, 8.28075243e-02, 3.76472840e-01,\n",
       "       2.58727546e-01, 5.87519004e-01, 4.57098536e-01, 2.13323858e-01,\n",
       "       5.79449433e-01, 4.52884441e-01, 9.31880947e-01, 8.86209568e-01,\n",
       "       6.30967773e-01, 8.32545293e-01, 2.93229929e-01, 5.79927565e-01,\n",
       "       4.89625223e-02, 2.49530407e-01, 6.46149497e-01, 3.10794551e-01,\n",
       "       8.07584642e-01, 5.94716259e-01, 8.28967923e-01, 7.98927618e-01,\n",
       "       2.33904887e-01, 4.14046185e-01, 3.32101859e-01, 3.86598773e-01,\n",
       "       6.11304607e-01, 6.36314277e-01, 9.80410738e-01, 8.83473389e-01,\n",
       "       4.35622012e-01, 5.46456844e-02, 6.44257810e-01, 8.18850344e-01,\n",
       "       7.23807859e-01, 7.85355765e-01, 8.38645163e-01, 5.74884259e-01,\n",
       "       2.59376354e-01, 8.73473961e-02, 4.35242745e-01, 1.69424584e-01,\n",
       "       2.94222611e-01, 3.75188330e-01, 5.16798897e-01, 7.88737077e-01,\n",
       "       8.77942260e-01, 5.59400832e-02, 1.39263346e-01, 1.59419853e-01,\n",
       "       4.83826471e-01, 6.74808024e-01, 8.51513294e-02, 2.11989418e-01,\n",
       "       3.94315029e-01, 7.08857410e-01, 4.73303888e-01, 5.59057993e-01,\n",
       "       9.62975265e-01, 9.73153020e-01, 4.48302707e-01, 3.14844646e-01,\n",
       "       3.32576858e-01, 4.12013814e-01, 1.70793884e-01, 3.13432546e-01,\n",
       "       6.80337234e-01, 6.83074781e-01, 5.73158253e-01, 7.43182312e-01,\n",
       "       4.65133143e-01, 1.26731949e-01, 9.92521906e-01, 2.74834058e-01,\n",
       "       2.64881575e-01, 9.45128589e-02, 1.83147556e-01, 9.01471090e-01,\n",
       "       9.07013665e-02, 3.84480681e-01, 5.96434788e-01, 4.46506685e-01,\n",
       "       1.78714896e-01, 5.20000658e-01, 9.27871251e-01, 9.13207128e-01,\n",
       "       9.26193974e-01, 1.40340546e-01, 7.55116002e-01, 7.59176528e-01,\n",
       "       1.46691654e-01, 1.93001552e-01, 9.42336870e-01, 1.29766591e-01,\n",
       "       6.64725524e-01, 9.86025483e-01, 3.14361851e-01, 4.04005227e-01,\n",
       "       9.75408228e-01, 5.93239376e-01, 7.22917099e-01, 4.86347925e-01,\n",
       "       1.92546779e-01, 4.50333599e-02, 8.61810447e-01, 1.00637410e-01,\n",
       "       1.75805677e-01, 2.62296968e-01, 6.48051667e-01, 6.60498190e-01,\n",
       "       7.96746374e-01, 3.74345687e-01, 3.44627698e-01, 5.62761980e-01,\n",
       "       8.50350985e-01, 2.61703899e-01, 5.58124312e-01, 2.07258583e-01,\n",
       "       7.79044211e-01, 3.90194340e-01, 3.01471068e-01, 8.41949398e-01,\n",
       "       6.87739519e-01, 9.48379369e-01, 6.23750444e-01, 7.99314981e-01,\n",
       "       7.43607371e-01, 9.53825147e-01, 2.31333033e-01, 3.83480759e-01,\n",
       "       8.73570618e-01, 2.57187220e-01, 1.28020544e-02, 1.07067173e-01,\n",
       "       9.88838941e-01, 3.33814193e-01, 3.21543085e-01, 7.88669268e-01,\n",
       "       8.84537272e-02, 1.57975286e-01, 1.53031989e-01, 4.90139216e-01,\n",
       "       2.43895320e-01, 1.27490210e-02, 3.21195179e-01, 3.61464773e-01,\n",
       "       3.28733750e-01, 8.71695703e-01, 9.54864429e-01, 5.37598714e-01,\n",
       "       1.76852303e-02, 8.60524732e-01, 3.35251309e-01, 2.27401450e-01,\n",
       "       8.02117980e-01, 3.59376886e-01, 8.10284578e-01, 9.18186935e-01,\n",
       "       7.79150723e-02, 9.61753131e-01, 3.99723953e-01, 2.69787172e-01,\n",
       "       4.20173472e-02, 5.76523743e-01, 5.54737851e-02, 4.18598479e-01,\n",
       "       6.11941271e-01, 7.49683025e-01, 4.44981491e-01, 6.58050077e-01,\n",
       "       3.88840024e-01, 9.60291233e-01, 4.65354066e-01, 6.69627250e-01,\n",
       "       1.50949751e-01, 5.39028973e-03, 4.64094997e-01, 7.32009669e-01,\n",
       "       3.13894967e-01, 3.93180990e-01, 6.63881232e-01, 2.47390552e-01,\n",
       "       6.37783774e-01, 3.95540422e-01, 3.14766250e-01, 5.64759507e-01,\n",
       "       9.44405667e-02, 3.66201888e-01, 3.22704776e-01, 4.23655611e-01,\n",
       "       5.79388158e-01, 9.07616419e-01, 9.59153455e-01, 2.14098010e-01,\n",
       "       7.97511756e-01, 3.16504561e-01, 1.21785494e-01, 2.07612665e-01,\n",
       "       8.53665539e-01, 9.32164407e-01, 4.51504844e-01, 7.60861429e-01,\n",
       "       9.02223711e-01, 4.25691282e-01, 9.85453218e-01, 1.52252461e-01,\n",
       "       3.01773348e-02, 9.36875030e-02, 4.20509830e-01, 2.02481680e-01,\n",
       "       9.19860663e-01, 3.96542432e-02, 6.59157632e-02, 5.44948681e-02,\n",
       "       2.74809504e-01, 4.49307627e-01, 5.42911110e-01, 8.26036194e-01,\n",
       "       7.13968042e-01, 9.13641495e-01, 1.89436509e-01, 2.46893151e-01,\n",
       "       9.78700386e-01, 1.90243167e-01, 1.72918071e-01, 4.52724863e-01,\n",
       "       9.82464698e-01, 6.63587678e-01, 5.07459525e-02, 2.89718592e-01,\n",
       "       4.92017276e-01, 9.04222769e-01, 8.63298075e-01, 3.64092776e-01,\n",
       "       2.78601523e-02, 9.81506315e-01, 1.84953208e-01, 6.83966082e-01,\n",
       "       7.10373419e-01, 8.40992838e-02, 9.99997112e-01, 8.01486445e-01,\n",
       "       5.91519888e-01, 2.45404365e-02, 9.45255341e-02, 6.34367012e-01,\n",
       "       7.63314271e-02, 3.46578836e-01, 2.47405835e-02, 9.79673936e-01,\n",
       "       3.36782775e-02, 3.25512351e-01, 8.27622655e-01, 5.78090106e-01,\n",
       "       6.99974311e-01, 4.20442811e-01, 8.60530722e-01, 3.63983612e-01,\n",
       "       8.75515875e-01, 2.22213573e-01, 6.24985218e-01, 8.92621831e-01,\n",
       "       8.06113802e-01, 7.32782568e-01, 8.47071740e-01, 2.15415938e-01,\n",
       "       3.96898320e-01, 4.16885721e-01, 1.35412999e-01, 9.31766626e-01,\n",
       "       1.35740267e-01, 1.90306696e-01, 3.04056262e-01, 4.87012802e-01,\n",
       "       1.32701714e-01, 8.26141894e-01, 2.62934128e-01, 9.33080647e-01,\n",
       "       9.68808597e-01, 8.84340813e-01, 2.11280228e-02, 3.13033124e-01,\n",
       "       2.43493248e-01, 1.35741155e-01, 9.29733367e-01, 6.84019240e-01,\n",
       "       9.58064095e-02, 5.67986192e-01, 3.68846443e-01, 1.68866053e-01,\n",
       "       9.83156833e-01, 7.07763479e-01, 6.93958264e-01, 6.33540094e-01,\n",
       "       7.12013928e-01, 1.30998719e-01, 9.27716274e-01, 1.94993628e-01,\n",
       "       3.46648063e-01, 9.92765626e-01, 7.28337460e-03, 1.03659816e-01,\n",
       "       6.99054363e-01, 7.31206426e-02, 2.12665983e-01, 4.23454110e-02,\n",
       "       5.15334262e-01, 6.85376291e-01, 2.12659487e-01, 4.46790099e-01,\n",
       "       2.43465442e-01, 9.11639036e-01, 5.51928070e-01, 7.67003880e-01,\n",
       "       4.38956868e-01, 6.81435467e-01, 2.97781686e-01, 4.30632769e-01])"
      ]
     },
     "execution_count": 4,
     "metadata": {},
     "output_type": "execute_result"
    }
   ],
   "source": [
    "#get an array of 1000 floats\n",
    "x = np.random.rand (1000)\n",
    "x"
   ]
  },
  {
   "cell_type": "markdown",
   "metadata": {},
   "source": [
    "From the experiment above, if just one value is given when using numpy.random.rand(x) then the result is an array of x number of floats. The floats in the array according to the function numpy.random.rand are in the interval [[0,1)] which means that 0 is included but 1 is excluded. So there is a semi-open interval. From the list above it would seem that the numbers are higher than 1: for example 7.05995169e-01, but looking with care,  they are presented in an exponential form, the number above in decimal notation is 0.705995169, then a number between the defined interval in the function."
   ]
  },
  {
   "cell_type": "code",
   "execution_count": 5,
   "metadata": {},
   "outputs": [
    {
     "data": {
      "text/plain": [
       "<function matplotlib.pyplot.show(*args, **kw)>"
      ]
     },
     "execution_count": 5,
     "metadata": {},
     "output_type": "execute_result"
    },
    {
     "data": {
      "image/png": "[encoded data removed]",
      "text/plain": [
       "<matplotlib.figure.Figure at 0x10d055a58>"
      ]
     },
     "metadata": {
      "needs_background": "light"
     },
     "output_type": "display_data"
    }
   ],
   "source": [
    "%matplotlib inline\n",
    "\n",
    "import matplotlib.pyplot as plt\n",
    "\n",
    "plt.hist(x)\n",
    "plt.show"
   ]
  },
  {
   "cell_type": "markdown",
   "metadata": {},
   "source": [
    "It returns random floats from low (inclusive) to high (exclusive) following continuous uniform distribution. That means that there is the same probability of obtaining any number. Moreover, a continuous distribution means that there is no separation between one result and the following one as there is an infinite number of floats between those two."
   ]
  },
  {
   "cell_type": "markdown",
   "metadata": {},
   "source": [
    "**2.2 numpy.random.randn**"
   ]
  },
  {
   "cell_type": "markdown",
   "metadata": {},
   "source": [
    "Numpy.random.randn returns a sample (or samples) from the “standard normal” distribution. If no argument is given, the result is a single float."
   ]
  },
  {
   "cell_type": "code",
   "execution_count": 6,
   "metadata": {},
   "outputs": [
    {
     "data": {
      "text/plain": [
       "-1.7186017501575903"
      ]
     },
     "execution_count": 6,
     "metadata": {},
     "output_type": "execute_result"
    }
   ],
   "source": [
    "#Running randn function\n",
    "np.random.randn()"
   ]
  },
  {
   "cell_type": "markdown",
   "metadata": {},
   "source": [
    "In the example below taken from the documentation, the random numbers are subjected to external calculations such as * 2.5 or +3."
   ]
  },
  {
   "cell_type": "code",
   "execution_count": 7,
   "metadata": {},
   "outputs": [
    {
     "data": {
      "text/plain": [
       "array([[ 4.66741032, -1.64323382,  3.52508766,  4.89491569],\n",
       "       [-3.61232665,  2.68410952,  3.48938547,  4.54170705]])"
      ]
     },
     "execution_count": 7,
     "metadata": {},
     "output_type": "execute_result"
    }
   ],
   "source": [
    "2.5 * np.random.randn(2, 4) + 3"
   ]
  },
  {
   "cell_type": "code",
   "execution_count": 8,
   "metadata": {},
   "outputs": [
    {
     "data": {
      "text/plain": [
       "array([ 3.08562592e-01, -3.75232919e-01,  1.01864998e+00,  4.60461660e-01,\n",
       "       -7.03939853e-01, -1.65988744e+00, -1.02843620e+00,  1.31457977e+00,\n",
       "        1.76970833e+00, -1.39408733e-01,  8.04429065e-01, -6.41890019e-01,\n",
       "       -4.92996182e-01, -2.33195437e-01,  4.68426626e-01,  3.80450354e-01,\n",
       "        2.46217454e-02, -1.48552748e-01,  1.70821121e-01,  8.11064907e-01,\n",
       "       -1.63141223e+00, -1.38927975e-01, -6.03625878e-01, -8.14645673e-02,\n",
       "       -2.76383362e-01,  2.16090445e+00,  4.72733551e-01,  6.46632961e-01,\n",
       "        5.83867856e-01, -1.06093855e+00,  1.37189098e+00,  4.03468544e-01,\n",
       "       -7.67812865e-01,  3.67169239e-01,  1.65941108e+00, -2.62071984e-01,\n",
       "       -1.55489253e+00,  8.66171001e-02,  8.04655769e-01,  6.14919526e-01,\n",
       "        2.77071213e-01, -1.71492026e+00, -5.22511550e-01,  1.63880896e+00,\n",
       "        2.43493121e+00, -1.88747402e+00,  6.71045079e-01, -1.34528462e+00,\n",
       "       -1.57106998e-01,  1.24842126e-01,  7.19315189e-01,  2.50680348e+00,\n",
       "        8.57454385e-02,  1.03438146e-01, -4.84796205e-01, -1.21882453e-01,\n",
       "        2.64400038e+00,  3.22665946e-01, -6.79759802e-01, -1.01928868e+00,\n",
       "       -5.91987632e-02, -5.26538679e-01, -9.34948084e-02, -1.05690237e+00,\n",
       "        6.47958635e-01,  1.09529392e+00, -1.93193685e-01,  1.13967898e+00,\n",
       "        2.15575379e-01, -5.64954752e-01, -9.11491897e-01,  2.26817435e+00,\n",
       "       -1.17803743e+00, -9.74217217e-01,  9.32425212e-02,  1.76502885e+00,\n",
       "        5.70071678e-01, -1.06854025e+00,  2.15079915e-01, -1.07626814e+00,\n",
       "       -5.55018423e-01,  3.22115109e-01, -7.82217935e-01, -4.88153469e-02,\n",
       "       -4.50995164e-01, -1.57434736e-01,  3.20193406e-01, -1.76045099e+00,\n",
       "        8.67686604e-01,  3.90445328e-01, -3.32200336e-02, -1.91851695e-02,\n",
       "        1.08393348e+00, -4.59892944e-01,  8.91452677e-02, -1.91979118e+00,\n",
       "       -9.49786933e-02, -1.60879973e+00, -7.18129320e-01,  4.94110895e-02,\n",
       "       -5.25601575e-01, -1.36451092e-01, -3.02924478e-01, -3.66792498e-01,\n",
       "        7.11944167e-01, -3.50849427e-01, -9.39946044e-01,  1.44259178e-01,\n",
       "       -9.05519279e-01, -2.09045311e-01,  4.36657000e-01,  7.79540153e-01,\n",
       "        1.83977185e-02,  5.85398363e-01, -6.10491744e-01, -1.21945664e+00,\n",
       "       -4.81146222e-01, -6.62558561e-01,  4.10103156e-01, -2.48033498e-01,\n",
       "        3.53646264e-02,  1.37676321e-01,  1.59618013e+00,  7.26902174e-01,\n",
       "        8.39037225e-01, -8.16330943e-01,  1.80179050e+00, -5.05462093e-01,\n",
       "        1.06131196e+00, -5.23170912e-01, -7.20431958e-01,  4.19290140e-01,\n",
       "       -7.87944564e-01,  5.36093154e-01,  1.09247990e-01,  4.69252294e-01,\n",
       "        6.39927569e-01,  7.47680197e-01,  1.08498748e+00, -2.80990349e-01,\n",
       "       -1.54646644e-01, -3.63312131e-01, -5.85203918e-01, -4.40653398e-01,\n",
       "        1.95938503e+00,  1.09275884e+00,  6.76782838e-01,  8.54162463e-01,\n",
       "       -1.51787805e+00,  8.70046865e-01, -2.01734572e+00, -7.66610224e-01,\n",
       "        5.22606571e-01, -9.44883250e-01, -5.46294555e-01, -1.26610130e+00,\n",
       "       -7.33073926e-02, -9.61807131e-01,  5.91162341e-01, -7.66380673e-01,\n",
       "       -2.10032535e-01,  9.04344847e-01, -1.35500159e-01,  1.03595855e+00,\n",
       "       -1.59997797e-01,  3.04772032e-01,  1.07043419e-01,  1.01624287e-01,\n",
       "        1.21082563e+00,  1.44157086e-01, -1.28382075e-01, -9.22272169e-01,\n",
       "        3.72095827e-01, -7.66069013e-01,  1.67532137e+00, -1.73456217e+00,\n",
       "        1.01257589e+00, -7.48068988e-01, -4.79230696e-01,  2.48188552e-01,\n",
       "        3.98073697e-02, -5.68975458e-01,  5.43093873e-02,  8.56349439e-01,\n",
       "       -7.45216771e-02,  4.34585820e-01, -7.08580704e-01,  5.84930593e-02,\n",
       "       -3.70831352e-01,  1.25699391e-01,  7.50259770e-01, -1.79961064e-02,\n",
       "       -7.53148780e-01, -1.04092899e-02,  3.49439503e-01, -1.51791713e+00,\n",
       "        2.59932863e+00,  8.38750526e-01, -2.91211776e-01, -4.83074011e-01,\n",
       "       -1.80565272e-01,  1.71166741e+00,  6.66812217e-01,  1.19625470e+00,\n",
       "       -1.29286515e+00, -1.18417859e-01, -6.93514762e-01,  5.44730034e-02,\n",
       "       -5.51235019e-01,  7.51679313e-01,  1.09625162e+00, -2.97253400e-01,\n",
       "        1.45727489e-01,  1.89367915e-01,  4.65518484e-01, -5.74468596e-01,\n",
       "       -5.13017802e-01,  2.05870208e-01, -8.48303245e-01, -3.91599931e-01,\n",
       "        8.70247929e-01,  1.30979873e+00, -1.09668223e-01,  1.12097461e+00,\n",
       "       -5.21389537e-01, -1.07763082e+00, -4.23449968e-01,  1.33438249e+00,\n",
       "       -1.57852241e-01,  1.20188830e+00,  1.01854586e+00,  7.76570232e-01,\n",
       "        7.26831390e-01, -6.33889649e-01,  4.43550570e-01, -1.56170907e+00,\n",
       "       -8.78819530e-01,  1.17647888e-01,  2.29163681e-01,  7.70260683e-01,\n",
       "       -1.08818701e+00, -8.57136975e-01, -8.48081076e-01, -6.48967598e-01,\n",
       "        1.05028069e+00, -1.88609726e-01, -2.98699780e-01, -2.07246755e-01,\n",
       "       -2.31964883e-01, -7.77733283e-01,  3.83825111e-01,  8.42348498e-01,\n",
       "        9.64214470e-01, -6.08156460e-01, -1.56860625e+00, -1.84368780e-01,\n",
       "        4.06250438e-01,  7.78874076e-01,  6.20422055e-01, -1.40451979e+00,\n",
       "       -5.49003138e-01, -2.13597177e-02,  1.36210790e+00, -8.19382344e-01,\n",
       "       -9.05877005e-01,  4.69212276e-02, -4.01309970e-01, -7.77523344e-01,\n",
       "        1.03102493e-01,  4.33931971e-01, -7.22947744e-01,  4.09926465e-01,\n",
       "        1.42848497e+00, -1.14329233e+00, -4.25739401e-01,  8.44920763e-01,\n",
       "       -4.83515868e-01, -2.81334219e+00,  3.72879265e-01, -9.92880569e-01,\n",
       "       -1.64908432e+00, -4.95650270e-01, -5.12618166e-01,  2.61205213e-01,\n",
       "        6.09088266e-01, -1.84246849e-01, -1.46795008e+00, -1.18183643e-01,\n",
       "       -1.05245217e+00,  6.81092851e-01, -1.79320668e+00, -5.50581557e-01,\n",
       "        2.74868846e-01,  2.09464155e-02,  9.43019724e-02, -6.58328627e-01,\n",
       "        2.27237915e-01,  1.80605553e-01,  4.20135295e-01, -1.00245298e+00,\n",
       "        2.22198537e+00, -5.20904561e-01,  2.82402199e-01, -6.76692291e-01,\n",
       "       -2.94104668e-01,  2.06167567e-01, -2.75073238e-01,  2.11584346e+00,\n",
       "        1.28876655e+00, -5.56763524e-01, -5.29289297e-01, -8.43528376e-01,\n",
       "       -2.19143476e-01,  6.25029523e-01, -2.53027849e-01, -2.61386768e+00,\n",
       "       -1.47945214e+00, -1.03121690e+00, -1.66368102e+00, -2.22140265e-01,\n",
       "       -2.86657185e-01,  1.75097511e-01, -1.62207432e+00, -1.44637765e-01,\n",
       "        1.61717389e+00, -1.69478574e-01, -9.51691038e-01, -8.42500098e-01,\n",
       "        4.76664342e-01, -3.66042904e-01,  1.32027712e+00, -1.58421912e+00,\n",
       "        5.09484420e-01, -7.84754145e-02,  1.02916863e+00, -5.77627099e-02,\n",
       "        1.44065819e+00,  9.91935333e-01, -7.16607307e-02,  1.13454166e+00,\n",
       "        1.43224665e+00,  1.22015365e+00, -3.31659264e-01,  1.14571189e+00,\n",
       "        1.70439850e+00,  1.58692853e-01, -1.30092100e-01,  1.01001110e+00,\n",
       "        4.89287539e-01,  1.14079169e+00, -7.59517810e-01, -7.14905838e-01,\n",
       "        1.52250809e-01, -6.40453000e-01,  2.14143715e+00,  1.05088645e-01,\n",
       "        1.68317054e+00,  7.17835915e-01,  1.09689532e+00, -5.94518450e-01,\n",
       "        1.04337451e+00,  1.86408714e+00,  1.11929774e+00,  8.89184444e-01,\n",
       "       -4.45623023e-01,  5.77267681e-01, -1.35083728e-01, -2.22891875e+00,\n",
       "        1.27173204e+00,  1.84224258e+00, -2.38356465e-02,  6.63150727e-01,\n",
       "        1.04032306e+00,  5.53249044e-01,  1.95352268e-01,  1.21051375e-01,\n",
       "        3.11907586e-01, -5.66782437e-01,  4.21932219e-01,  1.97085133e+00,\n",
       "       -3.73504330e-01,  6.84774943e-01,  1.00243091e+00, -1.21518723e+00,\n",
       "        4.11617520e-02,  1.56362071e+00,  3.59579849e-02, -6.53422064e-01,\n",
       "        6.65287280e-01,  1.35234652e+00,  9.63852282e-01, -7.59391440e-01,\n",
       "       -1.83487206e+00,  1.10408732e-01,  3.84546609e-01, -1.90287847e+00,\n",
       "        1.88302004e-01,  6.49193171e-01,  7.47604070e-01,  5.26919402e-02,\n",
       "       -5.79182659e-01,  1.53152163e+00,  2.99200365e-01,  1.35798153e-01,\n",
       "        7.05882247e-01, -7.06785224e-01, -1.05900105e+00,  2.64713200e-02,\n",
       "       -1.40997386e+00,  6.02001019e-01,  1.80886610e+00, -4.61872560e-01,\n",
       "       -1.58747365e+00,  5.59101698e-02,  8.42379406e-01, -1.60794400e+00,\n",
       "        7.74531217e-01, -3.87052741e-03,  1.91906383e-01, -1.08852433e+00,\n",
       "       -1.51538422e+00, -3.17811279e-01,  5.50262331e-01, -2.48859617e-01,\n",
       "        8.52421180e-02, -2.79637586e-01,  4.95742420e-01,  9.32499112e-01,\n",
       "       -1.81929611e+00,  4.49744363e-01, -8.77812000e-01, -1.28377442e+00,\n",
       "        1.25024059e+00,  3.92780981e-01,  7.92065383e-01,  3.04439118e-01,\n",
       "        1.23638816e+00,  5.84857123e-01,  3.61755110e-01,  9.54916293e-01,\n",
       "        4.02020703e-01, -1.59661457e+00,  1.22151626e+00, -1.61343197e+00,\n",
       "       -9.37626879e-01, -3.95938132e-01,  4.79159436e-01,  1.43093127e+00,\n",
       "        1.43202681e+00,  1.63174454e+00, -1.14948409e-01,  2.16658800e-01,\n",
       "       -6.85347855e-01, -1.61068397e+00,  5.81888483e-01,  5.93431885e-01,\n",
       "       -2.26849510e-01,  1.76175258e+00,  1.24229011e-01,  1.04127075e+00,\n",
       "       -3.96112213e-01, -9.93420390e-01,  1.01288500e+00, -2.04825485e-01,\n",
       "       -2.39072759e-01,  1.12506683e+00,  1.95596896e-01, -5.94395090e-01,\n",
       "       -3.87357761e-01, -7.72519387e-01, -7.86325741e-01, -1.53931429e+00,\n",
       "       -3.66243215e-01,  1.26502374e+00,  2.03613898e+00, -1.89174484e-01,\n",
       "       -7.83301567e-01,  1.46169789e-01, -4.88470068e-01,  4.19019698e-01,\n",
       "        9.35242881e-01,  2.02556277e-01, -1.65526803e+00,  3.57803025e-01,\n",
       "       -3.99295933e-01,  5.83442695e-01, -2.43164757e+00, -3.15628757e+00,\n",
       "        1.14414543e+00, -2.48198476e-01, -7.51334099e-01,  1.33549381e-01,\n",
       "        1.33468866e+00,  1.21070034e-01, -1.30095212e-01, -1.13848025e+00,\n",
       "        1.20039391e+00,  7.80974361e-01,  3.57760682e-01,  3.03104261e+00,\n",
       "        4.97459942e-01, -1.39392244e+00, -1.20861925e+00,  1.45012472e+00,\n",
       "       -1.12145127e+00, -9.32235189e-01, -7.66161273e-01,  1.91811899e-01,\n",
       "       -1.05248962e+00,  1.10924981e+00, -1.37196781e+00, -1.54695863e-01,\n",
       "       -3.92095076e-01,  1.22189616e-01, -1.83668098e-01,  1.23713543e+00,\n",
       "        1.35102515e+00,  1.05522970e-01,  1.08196858e+00, -6.89338991e-02,\n",
       "       -8.50752527e-01, -1.24720788e+00, -8.32914451e-01, -8.32598138e-01,\n",
       "       -7.04297971e-01,  2.71013689e-01, -2.08286058e+00, -1.97486749e+00,\n",
       "       -8.57046596e-01,  4.51058602e-01, -2.25319809e+00, -1.42402385e+00,\n",
       "       -1.19133774e-01,  6.15401426e-01,  2.53093843e+00,  6.63872418e-01,\n",
       "       -9.99080665e-01,  9.40209907e-01,  5.85035792e-01, -9.56339203e-03,\n",
       "        2.84451807e-01, -2.07245844e-01, -8.19382774e-01, -1.09961981e+00,\n",
       "       -5.37103231e-01, -5.64297817e-01,  8.78618319e-04, -9.56907820e-01,\n",
       "       -1.50588289e-01, -1.68113552e+00, -4.48481010e-01,  2.80086643e+00,\n",
       "        1.56433111e+00, -1.14975210e+00,  2.67727808e-01,  1.74893588e+00,\n",
       "        1.25112159e+00,  8.39381288e-01,  1.75127677e+00,  6.55556124e-01,\n",
       "        3.26339686e+00, -4.15607458e-01,  1.14210362e+00, -1.31750910e+00,\n",
       "       -7.63321828e-01,  2.31251470e-01,  1.83680205e+00, -8.80950716e-01,\n",
       "        1.68644818e+00,  1.55903936e+00,  2.06520584e+00,  2.48748407e-01,\n",
       "       -1.33606049e+00, -6.67389377e-02,  3.35412063e-01, -7.57265825e-01,\n",
       "       -3.66202925e-01, -5.98598328e-03, -1.97887812e-01, -8.78245676e-01,\n",
       "        6.64312227e-01, -6.87790417e-01, -4.56960035e-01,  1.31765292e+00,\n",
       "       -3.66725692e-03, -5.22765694e-01, -1.44638831e+00, -7.68213823e-01,\n",
       "       -2.71154582e-01, -1.84189032e+00,  1.81370303e+00, -9.57451620e-01,\n",
       "        3.82226279e-01,  1.53732037e+00,  5.97739711e-01,  6.78380594e-01,\n",
       "       -8.58472445e-01,  1.07134837e+00, -1.51095825e+00,  3.45545027e-01,\n",
       "       -7.00341915e-01, -1.51910410e+00, -5.29902649e-01, -1.69092419e+00,\n",
       "       -1.95091499e+00,  2.23646240e+00, -6.60704163e-02, -8.98370353e-01,\n",
       "        2.15291560e-01, -7.92376500e-02,  1.64973307e-01,  1.60882236e+00,\n",
       "       -5.84445411e-01, -9.73615005e-02, -5.49027480e-01, -1.12086468e+00,\n",
       "       -1.21605276e+00, -2.16203532e-01, -1.90978092e-01, -5.86804360e-02,\n",
       "        1.51766255e+00, -1.95832589e-01,  2.94714463e-01, -1.17011123e+00,\n",
       "        8.50956853e-01, -7.73188172e-01,  1.98280605e+00, -2.34306407e-01,\n",
       "        2.63383279e-03,  9.07950062e-01, -5.89963289e-01,  4.91154203e-01,\n",
       "       -2.00282030e-01,  1.12227778e+00, -7.45127012e-01,  2.86520686e-02,\n",
       "        1.11781692e+00, -1.26364776e+00, -1.90149259e-02,  4.21632294e-01,\n",
       "       -2.73408149e-01,  7.63324355e-01, -3.10405006e-03,  1.09030478e+00,\n",
       "        3.86134174e-01, -1.85628538e+00,  1.07039177e+00,  1.66698445e-01,\n",
       "        9.03814612e-01,  3.61054941e-01, -4.54696709e-01,  7.57754240e-01,\n",
       "       -1.73182010e-01,  1.92946792e+00, -8.46341828e-03,  5.88189745e-01,\n",
       "       -1.50497667e+00,  1.87734006e+00, -6.64890972e-01, -4.90096222e-01,\n",
       "       -1.77396105e+00,  1.29372466e+00,  3.16636312e-01, -7.22616671e-01,\n",
       "        1.23485285e+00,  1.20824486e+00, -1.55371496e+00,  6.71715419e-02,\n",
       "        1.20568842e+00, -4.46639348e-01,  1.69156790e-01,  5.22717621e-01,\n",
       "       -7.47240326e-01, -6.60600919e-02,  2.38901567e+00,  7.32578234e-01,\n",
       "        2.56471100e-01,  1.95505382e+00,  4.54866842e-01,  3.35230370e-01,\n",
       "        1.12550385e+00, -1.05048654e+00,  3.03854240e-01,  3.46749262e-01,\n",
       "       -2.87454794e-01, -1.23499307e-01,  1.37261418e+00,  1.04472940e+00,\n",
       "        1.74312736e+00,  4.56554558e-01, -5.90087977e-02, -5.11068353e-01,\n",
       "       -6.28504596e-01,  2.73077751e+00, -2.69572419e-01, -7.38245236e-01,\n",
       "       -6.91982712e-02,  1.82514156e+00, -1.15157960e+00, -1.31538663e-01,\n",
       "        1.69225856e+00, -8.43736444e-01,  3.23658373e-01, -9.04356298e-01,\n",
       "       -1.03001827e+00, -8.56343339e-01,  1.38915890e+00, -6.32285147e-02,\n",
       "       -7.77105660e-01,  9.65883038e-01, -3.06030996e-01,  1.97633334e-01,\n",
       "        7.79209417e-01, -1.82062753e+00,  1.64073328e+00, -2.19415762e+00,\n",
       "        4.76440637e-01,  5.01027543e-01, -5.99762753e-01, -8.93624344e-01,\n",
       "       -3.28680891e-01, -1.40532382e+00, -1.86019086e+00, -1.20559678e-01,\n",
       "       -1.36561552e+00,  4.46649677e-01, -4.81228039e-01,  2.86800697e-01,\n",
       "       -6.51182381e-01, -1.28269957e+00, -1.02716356e+00,  9.11485442e-02,\n",
       "       -2.49431536e+00,  3.53802905e-01, -1.16197794e+00, -1.63261941e+00,\n",
       "        3.49449100e-02, -1.41429928e+00,  7.60640352e-01, -3.01766854e-01,\n",
       "        1.00587609e+00, -8.32363985e-02, -1.00767741e+00, -8.13606521e-02,\n",
       "        1.20848957e+00, -3.15481064e-01,  2.32949802e-01,  6.46346808e-01,\n",
       "        9.11897059e-01, -4.59980160e-01, -6.92795374e-01,  7.90410330e-01,\n",
       "        5.17232846e-04,  1.75054610e+00,  9.69727371e-02, -9.85198447e-02,\n",
       "        7.61656537e-01, -3.13480082e-01, -6.60649664e-01, -1.25047744e-01,\n",
       "       -1.31163143e-01,  1.19900902e-01, -7.72503518e-01, -4.43909904e-01,\n",
       "       -1.70760267e+00, -1.33533024e+00, -7.99753611e-01,  4.22067652e-01,\n",
       "       -2.66963833e-01, -3.82055548e-02,  1.44397438e+00,  3.22376171e-01,\n",
       "        6.28472429e-02, -1.89277507e+00, -6.40733001e-01,  1.16446980e+00,\n",
       "       -2.85351624e-01, -6.32575314e-01,  1.44096726e+00, -7.16675145e-02,\n",
       "        6.71252070e-01,  1.86309633e-01,  7.80077824e-01, -6.54242181e-01,\n",
       "        1.89469933e-01, -1.44128610e-01, -6.47565455e-02,  6.70233948e-02,\n",
       "       -5.69448196e-01,  1.43663422e+00, -9.46089221e-01,  1.08986828e+00,\n",
       "        1.49796515e-01,  4.08423690e-01, -1.01466229e-01, -9.02508139e-01,\n",
       "       -5.87647537e-01, -1.44961846e-01,  1.66442024e-01,  1.63634132e+00,\n",
       "       -2.07354636e-01,  3.15486484e-01,  9.24028491e-01, -2.68744427e-01,\n",
       "        9.00674393e-01, -1.37837443e+00, -9.50657186e-02, -1.56695040e-01,\n",
       "        1.07352649e+00, -7.09407691e-01, -7.60494083e-01, -1.12367739e+00,\n",
       "       -1.19983097e+00, -1.82977634e+00, -1.91845400e-01,  2.03127526e+00,\n",
       "       -5.67413525e-01, -4.06281209e-01,  2.24085097e+00, -7.14827302e-01,\n",
       "       -1.96043609e-01,  6.78664935e-01, -7.55817155e-01, -1.08709348e+00,\n",
       "       -1.16297071e+00, -8.40590619e-01, -1.31739775e+00, -9.44975879e-01,\n",
       "       -8.73265915e-01,  1.07581725e+00, -2.58346795e-02,  1.14706364e+00,\n",
       "        1.88896966e+00,  9.21759988e-01,  2.70853278e-01,  1.46851787e+00,\n",
       "        1.65353389e+00,  2.65762104e-01, -5.35937968e-01, -9.13386826e-01,\n",
       "        1.10437470e+00, -1.29932429e+00,  4.24409531e-02,  1.65015738e+00,\n",
       "       -1.13642124e-01,  2.90185042e-01, -2.90684035e-01, -1.16780690e+00,\n",
       "        5.92907792e-01, -8.43434164e-01,  9.76693561e-01,  5.64454341e-01,\n",
       "        4.95268883e-01, -2.82326760e-01,  7.03988923e-01, -8.42216579e-01,\n",
       "       -1.09972082e+00,  4.92241717e-02, -7.88133837e-01,  1.50315924e-01,\n",
       "        8.65984976e-01, -1.85666605e+00, -2.10506177e-01,  8.95993493e-01,\n",
       "        7.18802240e-01,  2.24276963e+00,  1.27024197e+00, -4.99562341e-01,\n",
       "       -1.39820854e-01, -1.99858141e-02, -5.18536548e-01, -7.17785577e-01,\n",
       "        1.94949401e-01,  4.27145133e-01,  7.85882634e-01,  7.92369479e-03,\n",
       "       -2.04307142e+00,  1.29701811e+00, -2.02888479e+00,  1.91120185e+00,\n",
       "        2.18517623e+00, -9.83129160e-01, -4.55852122e-01,  2.22268975e-01,\n",
       "        3.69834973e-01, -7.40153035e-01,  1.33545260e+00,  2.82050849e-01,\n",
       "       -1.04322095e+00, -9.25920993e-04, -1.71630417e+00, -1.35994223e+00,\n",
       "       -4.69590808e-01, -3.11120524e-01,  2.00596720e+00, -1.52204062e+00,\n",
       "        2.19236979e+00,  7.49016562e-01,  1.15806568e+00,  1.11544795e+00,\n",
       "       -6.67292265e-01,  2.75494433e-01,  1.76822496e+00, -1.39679482e+00,\n",
       "        4.92528588e-01, -6.09959461e-01,  1.00654474e+00,  3.12389874e-01,\n",
       "        1.45271434e-01,  6.38941263e-02, -5.55143921e-02, -2.31890105e+00,\n",
       "       -9.90747418e-01, -1.37710339e-02, -2.52257502e-01, -9.90424266e-01,\n",
       "        2.44193241e-01, -5.45385251e-01, -8.67128577e-01, -2.17994225e-01,\n",
       "        1.24054098e-01, -1.24386881e-01, -2.26161310e-01, -6.24782935e-01,\n",
       "       -1.23403825e-01,  5.56750247e-01, -1.90516763e-01,  2.00350024e-01,\n",
       "       -1.28709245e+00, -3.53198852e-02,  1.70288818e+00, -7.24271679e-01,\n",
       "       -5.38342697e-01,  1.09297599e+00,  8.20995640e-01,  1.87898267e-01,\n",
       "       -1.90708089e+00, -1.66206170e+00, -1.10199274e+00, -4.78049198e-01,\n",
       "        1.44543351e+00,  1.03687469e+00, -2.18289122e-01,  6.72616630e-01,\n",
       "       -5.50061496e-01, -3.99611520e-01, -2.29196818e+00,  2.27586068e+00,\n",
       "       -2.42416848e-02,  8.60167530e-01, -6.35644073e-01,  7.42227374e-01,\n",
       "        2.30511377e+00, -1.53007488e-02,  1.16823207e+00, -6.09045113e-01,\n",
       "       -8.81647471e-01,  7.16536671e-02,  6.13840526e-01,  1.28872222e+00,\n",
       "       -7.40848582e-01, -7.91279255e-01,  8.26421532e-01,  4.93811579e-01,\n",
       "        2.29947998e+00,  1.06928849e+00, -1.57677255e+00, -7.26799841e-01,\n",
       "       -7.93254624e-01,  1.12247851e+00,  2.28580883e-01, -5.09650408e-01,\n",
       "        1.31663751e+00,  3.74740363e-01,  1.99576776e+00, -3.98543269e-01,\n",
       "       -2.56070750e-01,  4.42749690e-01,  1.18455316e+00,  3.53160896e-01,\n",
       "       -3.33817014e-01,  8.43306255e-02,  3.42534091e-01, -1.54652741e+00,\n",
       "        8.00303706e-01, -1.44110544e+00, -1.96470079e-01, -8.29309427e-01,\n",
       "       -1.44601175e+00, -2.65801874e+00, -1.00421305e+00,  7.48506737e-01,\n",
       "       -1.32936154e+00,  1.27464953e+00,  1.71193584e+00,  5.85135073e-01,\n",
       "        2.62060556e-01,  3.40835894e-02,  1.30364360e-01, -2.46074289e+00])"
      ]
     },
     "execution_count": 8,
     "metadata": {},
     "output_type": "execute_result"
    }
   ],
   "source": [
    "x = np.random.randn (1000)\n",
    "x"
   ]
  },
  {
   "cell_type": "code",
   "execution_count": 9,
   "metadata": {},
   "outputs": [
    {
     "data": {
      "text/plain": [
       "<function matplotlib.pyplot.show(*args, **kw)>"
      ]
     },
     "execution_count": 9,
     "metadata": {},
     "output_type": "execute_result"
    },
    {
     "data": {
      "image/png": "[encoded data removed]",
      "text/plain": [
       "<matplotlib.figure.Figure at 0x10d0d2278>"
      ]
     },
     "metadata": {
      "needs_background": "light"
     },
     "output_type": "display_data"
    }
   ],
   "source": [
    "%matplotlib inline\n",
    "\n",
    "import matplotlib.pyplot as plt\n",
    "\n",
    "plt.hist(x)\n",
    "plt.show"
   ]
  },
  {
   "cell_type": "markdown",
   "metadata": {},
   "source": [
    "It returns a sample (or samples) from the “standard normal” distribution.\n",
    "\n",
    "**2.2.1 Standard Normal distribution**\n",
    "\n",
    "The Numpy Standard distribution draws samples from a standard Normal distribution with a default mean of 0 and standard deviation of 1 if no arguments are given.\n",
    "\n",
    "In the Normal Distribution, the results are distributed in a continuous way (there are no spaces between bars because a variable can take on any value between two specified values). The standard normal distribution is a special case of the normal distribution. It is the distribution that occurs when a normal random variable has a mean of zero and a standard deviation of one\n",
    "\n",
    "The normal distribution is also known as Gaussian Distribution or bell curve. The Bell Curve refers to the shape that is created when a line is plotted using the data points for an item that meets the criteria of ‘normal distribution’. The center contains the greatest number of a value and therefore would be the highest point on the arc of the line.\n",
    "\n",
    "\n",
    "This point is referred to the mean, but it is the highest number of occurrences of an element (in statistical terms, the mode).\n",
    "\n",
    "The important thing to note about a normal distribution is the curve is concentrated in the center and decreases on either side. The data has less of a tendency to produce unusually extreme values, called outliers, as compared to other distributions. Also, the bell curve signifies that the data is symmetrical and thus we can create expectations as to the possibility that an outcome will lie within a range to the left or right of the center, once we can measure the amount of deviation contained in the data. \n",
    "\n",
    "A bell curve graph depends on two factors: the mean and the standard deviation. The mean identifies the position of the center and the standard deviation determines the height and width of the bell.\n",
    "\n",
    "For example, a large standard deviation creates a bell that is short and wide while a small standard deviation creates a tall and narrow curve. (_Source: https://docs.scipy.org and https://www.thoughtco.com, https://www.casrilanka.com/casl/images/stories/EDBA/chap_8_normal_distribution.pdf, http://www.usc.es/genp/docencia/AnalDatos_New.pdf)"
   ]
  },
  {
   "cell_type": "markdown",
   "metadata": {},
   "source": [
    "*Example in code of the Standard normal distribution*"
   ]
  },
  {
   "cell_type": "code",
   "execution_count": 10,
   "metadata": {},
   "outputs": [
    {
     "data": {
      "text/plain": [
       "array([ 1.36963043,  0.0797581 ,  0.43317356, ...,  0.22286268,\n",
       "        1.08157405, -2.59540171])"
      ]
     },
     "execution_count": 10,
     "metadata": {},
     "output_type": "execute_result"
    }
   ],
   "source": [
    "s = np.random.standard_normal(10000) #getting 10000 of values of the standard normal distribution.\n",
    "# s = is giving the function of getting 10000 of values of the standard normal distribution the name of s.\n",
    "s #calling s to show the results"
   ]
  },
  {
   "cell_type": "code",
   "execution_count": 11,
   "metadata": {},
   "outputs": [
    {
     "data": {
      "text/plain": [
       "<function matplotlib.pyplot.show(*args, **kw)>"
      ]
     },
     "execution_count": 11,
     "metadata": {},
     "output_type": "execute_result"
    },
    {
     "data": {
      "image/png": "[encoded data removed]",
      "text/plain": [
       "<matplotlib.figure.Figure at 0x10cebba58>"
      ]
     },
     "metadata": {
      "needs_background": "light"
     },
     "output_type": "display_data"
    }
   ],
   "source": [
    "%matplotlib inline\n",
    "\n",
    "import matplotlib.pyplot as plt\n",
    "\n",
    "plt.hist(s)\n",
    "plt.show\n",
    "#showing the histogram for the standard normal distribution named s and specified in the code above (10000 values)"
   ]
  },
  {
   "cell_type": "markdown",
   "metadata": {},
   "source": [
    "The experiment above confirms that the standard normal distribution draw samples following the bell shape with most of the values tending to 0 and a standard deviation of 1. The only argument that we can set in standard_normal is the size."
   ]
  },
  {
   "cell_type": "markdown",
   "metadata": {},
   "source": [
    "**2.2.2 Normal distribution**"
   ]
  },
  {
   "cell_type": "markdown",
   "metadata": {},
   "source": [
    "The normal distribution draws random samples from a normal (Gaussian) distribution.\n",
    "\n",
    "The probability density function of the normal distribution is often called the bell curve because of its characteristic shape (see the example below).\n",
    "\n",
    "numpy.random.normal(loc=0.0, scale=1.0, size=None)\n",
    "\n",
    "'Loc' will set the center of the distribution\n",
    "'scale' will set the standard deviation (spread or “width”) of the distribution\n",
    "'Size' will set the number of values generated\n"
   ]
  },
  {
   "cell_type": "code",
   "execution_count": 12,
   "metadata": {},
   "outputs": [
    {
     "data": {
      "text/plain": [
       "array([ 8.46348212, 11.59309582, 10.67190197, ...,  9.6078759 ,\n",
       "       10.75527374,  9.97084529])"
      ]
     },
     "execution_count": 12,
     "metadata": {},
     "output_type": "execute_result"
    }
   ],
   "source": [
    "#normal standard deviation with arguments \n",
    "#10 indicates the mean\n",
    "#1 indicates the standard deviation\n",
    "#10000 is the size, or how many values are given\n",
    "x = np.random.normal (10, 1, 10000)\n",
    "x"
   ]
  },
  {
   "cell_type": "code",
   "execution_count": 13,
   "metadata": {},
   "outputs": [
    {
     "data": {
      "text/plain": [
       "<function matplotlib.pyplot.show(*args, **kw)>"
      ]
     },
     "execution_count": 13,
     "metadata": {},
     "output_type": "execute_result"
    },
    {
     "data": {
      "image/png": "[encoded data removed]",
      "text/plain": [
       "<matplotlib.figure.Figure at 0x11c374898>"
      ]
     },
     "metadata": {
      "needs_background": "light"
     },
     "output_type": "display_data"
    }
   ],
   "source": [
    "%matplotlib inline\n",
    "\n",
    "import matplotlib.pyplot as plt\n",
    "\n",
    "plt.hist(x)\n",
    "plt.show\n",
    "#showing the histogram for the normal distribution named x"
   ]
  },
  {
   "cell_type": "markdown",
   "metadata": {},
   "source": [
    "As can be observed in the example above, defining the arguments in the standard normal distribution sets in the first place the mean, most of the values will be tending to that number. In the example above most of the numbers will be around 10 and 3 standard deviations.\n",
    "The second argument will give the deviation, meaning the size of the bins containing the values; 1 in the example above.\n",
    "The third argument is the size of the function, meaning how many numbers will be generated in the function; in the previous example 10000."
   ]
  },
  {
   "cell_type": "markdown",
   "metadata": {},
   "source": [
    "**2.3 numpy.random.randint**"
   ]
  },
  {
   "cell_type": "markdown",
   "metadata": {},
   "source": [
    "Return random integers from low (inclusive) to high (exclusive).\n",
    "\n",
    "Return random integers from the “discrete uniform” distribution of the specified type in the “half-open” interval [low, high). If high is None (the default), then results are from [0, low)\n",
    "\n",
    "In the following example, we set the hight to 3 and the size to 10. As high is not inclusive the function returns an array of 10 integers (size) of numbers from 0 to 2. 0 is the low parameter set by default and it's inclusive so 0 can be generated but not 3 as it's not inclusive."
   ]
  },
  {
   "cell_type": "code",
   "execution_count": 14,
   "metadata": {},
   "outputs": [
    {
     "data": {
      "text/plain": [
       "array([2, 0, 2, 1, 0, 2, 1, 2, 0, 2])"
      ]
     },
     "execution_count": 14,
     "metadata": {},
     "output_type": "execute_result"
    }
   ],
   "source": [
    "np.random.randint(3, size=10)"
   ]
  },
  {
   "cell_type": "markdown",
   "metadata": {},
   "source": [
    "In the following example, the low is set to 1 (inclusive) and the hight to 3 (not inclusive) so the result will show an array of 10 integers of 1s and 2s."
   ]
  },
  {
   "cell_type": "code",
   "execution_count": 15,
   "metadata": {},
   "outputs": [
    {
     "data": {
      "text/plain": [
       "array([1, 2, 2, 1, 1, 2, 1, 1, 2, 1])"
      ]
     },
     "execution_count": 15,
     "metadata": {},
     "output_type": "execute_result"
    }
   ],
   "source": [
    "np.random.randint(1,3, size=10)"
   ]
  },
  {
   "cell_type": "markdown",
   "metadata": {},
   "source": [
    "The function can also generate multidimensional arrays as in the exampe above."
   ]
  },
  {
   "cell_type": "code",
   "execution_count": 16,
   "metadata": {},
   "outputs": [
    {
     "data": {
      "text/plain": [
       "array([[0, 2, 2, 0],\n",
       "       [1, 0, 2, 0],\n",
       "       [0, 1, 2, 1]])"
      ]
     },
     "execution_count": 16,
     "metadata": {},
     "output_type": "execute_result"
    }
   ],
   "source": [
    "np.random.randint(3, size=(3, 4))"
   ]
  },
  {
   "cell_type": "code",
   "execution_count": 17,
   "metadata": {},
   "outputs": [
    {
     "data": {
      "text/plain": [
       "array([[0, 0, 2, 1],\n",
       "       [1, 2, 2, 2],\n",
       "       [2, 2, 2, 0],\n",
       "       [2, 2, 0, 0],\n",
       "       [2, 2, 2, 1],\n",
       "       [1, 2, 2, 2],\n",
       "       [1, 1, 0, 0],\n",
       "       [2, 0, 1, 2],\n",
       "       [2, 2, 1, 1],\n",
       "       [0, 0, 2, 2]])"
      ]
     },
     "execution_count": 17,
     "metadata": {},
     "output_type": "execute_result"
    }
   ],
   "source": [
    "np.random.randint(3, size=(10, 4))"
   ]
  },
  {
   "cell_type": "code",
   "execution_count": 18,
   "metadata": {},
   "outputs": [
    {
     "data": {
      "text/plain": [
       "array([ 9, 19, 15,  8, 11, 11,  4,  1, 14,  3, 11,  7,  0,  1,  1, 10, 17,\n",
       "       13, 10, 10,  4, 16, 15,  5,  0,  8, 14, 12, 17,  2,  4, 15,  1,  9,\n",
       "        1, 10,  6, 11,  2,  3,  1, 17,  6,  3, 17, 16,  4, 15,  6,  0, 14,\n",
       "       15, 16, 15, 16,  0,  8,  0, 17,  0,  0,  8,  5,  0,  0, 12, 19,  9,\n",
       "       15, 12, 17, 13,  8,  1, 12, 11,  5, 18,  5, 13,  0, 12, 11,  4, 11,\n",
       "       15, 19,  1,  6,  5, 10, 19,  8,  0,  5, 14,  9,  9, 14, 14, 18,  9,\n",
       "        1, 16, 14,  3, 17, 10,  7,  4, 19,  7, 10,  8, 18, 14,  0, 15,  7,\n",
       "        2,  7,  8,  4, 16, 16,  2,  2,  0, 11, 17,  1, 13, 14,  4,  6, 13,\n",
       "        2, 19,  7,  2, 11,  4, 15,  0, 19,  9, 16,  2, 11, 15, 10,  8, 19,\n",
       "        5, 12, 18,  3, 18,  8,  2,  2,  2, 10,  3, 16, 12,  9,  3, 12,  0,\n",
       "        9, 14, 17,  5,  6,  7, 11, 13,  3, 14,  6,  0, 17, 16,  6,  1, 12,\n",
       "        5, 18,  6,  9, 18, 19, 17,  3,  0, 15, 19,  3, 15, 18, 17,  2, 18,\n",
       "        2, 14,  6,  4, 12, 19,  9,  7, 12, 14,  6,  8,  7, 16, 14,  7, 10,\n",
       "        2, 15, 13,  7, 12, 17, 10,  7,  0, 14,  8, 17, 18, 15, 12, 14, 15,\n",
       "       18,  9,  6,  1, 18, 13, 16, 16, 19, 16, 18,  8,  6,  1, 14,  1, 15,\n",
       "        2,  1, 15,  4, 11,  4,  3,  3,  2, 12,  5, 16, 11, 12,  5, 14,  5,\n",
       "       14, 12,  1, 12,  5,  7, 11, 13,  0,  0,  7, 16, 17,  0, 12,  4, 12,\n",
       "        1, 13, 16, 14,  2,  3, 13,  3,  1, 14, 13,  4, 12,  4, 16, 14,  1,\n",
       "        7, 11,  3,  4, 16, 10, 12,  4,  4, 11, 13,  3, 15,  6,  1,  6,  6,\n",
       "       19,  5,  2,  8, 13, 17,  4,  0,  9, 13, 10, 13,  6,  9,  4,  7,  1,\n",
       "        1, 19, 13,  8, 19, 12, 10, 19, 10,  9, 15, 19,  3, 10,  1,  5,  9,\n",
       "       19,  2,  9, 17,  7,  3, 19, 13, 13,  1,  2,  0,  1,  1, 19,  7,  4,\n",
       "       14,  8, 11,  0,  2, 18,  4, 10, 15,  1,  7, 16, 11, 11,  8, 10, 14,\n",
       "        9, 12,  4, 12, 11, 17,  6,  0, 15, 13, 10,  5, 16,  0,  6, 10, 15,\n",
       "        2,  3, 17, 13,  0, 17,  3,  7,  0, 18,  9,  0, 13,  3, 14, 16,  5,\n",
       "       11,  5, 18,  5,  3,  4, 17, 18,  6,  4,  4, 13, 18,  7, 13, 18, 17,\n",
       "        6,  8,  9,  9,  0,  0,  3, 18,  0, 15, 15, 15, 18,  4,  3, 14, 11,\n",
       "       10, 12,  2,  1,  9,  2, 18,  8,  0, 19, 12,  5,  5,  7,  3, 12, 18,\n",
       "        7,  0,  5, 12,  1,  4, 19, 12,  3, 10,  7,  4, 19, 15, 19, 10, 15,\n",
       "       16,  6,  3,  5, 18, 13,  5, 19, 10,  2, 17,  6, 13,  2,  9,  3,  0,\n",
       "       12, 19, 15,  1,  4,  0,  0,  9,  8, 13,  3, 18,  6, 10, 10,  6, 13,\n",
       "       15,  6,  4, 16, 18, 16,  1, 17, 15, 16,  2,  0,  9, 16, 14,  3,  0,\n",
       "        1,  6,  9, 18,  6,  2,  2,  0, 13,  4, 10,  9,  9, 15,  1, 17,  3,\n",
       "       10, 10, 16,  2, 15,  1, 16,  7,  2, 17, 16, 11,  9, 13,  3, 13, 15,\n",
       "        1,  7, 17,  0,  7,  1, 10, 14,  5, 19, 18, 10, 14,  7, 13,  0, 11,\n",
       "       13,  3,  8,  8,  6,  9, 10,  3, 12,  0, 16, 14,  7, 13, 16,  3,  0,\n",
       "       18, 15,  6, 10, 15,  9,  0,  7, 15,  0,  5, 10,  7,  5, 15, 11,  7,\n",
       "        9, 12,  9, 11, 11, 13, 12, 15,  8,  1,  9,  9,  2, 14,  2,  2, 15,\n",
       "        3,  8, 14,  0, 11, 12,  0,  8, 12,  2, 12,  5,  6,  4,  3, 12, 11,\n",
       "        1,  5,  0, 13, 17, 17,  3,  7,  1, 16,  2, 16, 15,  4,  3, 19, 10,\n",
       "        2,  4, 12,  1, 13, 10,  7, 13,  5,  2,  5, 11, 12,  6, 15,  2, 19,\n",
       "        5,  0, 15,  8,  5,  3, 14,  8, 16, 10, 16,  2, 15, 16, 18,  1,  7,\n",
       "       11,  0,  3, 16,  6, 14,  1,  4,  2, 19,  9,  5,  3, 14, 15,  6, 11,\n",
       "        9,  6, 16, 18,  2,  8,  2, 18,  1,  0, 16,  8,  2, 15,  1,  6, 11,\n",
       "       17, 18,  0, 18, 10, 19, 16, 10,  2,  4,  0,  0,  9, 10,  3,  1, 13,\n",
       "       10,  7, 19, 18,  0,  8,  7,  8, 10, 10,  1, 15,  5, 15,  1,  6,  4,\n",
       "       10,  3,  6, 16,  4,  3,  2, 13, 11, 14,  5, 13,  8, 13, 16,  2, 10,\n",
       "       16,  2,  1,  3,  4, 18, 14,  3, 19, 11,  2, 19,  4, 18,  0, 16,  6,\n",
       "       17,  1, 15, 17, 10, 15,  1, 17, 18, 12,  7,  1, 11,  2, 11,  1,  2,\n",
       "       12,  8, 16, 14, 19, 11, 14, 12,  9,  7,  6, 14, 18,  3,  6, 11,  1,\n",
       "        4,  6,  1,  0,  5, 18,  2,  6, 14,  7,  5,  6, 13, 11,  9,  3,  8,\n",
       "        8,  5,  6, 14,  8,  9,  1, 13, 12, 13,  2,  9,  8, 17, 12, 10, 15,\n",
       "       13,  3, 17, 19,  9, 15,  3, 12,  1,  6, 18, 11,  3, 16, 12,  6, 17,\n",
       "        2,  1,  1,  9,  3, 17,  6, 17, 15, 12, 11, 10, 12,  6, 14, 10,  4,\n",
       "        4,  1,  4,  8,  5,  7,  5,  9,  7,  6, 14,  2, 10, 11,  4,  3,  6,\n",
       "       11,  4, 13,  6, 14,  6,  5,  6, 12,  4,  8, 17, 14, 14, 17, 10, 15,\n",
       "        4, 13,  8, 15,  5, 10, 17,  0,  4,  9,  5, 16, 14,  5, 18,  2,  9,\n",
       "        0,  7, 15, 11, 14, 16,  8,  6,  1,  8,  9, 17, 12,  2,  1, 18,  8,\n",
       "        3,  6,  1, 10,  9, 15,  4, 18, 13, 17, 14, 19, 12,  6])"
      ]
     },
     "execution_count": 18,
     "metadata": {},
     "output_type": "execute_result"
    }
   ],
   "source": [
    "x = np.random.randint (20, size=(1000))\n",
    "x"
   ]
  },
  {
   "cell_type": "code",
   "execution_count": 19,
   "metadata": {},
   "outputs": [
    {
     "data": {
      "text/plain": [
       "<function matplotlib.pyplot.show(*args, **kw)>"
      ]
     },
     "execution_count": 19,
     "metadata": {},
     "output_type": "execute_result"
    },
    {
     "data": {
      "image/png": "[encoded data removed]",
      "text/plain": [
       "<matplotlib.figure.Figure at 0x11c44dba8>"
      ]
     },
     "metadata": {
      "needs_background": "light"
     },
     "output_type": "display_data"
    }
   ],
   "source": [
    "%matplotlib inline\n",
    "\n",
    "import matplotlib.pyplot as plt\n",
    "\n",
    "plt.hist(x)\n",
    "plt.show"
   ]
  },
  {
   "cell_type": "markdown",
   "metadata": {},
   "source": [
    "We can conclude from the representation in the histogram above, the result is random integers from low (inclusive) to high (exclusive) following the uniform distribution. "
   ]
  },
  {
   "cell_type": "markdown",
   "metadata": {},
   "source": [
    "\n",
    "\n",
    "**2.3.1 Uniform distribution**\n",
    "\n",
    "The uniform distribution generates random numbers and that every one of them has the same chance of being the generated. In the uniform distribution, we can set the interval of it setting them as arguments within the function. The low value is included but the high value is excluded [low, high). See the example above. The third argument in the function is the sample size. It will determine the number of values that will result in the array.\n",
    "\n",
    "A uniform distribution can be continuous or discrete. * Go to section 5.1 to obtain more detail about continuous and discrete distributions.\n",
    "\n",
    "Related to numpy.random.randint, this function generates random numbers following the discrete uniform distribution. In probability theory and statistics, the discrete uniform distribution is a symmetric probability distribution whereby a finite number of values are equally likely to be observed; every one of n values has equal probability 1/n. Another way of saying \"discrete uniform distribution\" would be \"a known, finite number of outcomes equally likely to happen\". (Source: https://docs.scipy.org and Wikipedia)\n",
    "\n",
    "The difference between the uniform distribution and the standard normal distribution is that the Standard Normal distribution is represented in a “bell-shaped” frequency - high occurrence of values in the middle and gradually lower occurrence as you go towards the ends.\n",
    "\n",
    "Uniform distribution is uniform - equal height for all values which shows a flat shaped picture. Example the histogram represented above https://math.stackexchange.com/"
   ]
  },
  {
   "cell_type": "code",
   "execution_count": 20,
   "metadata": {},
   "outputs": [
    {
     "data": {
      "text/plain": [
       "True"
      ]
     },
     "execution_count": 20,
     "metadata": {},
     "output_type": "execute_result"
    }
   ],
   "source": [
    "l = np.random.uniform(-1,0,1000) # -1 being the lowest number and 0 being the higher number, the size of the sample being 1000\n",
    "np.all(l >= -1) #checks that all the values are higher than -1 (the lower value allowed) \n",
    "#np.all is a method that processes an array\n"
   ]
  },
  {
   "cell_type": "code",
   "execution_count": 21,
   "metadata": {},
   "outputs": [
    {
     "data": {
      "text/plain": [
       "False"
      ]
     },
     "execution_count": 21,
     "metadata": {},
     "output_type": "execute_result"
    }
   ],
   "source": [
    "l = np.random.uniform(-2,0,1000) \n",
    "np.all(l >= -1) #checks that all the values are higher than -1. In that case returns false as the lowest value has been modified to -2\n"
   ]
  },
  {
   "cell_type": "code",
   "execution_count": 22,
   "metadata": {},
   "outputs": [
    {
     "data": {
      "image/png": "[encoded data removed]",
      "text/plain": [
       "<matplotlib.figure.Figure at 0x11c465080>"
      ]
     },
     "metadata": {
      "needs_background": "light"
     },
     "output_type": "display_data"
    }
   ],
   "source": [
    "s = np.random.uniform(-1,0,1000) \n",
    "\n",
    "import matplotlib.pyplot as plt\n",
    "count, bins, ignored = plt.hist(s, 15, density=True)\n",
    "plt.plot(bins, np.ones_like(bins), linewidth=2, color='r')\n",
    "plt.show() #Display the histogram of the samples, along with the probability density function"
   ]
  },
  {
   "cell_type": "markdown",
   "metadata": {},
   "source": [
    "Note: Probability desnsity function is the notion of being close to a number. *(Source: https://mathinsight.org/probability_density_function_idea)"
   ]
  },
  {
   "cell_type": "markdown",
   "metadata": {},
   "source": [
    "**2.4 numpy.random.random_integers**\n",
    "\n",
    "This function has been deprecated. Scipy ducumentation advices to use randint instead."
   ]
  },
  {
   "cell_type": "markdown",
   "metadata": {},
   "source": [
    "**2.5 numpy.random.random_sample**"
   ]
  },
  {
   "cell_type": "markdown",
   "metadata": {},
   "source": [
    "Return random floats in the half-open interval [0.0, 1.0).\n",
    "\n",
    "Results are from the “continuous uniform” distribution over the stated interval. "
   ]
  },
  {
   "cell_type": "code",
   "execution_count": 23,
   "metadata": {},
   "outputs": [
    {
     "data": {
      "text/plain": [
       "0.1765897276351186"
      ]
     },
     "execution_count": 23,
     "metadata": {},
     "output_type": "execute_result"
    }
   ],
   "source": [
    "np.random.random_sample()"
   ]
  },
  {
   "cell_type": "markdown",
   "metadata": {},
   "source": [
    "In the example above, as no argument is set, the funtion generates a single float between 0 inclusive and 1 exclusive.\n",
    "The code below helps us to identify the type of value that the function generates."
   ]
  },
  {
   "cell_type": "code",
   "execution_count": 24,
   "metadata": {},
   "outputs": [
    {
     "data": {
      "text/plain": [
       "float"
      ]
     },
     "execution_count": 24,
     "metadata": {},
     "output_type": "execute_result"
    }
   ],
   "source": [
    "type(np.random.random_sample())"
   ]
  },
  {
   "cell_type": "markdown",
   "metadata": {},
   "source": [
    "The following example sets the size to 5, so the result is an aray of 5 floats all between 0 inclusive and 1 exclusive (default in the function)."
   ]
  },
  {
   "cell_type": "code",
   "execution_count": 25,
   "metadata": {},
   "outputs": [
    {
     "data": {
      "text/plain": [
       "array([0.1778719 , 0.39817181, 0.14582194, 0.03853027, 0.32166487])"
      ]
     },
     "execution_count": 25,
     "metadata": {},
     "output_type": "execute_result"
    }
   ],
   "source": [
    "np.random.random_sample((5,))"
   ]
  },
  {
   "cell_type": "markdown",
   "metadata": {},
   "source": [
    "To sample an interval different to the default this function needs to be set with the following: \n",
    "the Unif[a, b), b > a multiply the output of random_sample by (b-a) and add a.\n",
    "\n",
    "See the example below (a=low= 3 (inclusive), b=high =5 (exclusive)):\n",
    "\n",
    "5-3 * function + 3"
   ]
  },
  {
   "cell_type": "code",
   "execution_count": 26,
   "metadata": {},
   "outputs": [
    {
     "data": {
      "text/plain": [
       "array([[4.67789229, 3.69031193],\n",
       "       [4.44707218, 4.85350634],\n",
       "       [3.77234733, 4.67045935]])"
      ]
     },
     "execution_count": 26,
     "metadata": {},
     "output_type": "execute_result"
    }
   ],
   "source": [
    "2* np.random.random_sample((3, 2)) + 3"
   ]
  },
  {
   "cell_type": "code",
   "execution_count": 27,
   "metadata": {},
   "outputs": [
    {
     "data": {
      "text/plain": [
       "array([4.57699101, 3.6740155 , 3.0119746 , 4.09620198, 3.86346701,\n",
       "       3.04462362, 3.72301425, 3.75168223, 4.97655845, 3.49752356,\n",
       "       4.58077535, 3.05192934, 4.62567074, 4.24834013, 3.04807488,\n",
       "       3.12850369, 4.91187136, 4.41434088, 3.17458366, 3.45420492,\n",
       "       3.35111122, 4.83997476, 4.52560729, 4.15192838, 3.80549229,\n",
       "       4.72217022, 3.6371498 , 3.0222454 , 3.28901938, 3.58454995,\n",
       "       4.26697082, 4.78962106, 3.03506251, 3.98965731, 3.04966571,\n",
       "       3.43944381, 4.42055478, 4.66911339, 3.42472009, 4.75010643,\n",
       "       3.57067346, 4.56467139, 4.5193051 , 4.80934291, 4.15383146,\n",
       "       3.56997822, 3.63201653, 4.99179808, 3.95036958, 3.84698426,\n",
       "       4.67508166, 3.03580345, 4.6179109 , 4.28431595, 3.39513689,\n",
       "       3.15970144, 4.99441802, 3.03779214, 4.67602644, 4.62522163,\n",
       "       3.9998072 , 4.78621545, 3.65490019, 4.57417167, 4.36303399,\n",
       "       4.97268967, 3.67239772, 3.03035944, 4.15102716, 4.19610761,\n",
       "       3.98288928, 3.63964981, 4.88093873, 4.714229  , 4.72452563,\n",
       "       3.77333876, 4.08015588, 4.18697636, 4.37855249, 4.60944843,\n",
       "       4.371721  , 3.5158812 , 4.50383552, 4.55330057, 3.51521945,\n",
       "       3.28886967, 3.72445076, 4.22320236, 3.85483974, 4.96161056,\n",
       "       4.80883364, 3.53952237, 4.7744076 , 3.64032556, 4.68044372,\n",
       "       3.80349802, 4.52891108, 4.6936742 , 4.58347232, 4.5718111 ,\n",
       "       3.29729914, 3.53453666, 3.57177228, 3.41502714, 4.3890089 ,\n",
       "       4.76803654, 3.69257362, 3.02133305, 4.47268001, 4.82364699,\n",
       "       4.45886017, 4.01923304, 4.42344167, 3.45894831, 4.67793454,\n",
       "       4.96266061, 4.91980074, 4.15519547, 3.48348309, 3.54245536,\n",
       "       3.27126718, 3.64962406, 4.70074069, 3.82956089, 3.59058385,\n",
       "       4.80930982, 3.0826537 , 3.04751335, 3.70053118, 4.05310247,\n",
       "       4.75734289, 3.27959741, 4.15557241, 3.48980513, 3.61264613,\n",
       "       4.06092156, 3.05951796, 4.37473054, 3.73942136, 4.82404951,\n",
       "       3.12177883, 3.77009483, 4.708212  , 4.41196297, 3.50213469,\n",
       "       3.28833612, 4.42871721, 4.29930255, 3.13569852, 3.61750902,\n",
       "       3.50651968, 3.08974049, 3.72390458, 3.34076621, 3.40791829,\n",
       "       3.20711285, 3.25286229, 4.53221282, 4.97016827, 4.83296708,\n",
       "       4.44654601, 4.91446765, 3.52641405, 3.52711495, 3.05765207,\n",
       "       3.19454238, 4.73007693, 4.67970329, 3.59932969, 3.11174434,\n",
       "       4.86606316, 3.47017334, 3.71276548, 4.89846806, 4.38398227,\n",
       "       3.99206933, 4.55874485, 3.15208084, 3.58088154, 4.91363527,\n",
       "       3.24667338, 3.26960475, 3.41895664, 4.274159  , 3.91346733,\n",
       "       4.90741116, 4.5941411 , 3.57455181, 4.30727803, 4.31056098,\n",
       "       3.31676151, 3.19034453, 4.4195238 , 3.38977584, 3.9226071 ,\n",
       "       4.45980433, 3.96574732, 3.96118094, 4.05299727, 4.75755637,\n",
       "       3.02900054, 4.61926717, 3.68258216, 4.18503756, 3.85179942,\n",
       "       3.81613351, 3.82359095, 4.51667477, 4.17644171, 3.79298354,\n",
       "       3.57459503, 3.3421127 , 4.71733058, 3.48460337, 3.08916024,\n",
       "       3.86608694, 4.47302795, 4.22995597, 3.17579919, 3.56398935,\n",
       "       4.22382972, 3.98336938, 3.69899277, 3.57755626, 3.12814338,\n",
       "       4.82699951, 3.32106782, 3.42729899, 3.29608178, 4.48580336,\n",
       "       4.31745339, 3.38931512, 4.17997253, 3.03399059, 3.66851111,\n",
       "       4.89915006, 3.4320591 , 3.21001182, 3.85999754, 4.71966138,\n",
       "       4.60973839, 4.55977604, 3.74690927, 4.95893967, 3.72325499,\n",
       "       4.07359361, 3.77848171, 3.37680331, 3.16903991, 4.14637816,\n",
       "       3.98076389, 3.24672895, 3.64392482, 3.83756724, 3.40788854,\n",
       "       3.45292046, 4.95957798, 3.48350966, 4.28550307, 3.98030634,\n",
       "       4.31256202, 4.18576888, 4.59247275, 4.73194089, 4.71173005,\n",
       "       3.94482736, 3.62996634, 4.15831777, 4.23046263, 4.36329432,\n",
       "       3.2644227 , 4.07117144, 4.25000154, 4.60459154, 4.37310335,\n",
       "       3.61784526, 4.22464344, 3.81851671, 3.65956951, 3.98646525,\n",
       "       3.17053444, 4.50144109, 4.55787201, 4.78437578, 3.1250613 ,\n",
       "       3.52280591, 4.1557303 , 3.58110778, 3.42490754, 4.49679934,\n",
       "       3.7964629 , 3.89618778, 4.8798415 , 3.67941034, 3.93343666,\n",
       "       4.75077715, 4.05928548, 3.01508596, 3.61428892, 3.67636849,\n",
       "       4.60742488, 3.21139337, 4.74488044, 4.87391396, 3.21597118,\n",
       "       4.90353824, 3.19564904, 3.54314565, 4.94696468, 4.14822613,\n",
       "       4.04645534, 4.68982678, 3.56970034, 4.67912522, 3.6401669 ,\n",
       "       4.78774156, 3.97636305, 4.20607639, 3.37541171, 4.31154671,\n",
       "       4.10194991, 4.74461917, 4.166082  , 4.62043096, 3.17121066,\n",
       "       3.45457433, 3.65489061, 4.93922541, 3.76713882, 4.88181444,\n",
       "       3.99072934, 4.5576654 , 4.49259469, 4.99908486, 3.90711212,\n",
       "       4.03740848, 3.40451362, 3.91764782, 3.35270228, 3.10367948,\n",
       "       4.30945062, 3.07072105, 3.45301783, 4.20917365, 4.2811447 ,\n",
       "       3.23199237, 4.55125944, 3.03229617, 3.96387905, 4.47791197,\n",
       "       3.77271788, 3.98042931, 4.5570722 , 3.79116249, 4.43953752,\n",
       "       4.3900556 , 4.55091474, 3.14462943, 3.47714106, 3.72723558,\n",
       "       4.0676482 , 4.43784186, 4.17697364, 4.58440687, 3.4354618 ,\n",
       "       4.69494197, 4.28040309, 4.85307443, 4.24015187, 3.3455421 ,\n",
       "       3.52869705, 3.80999123, 3.9611473 , 3.9642369 , 3.88917651,\n",
       "       3.95112662, 3.90693842, 4.76642283, 4.31912213, 3.48962226,\n",
       "       3.27674928, 4.41422359, 4.89810643, 4.16878272, 4.50301399,\n",
       "       4.00854309, 4.09408842, 4.52293302, 4.2435592 , 3.74399818,\n",
       "       4.76935042, 3.88105725, 3.26718291, 3.93292549, 3.93030851,\n",
       "       4.90574024, 3.50912106, 3.16200859, 4.75038758, 4.77276751,\n",
       "       3.33934809, 4.03092309, 3.09573148, 4.07024345, 4.88716399,\n",
       "       4.87797391, 4.64220919, 3.10005882, 3.57336936, 4.37391251,\n",
       "       4.94413748, 4.80902707, 3.64815098, 4.68987267, 4.71053628,\n",
       "       4.77473578, 4.94968896, 4.56933353, 4.29298205, 4.94676712,\n",
       "       4.13692761, 4.46168273, 3.43500682, 3.17970224, 4.09666218,\n",
       "       4.35729723, 3.33533705, 4.72694998, 3.65124062, 3.38660287,\n",
       "       3.25853679, 3.53326859, 4.67661126, 4.02417877, 3.09868575,\n",
       "       3.75739859, 3.63803298, 4.08883948, 3.19889406, 4.47901856,\n",
       "       4.91808063, 3.13535811, 3.8545472 , 4.37286518, 4.4546164 ,\n",
       "       3.80831943, 3.33796323, 3.31168383, 4.73131383, 4.41643718,\n",
       "       3.35260575, 3.47536247, 4.05339474, 3.47394133, 4.95459789,\n",
       "       3.12272676, 3.97000001, 3.10772555, 4.33862662, 4.4286246 ,\n",
       "       3.75638105, 4.93736644, 4.77738256, 3.76966416, 3.99166554,\n",
       "       3.13363483, 4.72221462, 4.9431162 , 3.29763772, 4.26180973,\n",
       "       4.22815229, 3.70796042, 3.00762979, 3.55162556, 3.59111957,\n",
       "       3.31682703, 3.09084679, 3.93817883, 4.83440426, 4.69528869,\n",
       "       3.79590716, 4.22664595, 4.0215157 , 4.15617318, 3.54009957,\n",
       "       4.4160292 , 4.09827263, 4.0918819 , 4.00234099, 3.06218149,\n",
       "       3.12870253, 3.18691351, 4.89842853, 3.24306271, 3.61910343,\n",
       "       4.9434238 , 4.28825503, 4.53626946, 3.77036144, 4.55231151,\n",
       "       4.39502738, 3.15538121, 4.222084  , 3.8480378 , 4.99903466,\n",
       "       3.15104972, 3.4741966 , 4.9052116 , 4.47024255, 3.49977844,\n",
       "       4.51488319, 4.29429054, 3.40311437, 3.05805267, 3.04293599,\n",
       "       3.6786135 , 3.83825107, 4.21975866, 4.39133458, 3.32276008,\n",
       "       3.2624394 , 3.31472191, 3.83887929, 4.12495763, 4.5026985 ,\n",
       "       4.85202055, 4.13270235, 3.63090397, 3.83850197, 4.213746  ,\n",
       "       4.38007398, 3.22287312, 3.62333474, 3.23448339, 4.17324756,\n",
       "       4.05977599, 3.50972086, 4.85471802, 3.26576875, 3.90870703,\n",
       "       3.27102247, 4.07940786, 3.06526078, 4.6349798 , 4.15915042,\n",
       "       3.15896115, 4.02145273, 4.36225238, 4.80814908, 4.60883925,\n",
       "       4.10048106, 3.54977995, 4.41681597, 3.22307717, 4.71023352,\n",
       "       3.55693759, 3.86142537, 3.7303019 , 4.72439947, 4.74278603,\n",
       "       3.66494116, 4.87407645, 4.89831885, 3.792129  , 3.10013217,\n",
       "       3.32441668, 4.31333982, 4.10888637, 4.86191776, 3.74312518,\n",
       "       4.67851744, 4.39454555, 3.71201832, 3.33082931, 4.05651495,\n",
       "       3.75140926, 4.53972271, 4.53926712, 4.18878781, 3.62325891,\n",
       "       3.73912675, 3.33371693, 4.51810292, 3.95559652, 4.51244448,\n",
       "       3.35958214, 4.37803165, 4.29258089, 4.40109066, 4.98100166,\n",
       "       4.10629694, 3.85386067, 3.52216267, 4.96796249, 4.61677419,\n",
       "       4.79678439, 4.43157896, 4.12425311, 3.89428417, 3.80022567,\n",
       "       3.79171265, 3.73124654, 3.2814188 , 3.58841544, 4.60865989,\n",
       "       4.9023523 , 3.64178384, 3.63637716, 3.30566957, 4.86424758,\n",
       "       3.77087311, 3.24229969, 4.24699285, 4.96343954, 4.20618527,\n",
       "       3.13375422, 4.5927449 , 3.96597039, 4.39868365, 3.84345198,\n",
       "       4.85938357, 4.13709814, 4.1360364 , 3.35721632, 3.85084178,\n",
       "       3.16056231, 3.89458316, 4.81095099, 4.78801814, 4.24123293,\n",
       "       3.41945697, 3.32638863, 4.43797627, 4.00049731, 4.6986285 ,\n",
       "       3.3023558 , 3.94983255, 3.07990286, 4.85149395, 3.03073955,\n",
       "       4.57981505, 3.2611949 , 3.86238548, 4.52930905, 3.78272453,\n",
       "       3.31501063, 4.97605004, 4.68782994, 3.54005574, 3.16827515,\n",
       "       4.82690428, 4.53589817, 3.94679642, 4.67291184, 3.08383969,\n",
       "       4.04358195, 3.89304278, 4.85390514, 4.2133383 , 3.63226951,\n",
       "       4.46778723, 4.65361109, 4.37609316, 4.5809437 , 4.94230896,\n",
       "       3.10027301, 4.78283088, 3.06078923, 3.23478319, 3.55717349,\n",
       "       3.05364918, 3.77019778, 3.7309855 , 4.50537945, 4.58683703,\n",
       "       3.29435588, 4.66955629, 3.8306753 , 3.62926953, 4.21849466,\n",
       "       3.80064393, 4.16802532, 4.88679283, 3.27561512, 4.17001123,\n",
       "       4.83782069, 4.24610661, 4.86512368, 3.81699962, 4.26484711,\n",
       "       3.56890694, 4.12309857, 4.32255733, 3.02991133, 3.92416011,\n",
       "       4.91234477, 4.31515744, 3.48236639, 4.44063256, 4.90207174,\n",
       "       4.05918104, 3.35894857, 3.94839085, 4.76891568, 4.91816276,\n",
       "       3.18232207, 4.94333097, 3.45598465, 3.8348752 , 4.06424399,\n",
       "       4.68159784, 4.57626557, 4.46793985, 4.67928434, 3.14131831,\n",
       "       3.01445768, 4.10586495, 4.10873755, 4.83829493, 3.25475642,\n",
       "       4.93910404, 4.81922048, 4.19635256, 4.9464569 , 3.61325542,\n",
       "       4.30041412, 4.11183218, 4.67429469, 4.29584196, 3.32665444,\n",
       "       4.49122409, 4.41039168, 4.73334362, 4.94772004, 3.16777416,\n",
       "       3.87979247, 4.65980221, 4.6576847 , 3.27730277, 4.0936268 ,\n",
       "       4.10899866, 4.85214746, 4.59103094, 3.43495827, 4.68524712,\n",
       "       3.11436625, 3.33427298, 3.93325904, 4.10818406, 4.05150187,\n",
       "       3.64070955, 3.81858252, 4.63083727, 3.11185985, 3.06942242,\n",
       "       3.60535231, 3.00273287, 4.07803541, 3.17353321, 3.09697599,\n",
       "       3.40824327, 4.09175038, 4.32064556, 3.49220338, 3.35121485,\n",
       "       3.37167653, 4.01990439, 3.48550076, 3.22747611, 4.85569859,\n",
       "       4.54258468, 3.64836493, 3.53880832, 3.59995006, 4.29807065,\n",
       "       4.2734008 , 3.47714257, 3.33630474, 4.60392413, 4.08364172,\n",
       "       4.97410035, 3.51206208, 3.64599899, 4.61694379, 3.70225007,\n",
       "       4.60905435, 4.57899987, 3.3243521 , 4.72375524, 3.63938615,\n",
       "       4.95309198, 3.86868639, 3.90314772, 3.15985632, 3.25402652,\n",
       "       3.01956329, 3.11841248, 4.65180747, 4.80518118, 3.65793864,\n",
       "       3.79036953, 4.61261669, 3.64896292, 4.44084499, 3.69923621,\n",
       "       3.48824316, 4.02744842, 3.21516856, 4.44548052, 3.69564694,\n",
       "       3.63608782, 4.26953759, 4.23331913, 4.76144397, 3.88279544,\n",
       "       3.21078119, 3.49332757, 4.88362264, 3.45693789, 3.13298843,\n",
       "       3.19393769, 3.58563616, 4.27361294, 3.67766189, 3.6676702 ,\n",
       "       3.04550284, 4.67208565, 3.1330094 , 4.81981865, 3.86641125,\n",
       "       3.92202516, 3.43315364, 3.83635662, 4.42131945, 3.28244215,\n",
       "       3.8220334 , 4.29181624, 3.07985806, 4.07863479, 4.09097254,\n",
       "       4.43179282, 4.66586747, 4.82241959, 4.08546467, 4.08193334,\n",
       "       3.2040285 , 3.82982268, 4.11328197, 3.70221095, 3.65089945,\n",
       "       4.69252088, 3.59247561, 3.82941279, 3.35084466, 3.84682796,\n",
       "       4.67640231, 4.5938144 , 4.57834139, 4.11318029, 3.62497015,\n",
       "       4.83925255, 4.77773084, 4.2771639 , 4.21934595, 4.95367026,\n",
       "       3.88575243, 4.29052921, 4.4469855 , 4.22361327, 3.17801473,\n",
       "       4.80715904, 4.76921485, 3.88786084, 3.86891148, 4.75843683,\n",
       "       3.55087394, 3.91772709, 3.06749688, 3.37373967, 4.92661368,\n",
       "       3.63828896, 4.34390169, 4.67984685, 3.94155729, 4.89430344,\n",
       "       4.80236554, 3.12085494, 3.67842773, 3.59897403, 4.68012902,\n",
       "       4.48780762, 4.19199233, 3.40024202, 3.97166008, 3.85049124,\n",
       "       4.95604134, 3.4805428 , 3.9683407 , 3.18890286, 4.12061479,\n",
       "       3.78658078, 4.93072512, 3.11072531, 4.39616693, 4.10533105,\n",
       "       4.17620417, 4.68703456, 3.69452994, 3.1719478 , 4.59061723,\n",
       "       4.8779639 , 4.75959009, 4.72015289, 4.47323268, 4.16479644,\n",
       "       3.29952304, 3.63295924, 3.84778681, 4.28719075, 4.21630795,\n",
       "       3.28491705, 4.75906395, 4.15651464, 3.80769885, 3.23009675,\n",
       "       4.46401821, 3.07322446, 4.63151045, 3.84769562, 3.84323441,\n",
       "       3.24272204, 3.27784406, 3.64827813, 4.88603506, 3.79437962,\n",
       "       4.19032165, 3.05377886, 3.55451396, 4.45776265, 4.94300711,\n",
       "       4.54368403, 3.80505239, 4.31616774, 4.14518271, 3.74719398,\n",
       "       3.75274879, 3.80530705, 3.03811333, 4.89710762, 4.393169  ,\n",
       "       4.89952435, 3.46013159, 4.43933821, 3.14938878, 3.69625356,\n",
       "       4.1612436 , 3.47515378, 3.62609391, 4.05778665, 4.29056436,\n",
       "       4.98010029, 3.48500085, 3.19544438, 3.65934062, 4.47648861,\n",
       "       4.53146685, 4.74276486, 4.66486362, 4.14399744, 4.6084469 ,\n",
       "       4.71172406, 3.36087845, 3.65940905, 3.39105013, 4.15253464,\n",
       "       4.85434714, 3.65770189, 4.47801301, 3.10217507, 3.12022106,\n",
       "       4.87801486, 4.119706  , 4.6534958 , 4.94270367, 4.00083494,\n",
       "       4.54649004, 3.99519549, 3.31476112, 4.91026439, 3.35230399,\n",
       "       4.15471182, 3.05392806, 3.90611946, 4.6161313 , 4.85310924,\n",
       "       3.77924347, 4.23319536, 4.94325536, 4.8820759 , 3.14956692])"
      ]
     },
     "execution_count": 27,
     "metadata": {},
     "output_type": "execute_result"
    }
   ],
   "source": [
    "x = 2* np.random.random_sample((1000)) + 3\n",
    "x"
   ]
  },
  {
   "cell_type": "code",
   "execution_count": 28,
   "metadata": {},
   "outputs": [
    {
     "data": {
      "text/plain": [
       "<function matplotlib.pyplot.show(*args, **kw)>"
      ]
     },
     "execution_count": 28,
     "metadata": {},
     "output_type": "execute_result"
    },
    {
     "data": {
      "image/png": "[encoded data removed]",
      "text/plain": [
       "<matplotlib.figure.Figure at 0x11c47c9b0>"
      ]
     },
     "metadata": {
      "needs_background": "light"
     },
     "output_type": "display_data"
    }
   ],
   "source": [
    "%matplotlib inline\n",
    "\n",
    "import matplotlib.pyplot as plt\n",
    "\n",
    "plt.hist(x)\n",
    "plt.show"
   ]
  },
  {
   "cell_type": "markdown",
   "metadata": {},
   "source": [
    "As can be observed in the histogram this function returns random floats in a half-open interval (in the case above 3 inclusive 5 exclusive).\n",
    "\n",
    "Results are from the “continuous uniform” distribution over the stated interval. In probability theory and statistics, the continuous uniform distribution or rectangular distribution is a family of symmetric probability distributions such that for each member of the family, all intervals of the same length on the distribution's support are equally probable. The support is defined by the two parameters, a and b, which are its minimum and maximum values. The distribution is often abbreviated U(a,b). It is the maximum entropy probability distribution for a random variate X under no constraint other than that it is contained in the distribution's support. (_Source: https://docs.scipy.org and Wikipedia).\n",
    "\n",
    "Continuous distribution:\n",
    "An idealized random number generator would be considered a continuous uniform distribution. With this type of distribution, every variable has an equal opportunity of appearing, yet there are a continuous (or possibly infinite) number of points that can exist. (_Source: https://www.investopedia.com/)"
   ]
  },
  {
   "cell_type": "markdown",
   "metadata": {},
   "source": [
    "**2.6 numpy.random.random**\n",
    "\n",
    "Based on Scipy.org the numpy.random.random there is no difference between this function and numpy.random.random_sample"
   ]
  },
  {
   "cell_type": "markdown",
   "metadata": {},
   "source": [
    "**2.7 numpy.random.ranf**\n",
    "\n",
    "Based on Scipy.org thenumpy.random.ranf there is no difference between this function and numpy.random.random_sample"
   ]
  },
  {
   "cell_type": "markdown",
   "metadata": {},
   "source": [
    "**2.8 numpy.random.sample**\n",
    "\n",
    "Based on Scipy.org thenumpy.random.sample there is no difference between this function and numpy.random.random_sample described above."
   ]
  },
  {
   "cell_type": "markdown",
   "metadata": {},
   "source": [
    "**2.9 numpy.random.choice**"
   ]
  },
  {
   "cell_type": "code",
   "execution_count": 29,
   "metadata": {},
   "outputs": [
    {
     "data": {
      "text/plain": [
       "array([2, 4, 0])"
      ]
     },
     "execution_count": 29,
     "metadata": {},
     "output_type": "execute_result"
    }
   ],
   "source": [
    "np.random.choice(5, 3)\n",
    "#Per Scipy documentation equivalent to np.random.randint(0,5,3)"
   ]
  },
  {
   "cell_type": "code",
   "execution_count": 30,
   "metadata": {},
   "outputs": [
    {
     "data": {
      "text/plain": [
       "array([0, 3, 0])"
      ]
     },
     "execution_count": 30,
     "metadata": {},
     "output_type": "execute_result"
    }
   ],
   "source": [
    "np.random.choice(5, 3, p=[0.1, 0, 0.3, 0.6, 0])\n",
    "#Non-uniform the p=[0.1, 0, 0.3, 0.6, 0] gives the probability of getting each entry.\n",
    "#In this example the number 1 and 4 have 0 probability, so it won't never show in the result."
   ]
  },
  {
   "cell_type": "code",
   "execution_count": 31,
   "metadata": {},
   "outputs": [
    {
     "data": {
      "text/plain": [
       "array([2, 0, 3])"
      ]
     },
     "execution_count": 31,
     "metadata": {},
     "output_type": "execute_result"
    }
   ],
   "source": [
    "np.random.choice(5, 3, replace=False)\n",
    "#The replace indicates if the numbers can be repeated in the result or not. \n",
    "#In this case they can't.\n",
    "#If is set to True or if we don't specify, the numbers can be repeated in the result."
   ]
  },
  {
   "cell_type": "code",
   "execution_count": 32,
   "metadata": {},
   "outputs": [
    {
     "data": {
      "text/plain": [
       "array([4, 3, 0])"
      ]
     },
     "execution_count": 32,
     "metadata": {},
     "output_type": "execute_result"
    }
   ],
   "source": [
    "np.random.choice(5, 3, replace=True)\n",
    "#As in this case If is set to True or if we leave the replcement blank, the numbers can be repeated in the result."
   ]
  },
  {
   "cell_type": "code",
   "execution_count": 33,
   "metadata": {},
   "outputs": [
    {
     "data": {
      "text/plain": [
       "array([0, 3, 2])"
      ]
     },
     "execution_count": 33,
     "metadata": {},
     "output_type": "execute_result"
    }
   ],
   "source": [
    "np.random.choice(5, 3, replace=False, p=[0.1, 0, 0.3, 0.6, 0])\n",
    "#In this case the 5 means [0, high) 0 is included but 5 is not.\n",
    "#The 3 means the amount of values returned (in this case 3)\n",
    "#Replace specifies if the numbers can be repeated in the result. In this case they cant as replace=False\n",
    "#p= indicates the probability of getting each result.\n",
    "#Attending to all the parameters in this array only 0,2 and 3 can be shown as a result, and they cannot be repeated.\n",
    "#The result will always contain 0,2 and 3 in different order."
   ]
  },
  {
   "cell_type": "code",
   "execution_count": 34,
   "metadata": {},
   "outputs": [
    {
     "data": {
      "text/plain": [
       "array(['pooh', 'pooh', 'pooh', 'Christopher', 'rabbit'], dtype='<U11')"
      ]
     },
     "execution_count": 34,
     "metadata": {},
     "output_type": "execute_result"
    }
   ],
   "source": [
    "aa_milne_arr = ['pooh', 'rabbit', 'piglet', 'Christopher']\n",
    "np.random.choice(aa_milne_arr, 5, p=[0.5, 0.1, 0.1, 0.3])\n",
    "#The same can be achieved with an array."
   ]
  },
  {
   "cell_type": "markdown",
   "metadata": {},
   "source": [
    "Generates a random sample from a given 1-D array. But if the p= is used then the probabilities associated with each entry in a are specified and then it generates a non-uniform random sample. \n",
    "If p is not given, the sample assumes a uniform distribution over all entries."
   ]
  },
  {
   "cell_type": "markdown",
   "metadata": {},
   "source": [
    "### 3. Permutations\n",
    "\n",
    "A permutation is an arrangement of all or part of a set of objects, with regard to the order of the arrangement. *(Source: https://stattrek.com/statistics/dictionary.aspx?definition=permutation)*"
   ]
  },
  {
   "cell_type": "markdown",
   "metadata": {},
   "source": [
    "**numpy.random.shuffle**"
   ]
  },
  {
   "cell_type": "code",
   "execution_count": 35,
   "metadata": {},
   "outputs": [
    {
     "data": {
      "text/plain": [
       "array([11,  6,  2, 98, 39, 48, 49, 23, 22, 13, 10, 85, 84, 57, 28, 20, 37,\n",
       "        3, 67,  5, 74, 69, 79, 80, 43, 83,  0, 73, 16, 94, 25, 21, 60, 41,\n",
       "       58, 33, 89, 55, 32, 35, 38,  4,  9, 99, 14, 36, 72, 77, 40, 78, 82,\n",
       "       63, 61, 90, 86, 19, 51, 24, 47, 66, 34, 68, 26, 70,  8, 46, 30, 59,\n",
       "       17, 18, 42, 76, 92, 15,  7,  1, 75, 93, 56, 54, 96, 27, 12, 52, 97,\n",
       "       65, 71, 44, 62, 88, 29, 50, 81, 45, 87, 64, 31, 91, 95, 53])"
      ]
     },
     "execution_count": 35,
     "metadata": {},
     "output_type": "execute_result"
    }
   ],
   "source": [
    "arr = np.arange(100)\n",
    "np.random.shuffle(arr)\n",
    "arr"
   ]
  },
  {
   "cell_type": "markdown",
   "metadata": {},
   "source": [
    "The numpy.random.shuffle permutation modifies a sequence in-place by shuffling its contents."
   ]
  },
  {
   "cell_type": "markdown",
   "metadata": {},
   "source": [
    "**numpy.random.permutation**\n",
    "\n",
    "Randomly permute a sequence, or return a permuted range.\n"
   ]
  },
  {
   "cell_type": "code",
   "execution_count": 36,
   "metadata": {},
   "outputs": [
    {
     "data": {
      "text/plain": [
       "array([53,  7,  9, 23,  1])"
      ]
     },
     "execution_count": 36,
     "metadata": {},
     "output_type": "execute_result"
    }
   ],
   "source": [
    "np.random.permutation([1,7,9,23,53])\n"
   ]
  },
  {
   "cell_type": "markdown",
   "metadata": {},
   "source": [
    "After investigating the differences between shuffle and permutation I came to the conclusion that one of the differences is that shuffle doesn't work with ranges. See the example below.\n"
   ]
  },
  {
   "cell_type": "code",
   "execution_count": 37,
   "metadata": {},
   "outputs": [
    {
     "ename": "TypeError",
     "evalue": "unsupported operand type(s) for -: 'list' and 'int'",
     "output_type": "error",
     "traceback": [
      "\u001b[0;31m---------------------------------------------------------------------------\u001b[0m",
      "\u001b[0;31mTypeError\u001b[0m                                 Traceback (most recent call last)",
      "\u001b[0;32m<ipython-input-37-dc2b3510a454>\u001b[0m in \u001b[0;36m<module>\u001b[0;34m()\u001b[0m\n\u001b[0;32m----> 1\u001b[0;31m \u001b[0marr\u001b[0m \u001b[0;34m=\u001b[0m \u001b[0mnp\u001b[0m\u001b[0;34m.\u001b[0m\u001b[0marange\u001b[0m \u001b[0;34m(\u001b[0m\u001b[0;34m[\u001b[0m\u001b[0;36m1\u001b[0m\u001b[0;34m,\u001b[0m\u001b[0;36m2\u001b[0m\u001b[0;34m,\u001b[0m\u001b[0;36m3\u001b[0m\u001b[0;34m,\u001b[0m\u001b[0;36m4\u001b[0m\u001b[0;34m]\u001b[0m\u001b[0;34m)\u001b[0m\u001b[0;34m\u001b[0m\u001b[0m\n\u001b[0m\u001b[1;32m      2\u001b[0m \u001b[0mnp\u001b[0m\u001b[0;34m.\u001b[0m\u001b[0mrandom\u001b[0m\u001b[0;34m.\u001b[0m\u001b[0mshuffle\u001b[0m\u001b[0;34m(\u001b[0m\u001b[0marr\u001b[0m\u001b[0;34m)\u001b[0m\u001b[0;34m\u001b[0m\u001b[0m\n\u001b[1;32m      3\u001b[0m \u001b[0marr\u001b[0m\u001b[0;34m\u001b[0m\u001b[0m\n",
      "\u001b[0;31mTypeError\u001b[0m: unsupported operand type(s) for -: 'list' and 'int'"
     ]
    }
   ],
   "source": [
    "arr = np.arange ([1,2,3,4])\n",
    "np.random.shuffle(arr)\n",
    "arr"
   ]
  },
  {
   "cell_type": "markdown",
   "metadata": {},
   "source": [
    "random.shuffle() only works on mutable sequences, which is usually a list object. range() produces an immutable sequence object, random.shuffle() can't move the values in a range around.\n",
    "\n",
    "(_Source: https://stackoverflow.com/questions/47472691/asking-for-unsupported-operand-types-for-range-and-list)"
   ]
  },
  {
   "cell_type": "markdown",
   "metadata": {},
   "source": [
    "### 4. Random package distributions"
   ]
  },
  {
   "cell_type": "markdown",
   "metadata": {},
   "source": [
    "**4.1 Discrete and continuous distributions**\n",
    "\n",
    "There are two types of probability distributions, discrete and continuous probability distributions.\n",
    "\n",
    "Discrete probability distributions take distinct or separate values and are also called probability mass functions. Some examples of discrete probability distributions are  Bernoulli distribution,  Binomial distribution, Poisson distribution, and Geometric distribution.\n",
    "\n",
    "Continuous probability distributions can take any value in a range or interval and they are also known as probability density functions, they are functions that take on continuous values (e.g. values on the real line). Examples include the normal distribution, the exponential distribution, and the beta distribution.\n",
    "\n",
    "\n",
    "(_Source: https://bigdata-madesimple.com/how-to-implement-these-5-powerful-probability-distributions-in-python/)\n",
    "\n",
    "The use of Numpy distributions is to generate random numbers that are distributed following the patterns of either specific discrete or continuous distributions."
   ]
  },
  {
   "cell_type": "markdown",
   "metadata": {},
   "source": [
    "### 4.2 Discrete distributions"
   ]
  },
  {
   "cell_type": "markdown",
   "metadata": {},
   "source": [
    "NOTE: **Uniform distribution** is described under the function numpy.random.randint as it is closely related to that function."
   ]
  },
  {
   "cell_type": "markdown",
   "metadata": {},
   "source": [
    "**4.2.1 Binominal Distribution**\n",
    "\n",
    "The binominal distribution is based on only two possible outcomes. It folowws a binominal distribution if there is only 2 possible values and it's probability is constant in time\n",
    "A binomial random variable is the number of successes x in n repeated trials. The probability distribution of a binomial random variable is called a binomial distribution.\n",
    "\n",
    "It is a binominal distribution if\n",
    "1. If only two values are possible: Success or fail\n",
    "2. The probability of sucess or failure is constant\n",
    "3. The number of countings is always the same\n",
    "\n",
    "\n",
    "Example, if we  flip a coin two times and count the number of heads (successes). The binomial random variable is the number of heads, which can take on values of 0, 1, or 2.\n",
    "\n",
    "*(Source: https://stattrek.com/probability-distributions and http://www.usc.es/genp/docencia/AnalDatos_New.pdf)"
   ]
  },
  {
   "cell_type": "markdown",
   "metadata": {},
   "source": [
    "Example:\n",
    "\n",
    "Flipping a coin 10 times, tested 1000 times"
   ]
  },
  {
   "cell_type": "code",
   "execution_count": 38,
   "metadata": {
    "scrolled": true
   },
   "outputs": [
    {
     "name": "stdout",
     "output_type": "stream",
     "text": [
      "[ 4  6  6  5  6  7  3  4  2  4  6  3  4  5  6  5  8  2  7  5  7  3  4  6\n",
      "  5  5  5  7  6  5  5  2  6  6  7  4  4  7  3  9  4  4  7  4  7  3  4  6\n",
      "  4  4  2  6  5  6  2  9  5  4  4  6  6  6  5  5  5  7  6  4  7  8  7  3\n",
      "  8  7  5  6  5  5  6  5  5  5  4  7  8  5  3  5  8  6  6  5  3  4  4  5\n",
      "  3  4  4  4  6  7  6  4  3  8  6  3  8  6  5  2  6  4  5  6  4  6  5  6\n",
      "  6  4  4  4  7  8  6  5  5  7  4  6  5  7  6  7  8  4  7  2  5  4  4  7\n",
      "  9  3  6  6  5  6  6  4  7  5  1  4  5  4  5  4  2  8  7  6  3  6  2  4\n",
      "  2  5  5  7  2  5  6  5  4  3  5  5  5  6  8  7  3  6  5  5  7  8  3  5\n",
      "  4  4  5  4  4  9  5  3  2  3  4  8  5  4  6  7  3  6  5  6  6  7  6  3\n",
      "  4  6  8  3  9  5  4  4  6  5  6  8  3  4  6  5  6  3  6  9  3  6  8  5\n",
      "  4  4  4  7  5  6  3  6  5  3  6  5  6  3  5  6  6  5  8  4  3  7  4  5\n",
      "  4  4  7  5  7  5  5  6  5  3  3  7  4  6  8  7  5  4  4  6  6  3  7  7\n",
      "  5  8  6  5  8  6  5  5  4  4  7  5  5  4  6  2  3  5  5  7  5  7  6  6\n",
      "  4  7  5  5  6  5  4  7  6  3  3  3  4  5  3  8  6  6  6  4  1  4  5  5\n",
      "  2  5  8  5  4  4  8  5  6  6  5  7  6  4  4  3  6  7  3  4  4  7  7  5\n",
      "  5  5  7  5  6  4  8  3  8  6  7  4  4  3  7  8  6  2  5  2  6  5  2  3\n",
      "  5  7  6  3  6  6  5  5  3  7  6  4  4  3  4  5  5  3  8  4  7  4  7  4\n",
      "  3  6  3  5  6  8  3  5  3  5  7  6  4  3  4  6  6  5  4  3  5  5  4  5\n",
      "  5  3  7  5  4  3  5  5  6  6  4  7  7  5  6  3  6  4  5  4  2  6  4  9\n",
      "  4  3  4  4  5  3  4  6  8  7  7  6  2  6  6  7  4  8  6  6  5  1  7  4\n",
      "  5  6  4  6  5  5  6  2  5  8  6  4  6  4  6  6  6  4  7  7  9  6  4  5\n",
      "  4  4  3  5  5  6  6  3  6  4  4  4  4  6  5  4  4  8  6  4  4  9  6  7\n",
      "  5  4  3  5  5  3  2  3  4  7  2  7  3  1  4  7  6  5  6  5  8  4  3  6\n",
      "  5  5  5  7  4  4  6  6  5  6  5  5  5  5  6  4  4  4  4  5  4  6  2  3\n",
      "  6  6  8  3  5  7  5  7  4  4  6  5  4  6  6  4  5  4  5  7  7  4  6  6\n",
      "  6  4  3  7  5  4  5  6  5  5  8  7  5  6  4  4  7  4  6  6  5  7  1  5\n",
      "  1  6  7  5  5  4  5  5  6  5  4  4  6  3  7  5  4  4  5  3  6  3  3  8\n",
      "  4  6  6  4  8  7  5  7  4  7  7  6  5  6  8  8  5  5  5  5  3  7  5  5\n",
      "  3  6  5  3  5  3  1  5  4  4  6  2  6  7  7  5  5  5  6  5  5  5  8  2\n",
      "  7  3  2  5 10  5  7  5  5  5  5  3  4  4  5  3  7  6  7  3  3  4  7  5\n",
      "  6  5  3  4  5  3  6  5  6  4  7  3  4  6  6  4  3  2  5  7  6  5  5  7\n",
      "  3  6  4  6  7  8  5  4  4  7  8  5  7  5  5  4  5  4  5  5  5  5  5  3\n",
      "  5  6  7  3  7  4  6  5  6  4  4  4  8  5  7  5  6  7  4  9  5  6  4  7\n",
      "  8  6  4  5  5  7  4  4  4  3  7  2  6  9  4  7  5  5  4  6  4  2  6  5\n",
      "  4  3  4  5  5  6  4  4  3  4  8  7  8  4  5  4  6  6  5  3  2  4  5  4\n",
      "  6  7  4  7 10  3  4  6  7  4  6  8  7  6  3  3  7  3  5  6  4  4  8  4\n",
      "  3  5  5  7  5  4  4  4  3  7  6  9  4  7  7  5  4  6  7  4  1  5  5  6\n",
      "  4  5  5  6  5  7  5  5  4  5  3  5  4  3  5  7  5  5  8  5  7  7  6  2\n",
      "  5  3  5  5  5  5  7  2  4  6  6  6  5  4  7  5  7  4  5  7  2  1  7  7\n",
      "  3  3  6  4  7  4  5  3  3  4  4  7  5  6  6  3  6  6  5  1  6  8  7  5\n",
      "  3  4  5  2  2  4  6  3  4  5  6  4  5  3  5  3  3  8  6  5  8  7  5  5\n",
      "  8  7  5  4  7  3  7  5  4  5  3  6  3  5  5  5]\n"
     ]
    }
   ],
   "source": [
    "n, p = 10, .5  # number of trials, probability of each trial\n",
    "s = np.random.binomial(n, p, 1000)\n",
    "# result of flipping a coin 10 times, tested 1000 times.\n",
    "print(s)\n"
   ]
  },
  {
   "cell_type": "code",
   "execution_count": 40,
   "metadata": {},
   "outputs": [
    {
     "data": {
      "text/plain": [
       "<function matplotlib.pyplot.show(*args, **kw)>"
      ]
     },
     "execution_count": 40,
     "metadata": {},
     "output_type": "execute_result"
    },
    {
     "data": {
      "image/png": "[encoded data removed]",
      "text/plain": [
       "<matplotlib.figure.Figure at 0x11c669a20>"
      ]
     },
     "metadata": {
      "needs_background": "light"
     },
     "output_type": "display_data"
    }
   ],
   "source": [
    "plt.hist(s)\n",
    "plt.show"
   ]
  },
  {
   "cell_type": "markdown",
   "metadata": {},
   "source": [
    "In the histogram we can see that when I flip the coin 10 times and I reproduce this experiment 1000 times, the result of getting:\n",
    "-  One head happened around 10 times\n",
    "-  Two heads happened around 40 times\n",
    "-  Three heads happened around 120 times\n",
    "-  Four heads happened around 210 times\n",
    "-  Five heads happened around 250 times\n",
    "-  Six heads happened around 190 times\n",
    "-  Seven heads happened around 140 times\n",
    "-  Eight heads happened around 60 times\n",
    "-  Nine heads happened around 10 times\n",
    "-  Ten heads happened less than 5 times"
   ]
  },
  {
   "cell_type": "markdown",
   "metadata": {},
   "source": [
    "**4.2.2 Poisson Distribution**\n",
    " \n",
    "Poisson was a French mathematician, and amongst the many contributions he made, proposed the Poisson distribution, with the example of modelling the number of soldiers accidentally injured or killed from kicks by horses. This distribution became useful as it models events, particularly uncommon events.\n",
    "\n",
    "A random variable X that has a Poisson distribution represents the number of events occurring in a fixed time interval with a rate parameters λ. λ tells you the rate at which the number of events occur.  The average and variance is λ.\n",
    "\n",
    "Counts of events, based on the Poisson distribution, is a frequently encountered model in medical research. The Poisson parameter Lambda (λ) is the total number of events (k) divided by the number of units (n) in the data (λ = k/n). \n",
    "\n",
    "This is different to the Binomial parameter of proportion or risk where proportion is the number of individuals classified as positive (p) divided by the total number of individuals in the data (r = p/n). Proportion or risk must always be a number between 0 and 1, while λ may be any positive number.\n",
    "\n",
    "We can define a distribution as Poisson if\n",
    "1. Each counting is independent and random\n",
    "2. The probability of each event is constant\n",
    "3. The events happen at a constant rithm \n",
    "\n",
    "\n",
    "Examples of this are number of falls, asthma attacks, number of cells, and so on. \n",
    "\n",
    "Another example:\n",
    "\n",
    "If we have 100 people, and only 90 of them go shopping in a week then the binomial risk of shopping is 90/100 = 0.9. However, some of the people will go shopping more than once in the week, and the total number of shopping trips between the 100 people may be 160, and the Poisson Lambda is 160/100 = 1.6 per 100 person week Large Lambda (λ=k/n), say over 200, assumes an approximately normal or geometric distribution, and the count (or sqrt(count)) can be used as a Parametric measurement. If the events occur very few times per individual, so that individuals can be classified as positive or negative cases, then the Binomial distribution can be assumed and statistics related to proportions used. In between, or when events are infrequent, the Poisson distribution is used.\n",
    "\n",
    "(_Source:https://www.khanacademy.org/math/statistics-probability/random-variables-stats-library/random-variables-discrete/v/discrete-probability-distribution, http://www.usc.es/genp/docencia/AnalDatos_New.pdf, https://stattrek.com/probability-distributions/poisson.aspx, https://www.statstodo.com/Poisson_Exp.php, https://bigdata-madesimple.com/how-to-implement-these-5-powerful-probability-distributions-in-python/)\n"
   ]
  },
  {
   "cell_type": "markdown",
   "metadata": {},
   "source": [
    "Applied example:\n",
    "\n",
    "Number of cases of ashma in a population of 1.000 children of 10 years old. The research shows that there are 100 attacks in 1800 children months. "
   ]
  },
  {
   "cell_type": "code",
   "execution_count": 42,
   "metadata": {},
   "outputs": [
    {
     "name": "stdout",
     "output_type": "stream",
     "text": [
      "0.05555555555555555\n"
     ]
    }
   ],
   "source": [
    "import numpy as np\n",
    "a = 100\n",
    "#variable number of ashma attacks\n",
    "\n",
    "b1 = 1800\n",
    "#variable children months\n",
    "\n",
    "lamda = a/b1\n",
    "print(lamda)"
   ]
  },
  {
   "cell_type": "code",
   "execution_count": 43,
   "metadata": {},
   "outputs": [
    {
     "name": "stdout",
     "output_type": "stream",
     "text": [
      "120000\n"
     ]
    }
   ],
   "source": [
    "#Posson distribution\n",
    "import numpy as np\n",
    "\n",
    "c = 1000\n",
    "#number of children\n",
    "\n",
    "y = 10\n",
    "#number of years\n",
    "\n",
    "b2 = c * y * 12\n",
    "#total number of months (number of childre * years * months in a year)\n",
    "print(b2)\n"
   ]
  },
  {
   "cell_type": "code",
   "execution_count": 44,
   "metadata": {},
   "outputs": [
    {
     "name": "stdout",
     "output_type": "stream",
     "text": [
      "[0 0 0 ... 0 0 0]\n"
     ]
    }
   ],
   "source": [
    "#poison distribution application\n",
    "import numpy as np\n",
    "s = np.random.poisson(0.05555555555555555, 120000)\n",
    "#poisson distribution where the lambda is 0.05555555555555555 and the size, in this case the number of months is 120000000 \n",
    "print(s)"
   ]
  },
  {
   "cell_type": "code",
   "execution_count": 45,
   "metadata": {},
   "outputs": [
    {
     "data": {
      "image/png": "[encoded data removed]",
      "text/plain": [
       "<matplotlib.figure.Figure at 0x11c3a61d0>"
      ]
     },
     "metadata": {
      "needs_background": "light"
     },
     "output_type": "display_data"
    }
   ],
   "source": [
    "#plot the result of the distribution of ashma cases\n",
    "import matplotlib.pyplot as plt\n",
    "count, bins, ignored = plt.hist(s, 20, density=True)\n",
    "plt.show()"
   ]
  },
  {
   "cell_type": "markdown",
   "metadata": {},
   "source": [
    "### 4.3 Continuous distributions ###"
   ]
  },
  {
   "cell_type": "markdown",
   "metadata": {},
   "source": [
    "NOTE: **Standard Normal distribution** and **Normal distribution** are described under the function numpy.random.randn as they is closely related to that function."
   ]
  },
  {
   "cell_type": "markdown",
   "metadata": {},
   "source": [
    "**4.3.1 Exponential distributions**\n",
    "\n",
    "The exponential distribution represents a process in which events occur continuously and independently at a constant average rate.\n",
    "\n",
    "In probability theory and statistics, the exponential distribution (also known as the negative exponential distribution) is the probability distribution that describes the time between events in a Poisson point process. It is a particular case of the gamma distribution. It is the continuous analogue of the geometric distribution, and it has the key property of being memoryless.\n",
    "\n",
    "We can define a distribution as exponential if\n",
    "\n",
    "- The events occur continuously\n",
    "- Each event is independent\n",
    "- The events happen in a constant average rate\n",
    "\n",
    "Example: The exponential distribution can be found in the example of predicting the probability of a battery wearing out at a particular number of miles. The result would be is exponentially distributed with an average of x miles.\n",
    "\n",
    "(Source: https://en.wikipedia.org/wiki/Exponentialdistribution, https://bigdata-madesimple.com/how-to-implement-these-5-powerful-probability-distributions-in-python/, https://onlinecourses.science.psu.edu/stat414/node/140/)"
   ]
  },
  {
   "cell_type": "markdown",
   "metadata": {},
   "source": [
    "Exponential distribution applied"
   ]
  },
  {
   "cell_type": "code",
   "execution_count": 46,
   "metadata": {},
   "outputs": [],
   "source": [
    "z = np.random.exponential(scale=1.0, size=300000)\n",
    "# defining z as the exponential function with the scale parameter, which is the inverse of the rate parameter \\lambda\n",
    "# ad the size of values that is going to retur in the result\n"
   ]
  },
  {
   "cell_type": "code",
   "execution_count": 47,
   "metadata": {},
   "outputs": [
    {
     "data": {
      "text/plain": [
       "<function matplotlib.pyplot.show(*args, **kw)>"
      ]
     },
     "execution_count": 47,
     "metadata": {},
     "output_type": "execute_result"
    },
    {
     "data": {
      "image/png": "[encoded data removed]",
      "text/plain": [
       "<matplotlib.figure.Figure at 0x11be3de48>"
      ]
     },
     "metadata": {
      "needs_background": "light"
     },
     "output_type": "display_data"
    }
   ],
   "source": [
    "plt.hist(z, bins = 20, normed = True)\n",
    "plt.show"
   ]
  },
  {
   "cell_type": "markdown",
   "metadata": {},
   "source": [
    "### 5. Seed\n",
    "\n",
    "The seed or np.random.seed(0) makes the random numbers predictable.\n",
    "\n",
    "With the seed reset (every time), the same set of numbers will appear every time.\n",
    "If the random seed is not reset, different numbers appear with every invocation. See examples below first setting the seed to a specific number and in the second case not setting it:\n",
    "\n"
   ]
  },
  {
   "cell_type": "code",
   "execution_count": 48,
   "metadata": {},
   "outputs": [
    {
     "data": {
      "text/plain": [
       "array([0.5488135 , 0.71518937, 0.60276338])"
      ]
     },
     "execution_count": 48,
     "metadata": {},
     "output_type": "execute_result"
    }
   ],
   "source": [
    "#Set the seed to 0\n",
    "np.random.seed(0)\n",
    "\n",
    "#show 3 values\n",
    "np.random.rand(3)\n"
   ]
  },
  {
   "cell_type": "code",
   "execution_count": 49,
   "metadata": {},
   "outputs": [
    {
     "data": {
      "text/plain": [
       "array([0.5488135 , 0.71518937, 0.60276338])"
      ]
     },
     "execution_count": 49,
     "metadata": {},
     "output_type": "execute_result"
    }
   ],
   "source": [
    "#repeat the operation above to check if the numbers returned are the same\n",
    "np.random.seed(0)\n",
    "np.random.rand(3)"
   ]
  },
  {
   "cell_type": "markdown",
   "metadata": {},
   "source": [
    "With the example above can be ilustarted that the random numbers are the same in both cases so the random numbers are predictable. Every time the program is run the result is the same.\n",
    "\n",
    "\n",
    "In the example below the seed is not set, so we get different (pseudo) random numbers:"
   ]
  },
  {
   "cell_type": "code",
   "execution_count": 50,
   "metadata": {},
   "outputs": [
    {
     "data": {
      "text/plain": [
       "array([0.54488318, 0.4236548 , 0.64589411])"
      ]
     },
     "execution_count": 50,
     "metadata": {},
     "output_type": "execute_result"
    }
   ],
   "source": [
    "#Without setting the seed\n",
    "np.random.rand(3)"
   ]
  },
  {
   "cell_type": "code",
   "execution_count": 51,
   "metadata": {},
   "outputs": [
    {
     "data": {
      "text/plain": [
       "array([0.43758721, 0.891773  , 0.96366276])"
      ]
     },
     "execution_count": 51,
     "metadata": {},
     "output_type": "execute_result"
    }
   ],
   "source": [
    "#Without setting the seed second attempt\n",
    "np.random.rand(3)"
   ]
  },
  {
   "cell_type": "markdown",
   "metadata": {},
   "source": [
    "Detailed explanation of the seed:\n",
    "\n",
    "(pseudo-)random numbers work by starting with a number (the seed), multiplying it by a large number, then taking modulo of that product. The resulting number is then used as the seed to generate the next \"random\" number. When the seed is set (every time), it does the same thing every time, giving the same numbers.\n",
    "\n",
    "If the desired result is seemingly random numbers, do not set the seed. If the code uses random numbers and there is the need to debug, however, it can be very helpful to set the seed before each run so that the code does the same thing every time is run.\n",
    "\n",
    "To get the most random numbers for each run, the recomended is to call numpy.random.seed(). This will cause numpy to set the seed to a random number obtained from /dev/urandom or its Windows analog or, if neither of those is available, it will use the clock.\n",
    "\n",
    "(_Source: https://stackoverflow.com/questions/21494489/what-does-numpy-random-seed0-do#)"
   ]
  },
  {
   "cell_type": "markdown",
   "metadata": {},
   "source": [
    "## Conclusion ##\n",
    "Even if at first sight may seem obvious what a random number is, and how computers and prorammes generate them, thanks to the experiments run on this task it can be explained that a value generated randomly may obey to many different rules (float, integer, open or closed intervals...) and distributions. Depending on the function chosed or the distribution the probability of obtaining a number can be totally equal or not. \n",
    "\n",
    "From this perspective, Numpy is a very useful package to deal with the generation of random numbers and to distribute them according to specific needs. \n"
   ]
  }
 ],
 "metadata": {
  "kernelspec": {
   "display_name": "Python 3",
   "language": "python",
   "name": "python3"
  },
  "language_info": {
   "codemirror_mode": {
    "name": "ipython",
    "version": 3
   },
   "file_extension": ".py",
   "mimetype": "text/x-python",
   "name": "python",
   "nbconvert_exporter": "python",
   "pygments_lexer": "ipython3",
   "version": "3.6.6"
  }
 },
 "nbformat": 4,
 "nbformat_minor": 2
}

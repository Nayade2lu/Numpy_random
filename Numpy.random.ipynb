{
 "cells": [
  {
   "cell_type": "markdown",
   "metadata": {},
   "source": [
    "# Numpy.random package and distributions\n"
   ]
  },
  {
   "cell_type": "markdown",
   "metadata": {},
   "source": [
    "### 1. First discovery on Numpy random package \n",
    "\n",
    "Description: \n",
    "\n",
    "**Numpy** \n",
    "Numpy is a library for the Python programming language and it is the fundamental package for scientific computing with Python. This library adds support for large, multi-dimensional arrays and matrices, along with a large collection of high-level mathematical functions to operate on these arrays, including mathematical, logical, shape manipulation, sorting, selecting, I/O, discrete Fourier transforms, basic linear algebra, basic statistical operations, random simulation and much more.  \n",
    "\n",
    "It contains among other things:\n",
    "\n",
    "- N-dimensional array object\n",
    "- (broadcasting) functions\n",
    "- tools for integrating C/C++ and Fortran code\n",
    "- linear algebra, Fourier transform, and random number capabilities\n",
    "\n",
    "NumPy can also be used as an efficient multi-dimensional container of generic data. Arbitrary data-types can be defined. NumPy is open-source software created in 2005 by Travis Oliphant by incorporating features of the competing Numarray into Numeric, with extensive modifications.\n",
    "(_Source: https://docs.scipy.org, Wikipedia and http://www.numpy.org_)\n",
    "\n",
    "Specific advantages of the package:\n",
    "- High efficiency while dealing with numbers in long lists.\n",
    "- Deals with multidimensional arrays (or lists contained within lists)\n",
    "- Performs high speed operations between arrays due to sofisticated algorithms\n",
    "\n",
    "**Numpy.random** \n",
    "\n",
    "Numpy.random is a subpacage of the Numpy package in Python, and it is destinated to generate a sequence of random numbers. It also comes loaded with the ability to draw from a lot more statistical distributions. \n",
    "\n",
    "The importance of the package lies on it's matrix operation efficiency as is a common use in computers for everyday tasks such as for resizing images, showing the graphics in the screens, working with data sets... \n",
    "(_Source: https://realpython.com/python-random/)\n",
    "\n",
    "**What is a random variable?**\n",
    "\n",
    "A random variable quantifies the outcomes of a number.\n",
    "\n",
    "A random variable is a variable that takes on a set of possible values (discrete or continuous) and is subject to randomness. Each possible value the random variable can take on is associated with a probability. The possible values the random variable can take on and the associated probabilities is known as probability distribution."
   ]
  },
  {
   "cell_type": "markdown",
   "metadata": {},
   "source": [
    "### 2. Simple Random data\n",
    " \n",
    "The main purpose of this packege is generate random numbers due to the impossibility of the computers of generating random numbers. Each of each function attends to different needs: generating random integrers, random floats, bytes... \n",
    "The different functions perfomr the task of generating random values following different rules depending on the function such as including values from low to high with open or close intervals. \n",
    "\n",
    "The following use of the different functions is based on Numpy.random Based on Rand function video."
   ]
  },
  {
   "cell_type": "markdown",
   "metadata": {},
   "source": [
    "   **2.1 numpy.random.rand**"
   ]
  },
  {
   "cell_type": "code",
   "execution_count": 2,
   "metadata": {
    "scrolled": true
   },
   "outputs": [
    {
     "data": {
      "text/plain": [
       "array([[0.54876535, 0.78021113],\n",
       "       [0.05021976, 0.92544575],\n",
       "       [0.76642871, 0.94429537],\n",
       "       [0.29995839, 0.8567816 ]])"
      ]
     },
     "execution_count": 2,
     "metadata": {},
     "output_type": "execute_result"
    }
   ],
   "source": [
    "#Importing numpy and setting its name to np\n",
    "import numpy as np\n",
    "\n",
    "#get a Matrix of random numbers with a 2dimension array that includes 4 rows and 2 columns\"\n",
    "np.random.rand(4,2)"
   ]
  },
  {
   "cell_type": "markdown",
   "metadata": {},
   "source": [
    "From the above experiment, using numpy.random.rand the result will be an array containing \"n\" (4 in this case) arrays inside it, with \"m\" (2 in this example) float numbers per array. If the argument is left blank numpy.random.rand will return a singe float as shown in the example below."
   ]
  },
  {
   "cell_type": "code",
   "execution_count": 6,
   "metadata": {},
   "outputs": [
    {
     "data": {
      "text/plain": [
       "0.19098824612398868"
      ]
     },
     "execution_count": 6,
     "metadata": {},
     "output_type": "execute_result"
    }
   ],
   "source": [
    "#get of one single number\n",
    "x = np.random.rand ()\n",
    "x"
   ]
  },
  {
   "cell_type": "markdown",
   "metadata": {},
   "source": [
    "We can also get multiple dimensions arrays if we pass more arguments to the function as in the example below."
   ]
  },
  {
   "cell_type": "code",
   "execution_count": 8,
   "metadata": {},
   "outputs": [
    {
     "data": {
      "text/plain": [
       "array([[[[0.49589198, 0.92415725],\n",
       "         [0.21692516, 0.91461746]],\n",
       "\n",
       "        [[0.66509017, 0.03300709],\n",
       "         [0.87928375, 0.70887306]]],\n",
       "\n",
       "\n",
       "       [[[0.67712922, 0.21188218],\n",
       "         [0.34727199, 0.28535361]],\n",
       "\n",
       "        [[0.00922809, 0.79963783],\n",
       "         [0.02804847, 0.51228072]]],\n",
       "\n",
       "\n",
       "       [[[0.51178506, 0.90450847],\n",
       "         [0.91345586, 0.30932828]],\n",
       "\n",
       "        [[0.15854895, 0.81862561],\n",
       "         [0.09422157, 0.40348047]]]])"
      ]
     },
     "execution_count": 8,
     "metadata": {},
     "output_type": "execute_result"
    }
   ],
   "source": [
    "#get an array of multiple dimensions\n",
    "x = np.random.rand (3,2,2,2)\n",
    "x"
   ]
  },
  {
   "cell_type": "markdown",
   "metadata": {},
   "source": [
    "To reflect the idea of the distribution that numpy.random.rand works with, the following piece of code will generate 1000 random floats. After that, this random numbers will be presenten in an histogram using matplot library."
   ]
  },
  {
   "cell_type": "code",
   "execution_count": 3,
   "metadata": {
    "scrolled": false
   },
   "outputs": [
    {
     "data": {
      "text/plain": [
       "array([5.82736648e-01, 4.77714239e-01, 7.15849233e-01, 9.85772706e-02,\n",
       "       6.01026554e-01, 8.82192029e-01, 2.32009523e-01, 5.51012585e-01,\n",
       "       5.87362841e-01, 2.25782886e-01, 3.04186696e-01, 9.17658300e-01,\n",
       "       4.90199334e-01, 4.15356256e-01, 3.77855958e-01, 7.50870899e-01,\n",
       "       9.85724487e-01, 6.02208366e-01, 9.67915424e-01, 4.28936855e-02,\n",
       "       7.32684974e-01, 5.45498388e-01, 4.09388840e-01, 4.16434461e-01,\n",
       "       8.49576404e-01, 8.84045791e-01, 7.04465149e-01, 4.16793603e-01,\n",
       "       5.03589140e-01, 5.04002620e-01, 1.74726590e-01, 4.84797861e-01,\n",
       "       6.00884777e-01, 1.87295436e-02, 6.73415656e-01, 6.23695119e-01,\n",
       "       2.72122094e-01, 5.08856519e-01, 3.26381181e-01, 7.25015365e-02,\n",
       "       5.53188214e-01, 8.21129765e-01, 6.66360822e-02, 3.06442108e-01,\n",
       "       3.69256839e-01, 1.14343276e-02, 9.72091056e-01, 1.39949652e-01,\n",
       "       5.32999632e-01, 4.63268264e-01, 8.58473867e-01, 1.26458535e-01,\n",
       "       7.69243240e-01, 8.54509256e-01, 2.54463977e-01, 3.18337022e-01,\n",
       "       3.67499994e-01, 4.89161330e-01, 8.98730417e-01, 8.27960043e-01,\n",
       "       8.52962411e-02, 3.20269756e-01, 2.97227252e-01, 2.55834798e-01,\n",
       "       2.81789297e-01, 4.92847769e-02, 7.68201126e-01, 5.59782267e-01,\n",
       "       8.24985612e-02, 9.49144640e-01, 2.51531224e-01, 2.03244679e-01,\n",
       "       1.78494870e-01, 8.35769458e-02, 8.65228594e-01, 7.23861704e-01,\n",
       "       7.67662376e-01, 4.79013621e-01, 3.30020804e-01, 4.15578056e-01,\n",
       "       6.87838342e-01, 9.78085657e-03, 6.37823660e-01, 4.49489814e-01,\n",
       "       1.93195507e-01, 1.32385526e-01, 4.77231870e-01, 7.76747310e-01,\n",
       "       6.72930740e-01, 8.05079735e-01, 2.83924849e-01, 4.96757376e-01,\n",
       "       2.32195822e-01, 4.99486689e-01, 1.73986726e-01, 2.72807870e-01,\n",
       "       7.19662251e-01, 8.27873955e-01, 6.72924541e-01, 6.38177316e-01,\n",
       "       2.77098679e-02, 8.70362901e-01, 9.73277036e-01, 3.34702532e-01,\n",
       "       9.49969217e-01, 7.38402131e-01, 8.75353657e-01, 6.11349411e-01,\n",
       "       1.10418114e-01, 7.86522920e-01, 7.39129000e-01, 2.70112385e-02,\n",
       "       5.28614107e-02, 1.83472876e-01, 2.58852668e-01, 4.69992450e-01,\n",
       "       8.00495004e-01, 3.67959143e-01, 7.19454178e-01, 5.26700208e-01,\n",
       "       6.87362717e-01, 8.76218750e-01, 7.82831970e-01, 8.38906894e-01,\n",
       "       7.56843310e-01, 6.75745639e-01, 1.86121918e-01, 4.00424676e-01,\n",
       "       4.25274597e-01, 5.80796601e-01, 8.15614938e-01, 2.80834283e-01,\n",
       "       9.76063290e-01, 5.17290843e-01, 4.27944177e-01, 4.78428126e-01,\n",
       "       2.77080917e-01, 7.31239034e-01, 5.98689873e-01, 4.46287154e-01,\n",
       "       1.63711188e-01, 4.04668056e-01, 6.24652273e-01, 9.68149466e-01,\n",
       "       8.87561250e-01, 9.39264981e-01, 5.66230770e-01, 4.87295541e-02,\n",
       "       4.17664119e-01, 7.89215928e-01, 9.06933736e-01, 9.17050797e-01,\n",
       "       8.84527610e-01, 2.85566975e-01, 6.25696180e-01, 7.30219642e-01,\n",
       "       2.68826523e-01, 8.92375403e-02, 7.01923568e-02, 5.16620446e-01,\n",
       "       6.06438569e-01, 7.46772076e-01, 4.49470554e-01, 3.80391639e-01,\n",
       "       7.47738583e-01, 8.63916872e-01, 5.87964240e-01, 5.71526149e-01,\n",
       "       4.51505220e-01, 6.19886215e-01, 3.82899490e-01, 7.49434642e-01,\n",
       "       9.90586265e-01, 1.44505942e-01, 1.13289558e-01, 5.65924051e-01,\n",
       "       3.61189213e-01, 3.25238596e-01, 6.59049537e-01, 8.65823128e-01,\n",
       "       7.50104203e-01, 1.73351790e-01, 9.77865706e-01, 6.82373005e-03,\n",
       "       5.01881557e-01, 2.87541962e-01, 4.45623741e-01, 6.13265800e-01,\n",
       "       2.96489507e-01, 2.58213950e-01, 4.12661301e-01, 2.56499093e-01,\n",
       "       8.88684210e-01, 5.53371869e-01, 7.91150813e-02, 2.48383602e-01,\n",
       "       5.90274085e-01, 7.23328894e-02, 8.01343286e-01, 2.88365147e-01,\n",
       "       8.87475011e-01, 4.88637011e-01, 9.95336097e-01, 7.82841067e-01,\n",
       "       3.49890909e-01, 6.41443558e-01, 7.74965780e-01, 7.40968671e-01,\n",
       "       4.03378447e-01, 8.28104658e-01, 4.86881894e-01, 8.97631985e-01,\n",
       "       3.77120389e-01, 9.12501812e-01, 9.41641538e-02, 6.09751298e-01,\n",
       "       1.36364197e-01, 3.29873889e-01, 3.37494390e-02, 5.74483539e-01,\n",
       "       7.41891153e-01, 6.68886464e-01, 9.51577811e-01, 8.08359366e-01,\n",
       "       9.09384317e-01, 7.13318112e-01, 1.62524025e-01, 1.81699305e-01,\n",
       "       2.38965341e-01, 3.96071281e-01, 7.84468277e-02, 6.27480149e-01,\n",
       "       4.17751219e-01, 3.80415665e-01, 8.31976803e-01, 7.93143625e-02,\n",
       "       7.98433054e-01, 2.30560672e-01, 2.44338403e-01, 4.55181626e-01,\n",
       "       9.91366464e-01, 4.02577010e-01, 6.27019279e-01, 2.68335180e-01,\n",
       "       2.94014461e-01, 6.80846799e-01, 5.98385579e-01, 5.81703489e-01,\n",
       "       4.67542209e-01, 9.21488181e-01, 5.45057018e-01, 3.18096785e-01,\n",
       "       1.02888423e-01, 6.92372007e-01, 2.59214936e-01, 1.54448248e-01,\n",
       "       1.81026348e-01, 9.97087084e-01, 5.49793619e-01, 2.26598641e-01,\n",
       "       9.07252099e-01, 9.91909530e-01, 5.47593610e-01, 4.45128455e-01,\n",
       "       7.66958883e-01, 5.83354392e-01, 5.99639423e-01, 1.21427049e-01,\n",
       "       5.56140717e-01, 8.21192179e-01, 5.75056223e-01, 6.03611355e-01,\n",
       "       3.79131857e-01, 2.01810379e-01, 2.46401072e-01, 9.74639454e-03,\n",
       "       5.43696870e-01, 4.99192118e-01, 5.94889982e-02, 3.63730075e-01,\n",
       "       7.35716852e-01, 9.97506288e-01, 9.49375445e-01, 6.08090243e-01,\n",
       "       2.75480875e-01, 1.60706560e-01, 9.02654930e-01, 7.83293140e-01,\n",
       "       1.60725465e-01, 2.92950789e-02, 5.83401977e-01, 9.65742275e-01,\n",
       "       7.91680764e-01, 3.06868630e-01, 3.54937419e-01, 2.56862147e-01,\n",
       "       5.85254465e-02, 8.39451724e-01, 4.04957191e-02, 3.81507694e-01,\n",
       "       7.66472426e-01, 8.93733492e-01, 3.80974513e-02, 5.96323406e-01,\n",
       "       3.01182652e-02, 8.53983514e-01, 8.61862396e-01, 7.67219192e-01,\n",
       "       2.77724134e-01, 7.24978473e-01, 7.71934480e-01, 5.66447150e-01,\n",
       "       1.96764297e-02, 9.78352067e-01, 3.40868255e-01, 9.83832272e-01,\n",
       "       1.10729704e-01, 6.60982350e-01, 1.77549368e-01, 5.24939187e-01,\n",
       "       6.36574067e-01, 8.79678815e-01, 8.49756160e-01, 2.70486403e-01,\n",
       "       7.67481174e-02, 4.35902214e-01, 9.69185581e-01, 3.43014002e-01,\n",
       "       3.76595420e-01, 7.62566208e-01, 6.64029550e-01, 1.74987198e-01,\n",
       "       4.35875318e-01, 5.53727369e-01, 8.68240033e-01, 1.67760732e-01,\n",
       "       4.24727743e-01, 3.17006978e-01, 3.40366485e-01, 5.40294682e-01,\n",
       "       1.36348534e-01, 3.70107815e-01, 7.05640690e-01, 3.09301386e-01,\n",
       "       5.36276106e-01, 7.30922117e-01, 3.53934738e-01, 2.10887368e-01,\n",
       "       6.78998563e-01, 9.70182471e-01, 4.00482537e-01, 1.51744428e-01,\n",
       "       8.41649012e-01, 7.01744186e-01, 9.66243206e-01, 1.33313002e-01,\n",
       "       2.27591403e-01, 9.87520236e-01, 3.38408796e-01, 3.02782056e-02,\n",
       "       6.99429644e-01, 4.62919590e-01, 9.71167248e-01, 9.46899328e-01,\n",
       "       6.37590027e-01, 4.39029883e-02, 5.02139066e-01, 2.33785012e-01,\n",
       "       1.93505418e-01, 6.14414140e-01, 8.16070794e-01, 8.23112260e-01,\n",
       "       6.67700048e-01, 7.20652796e-01, 8.13817741e-01, 2.46373687e-01,\n",
       "       3.30395260e-01, 2.22565166e-01, 5.93988647e-01, 5.07910444e-01,\n",
       "       5.05882693e-01, 6.13080543e-01, 6.31990172e-01, 3.53721070e-01,\n",
       "       8.36322093e-01, 4.56274457e-02, 4.01041159e-01, 2.74855593e-01,\n",
       "       1.18468544e-01, 8.32376615e-01, 2.72395102e-01, 3.00832017e-01,\n",
       "       5.33474668e-01, 9.46742649e-01, 6.27084857e-01, 7.45581565e-01,\n",
       "       3.46807815e-01, 6.83376072e-01, 8.85293240e-01, 7.33844046e-01,\n",
       "       6.71704769e-01, 7.51967481e-01, 2.67735737e-01, 9.78249038e-01,\n",
       "       8.17056530e-01, 7.06636908e-01, 6.05362843e-01, 1.69448508e-01,\n",
       "       3.86125886e-02, 7.61124429e-01, 3.88569153e-01, 8.71915004e-01,\n",
       "       2.56443610e-01, 3.16447892e-01, 7.29584528e-01, 7.61464035e-01,\n",
       "       6.69463571e-01, 4.13669380e-01, 3.28616068e-01, 3.37454372e-01,\n",
       "       4.80942325e-01, 2.28535353e-01, 8.63256857e-01, 9.06880205e-02,\n",
       "       8.06657800e-01, 8.18051760e-01, 8.00521419e-01, 4.59796138e-02,\n",
       "       6.01372560e-01, 4.04713765e-01, 5.02427990e-01, 1.68564594e-01,\n",
       "       1.84455455e-01, 1.75078621e-01, 8.96958402e-01, 9.49132167e-01,\n",
       "       8.40001749e-01, 2.35762431e-03, 3.86109074e-01, 9.83559106e-01,\n",
       "       2.57165827e-02, 8.29115938e-01, 2.49046684e-01, 5.09641092e-01,\n",
       "       2.47249859e-01, 6.37027921e-01, 8.86961716e-01, 9.82573973e-01,\n",
       "       9.72978701e-01, 1.15441488e-01, 5.92512955e-01, 8.70886346e-01,\n",
       "       2.94805767e-01, 1.87891050e-02, 2.34244051e-01, 1.21803442e-01,\n",
       "       3.75192674e-01, 3.88435848e-01, 7.53298022e-01, 5.51977806e-01,\n",
       "       3.81299508e-01, 2.91946598e-01, 6.96011020e-01, 1.43880649e-01,\n",
       "       8.35436052e-01, 2.61216773e-01, 4.43394316e-01, 9.42002549e-01,\n",
       "       4.96106958e-01, 7.03211329e-01, 9.69273331e-02, 3.11019100e-01,\n",
       "       3.90812153e-01, 9.00507251e-01, 2.69582057e-01, 2.99230610e-01,\n",
       "       4.47131331e-01, 1.85495046e-01, 8.08921428e-01, 9.76758099e-01,\n",
       "       2.58911803e-01, 8.27220592e-01, 4.26672927e-01, 8.87877008e-01,\n",
       "       6.14429682e-01, 4.16425106e-01, 1.79844537e-01, 5.63989792e-01,\n",
       "       3.84665199e-01, 5.74954645e-01, 9.14502257e-02, 9.86410954e-01,\n",
       "       7.34263191e-01, 9.07187206e-01, 5.57034017e-01, 5.82586501e-01,\n",
       "       2.74025102e-01, 3.93693266e-01, 5.53630914e-01, 5.06975858e-01,\n",
       "       2.34510945e-01, 3.71301326e-01, 1.17199097e-01, 9.56807134e-01,\n",
       "       5.81538963e-01, 3.30158135e-01, 1.01847151e-01, 2.57685432e-01,\n",
       "       2.33983785e-01, 3.41173383e-01, 2.52500002e-01, 4.74613255e-01,\n",
       "       3.69384464e-01, 6.87613540e-01, 5.95134730e-02, 5.02501202e-01,\n",
       "       7.91415316e-02, 4.53550733e-01, 3.18243983e-01, 6.62849590e-01,\n",
       "       4.16025195e-02, 5.69209611e-02, 9.81488824e-01, 4.47798442e-01,\n",
       "       9.47645702e-01, 6.95168062e-01, 4.05506187e-01, 5.93178144e-01,\n",
       "       1.91757220e-01, 3.91438840e-01, 1.70843084e-01, 8.30266502e-01,\n",
       "       6.99047264e-01, 9.29700050e-01, 2.64233341e-01, 4.61441524e-01,\n",
       "       2.60104445e-01, 1.75200267e-01, 7.46562400e-01, 4.51665337e-01,\n",
       "       3.73528597e-01, 6.80726913e-01, 2.56513247e-01, 7.20429527e-01,\n",
       "       9.95464341e-01, 3.70404832e-01, 3.94917819e-01, 1.75527271e-01,\n",
       "       6.19711648e-01, 1.06782082e-01, 8.81748771e-01, 2.76098199e-02,\n",
       "       8.44559682e-01, 4.02151497e-01, 8.63971964e-01, 9.97021294e-01,\n",
       "       7.53302933e-01, 9.30723929e-01, 2.73441511e-01, 4.40438758e-01,\n",
       "       4.50135233e-01, 4.19632892e-01, 1.82841335e-01, 6.78137812e-01,\n",
       "       5.51076235e-01, 9.95334510e-01, 7.99137175e-01, 2.11017609e-01,\n",
       "       8.79226632e-01, 2.37888201e-01, 5.01587183e-01, 8.55859225e-02,\n",
       "       5.74742145e-01, 5.28930282e-01, 3.18384854e-01, 1.62927143e-01,\n",
       "       8.19539001e-01, 1.21012203e-01, 3.93870582e-01, 6.68872388e-01,\n",
       "       4.67056128e-01, 3.41777871e-02, 1.68423462e-01, 7.36642396e-01,\n",
       "       2.99492662e-01, 3.59209653e-01, 1.83063129e-01, 8.24900639e-01,\n",
       "       7.82431607e-01, 6.25888147e-01, 9.93506521e-02, 4.75668244e-02,\n",
       "       9.96551947e-01, 7.40018844e-01, 5.65230254e-01, 6.74173431e-01,\n",
       "       7.01430072e-01, 8.11560748e-01, 9.55674323e-01, 3.98683852e-01,\n",
       "       8.55708224e-01, 3.12651089e-01, 8.61813414e-01, 4.39772243e-01,\n",
       "       6.26084088e-01, 3.92994415e-01, 8.59368302e-01, 2.47562179e-01,\n",
       "       9.72181105e-01, 3.65520000e-01, 2.34341332e-01, 7.96452184e-01,\n",
       "       2.31330588e-01, 4.05743762e-02, 6.29190724e-01, 5.06571728e-01,\n",
       "       8.88540927e-02, 2.93555717e-01, 8.47146983e-02, 1.11278935e-01,\n",
       "       2.15351344e-01, 6.79636758e-01, 7.07529820e-01, 2.29014189e-01,\n",
       "       8.59397792e-01, 7.54694254e-01, 8.93728445e-01, 6.13685527e-01,\n",
       "       9.03619864e-01, 8.99709272e-01, 3.85611381e-01, 6.73214256e-01,\n",
       "       4.28885558e-01, 3.51839677e-01, 4.49776168e-01, 7.25502460e-01,\n",
       "       9.26672318e-01, 6.49100698e-01, 6.54969330e-01, 4.50531124e-01,\n",
       "       3.88835109e-01, 3.60214127e-01, 6.06290777e-01, 6.31896845e-01,\n",
       "       9.76306408e-01, 6.75856441e-01, 6.08009558e-01, 6.31581462e-01,\n",
       "       5.01198252e-01, 4.89833694e-01, 4.69976521e-01, 4.49990834e-02,\n",
       "       5.98397796e-01, 7.88842854e-01, 4.27028026e-01, 1.58990272e-01,\n",
       "       9.66658708e-01, 6.07775643e-01, 8.50652994e-01, 2.29439487e-01,\n",
       "       9.32503032e-01, 3.68755384e-01, 8.38234374e-01, 7.39047139e-01,\n",
       "       9.81511138e-01, 2.47799164e-01, 8.79175960e-01, 5.41149757e-01,\n",
       "       8.68460771e-01, 3.04537164e-01, 5.94838918e-02, 1.20726462e-01,\n",
       "       7.38264826e-01, 4.83352069e-01, 7.52090743e-02, 9.90664030e-01,\n",
       "       3.54027977e-01, 4.84831277e-01, 3.60621884e-01, 5.83154659e-01,\n",
       "       9.64833889e-01, 9.03603629e-01, 3.64911202e-01, 9.39002283e-01,\n",
       "       9.95344664e-01, 1.19952183e-02, 9.39414923e-01, 8.27842213e-02,\n",
       "       9.19751284e-01, 5.75854671e-01, 2.64090871e-01, 5.18066269e-02,\n",
       "       3.68542629e-01, 2.95692606e-01, 1.47774976e-01, 3.06152312e-01,\n",
       "       5.49075554e-01, 9.36416227e-01, 7.13238284e-01, 5.14740129e-01,\n",
       "       5.26731436e-01, 4.45007608e-01, 8.19561640e-04, 1.52529248e-01,\n",
       "       9.80900304e-01, 5.32332821e-01, 2.71218505e-01, 2.18220428e-01,\n",
       "       9.40222207e-01, 8.12983022e-01, 4.18234140e-02, 4.44559679e-01,\n",
       "       1.21897727e-01, 2.54364297e-01, 5.96635829e-02, 1.40636343e-01,\n",
       "       1.84911695e-01, 5.65844234e-01, 2.92149084e-03, 9.27262611e-01,\n",
       "       6.53877328e-01, 5.38030805e-02, 2.20392809e-01, 3.34542859e-02,\n",
       "       4.43448775e-01, 9.12306333e-01, 1.35807955e-01, 7.20628263e-01,\n",
       "       9.17835933e-01, 3.08025757e-01, 5.30748039e-01, 3.89543048e-01,\n",
       "       4.59714689e-01, 3.57549585e-01, 3.15284587e-01, 6.76997076e-01,\n",
       "       6.21575674e-01, 3.92678371e-01, 5.48568848e-03, 3.90407308e-01,\n",
       "       6.72306802e-01, 1.24073799e-01, 9.74903427e-01, 3.09251297e-01,\n",
       "       8.75654443e-01, 9.32342243e-01, 5.76296395e-01, 7.54852358e-01,\n",
       "       8.20622608e-01, 2.06742928e-01, 8.38677429e-01, 8.16898416e-01,\n",
       "       5.44437664e-01, 5.37417103e-01, 3.87143557e-01, 6.52350199e-01,\n",
       "       7.41895787e-01, 7.20818244e-01, 9.10206054e-01, 3.23212392e-01,\n",
       "       2.65806303e-01, 4.27108670e-01, 4.46162020e-01, 3.89313655e-01,\n",
       "       2.07770117e-01, 9.01403974e-01, 3.15318673e-01, 3.81260220e-01,\n",
       "       4.71646724e-01, 2.63981152e-02, 1.82132807e-01, 4.76771466e-01,\n",
       "       4.47242582e-03, 7.52618249e-01, 1.53074676e-02, 4.62403641e-01,\n",
       "       5.38396702e-01, 3.56720352e-01, 9.82261464e-01, 3.55731998e-01,\n",
       "       5.81940707e-01, 3.66926293e-01, 1.70179437e-01, 7.93194847e-01,\n",
       "       7.24554912e-01, 4.61250139e-01, 7.17200654e-01, 3.53510849e-01,\n",
       "       7.45243760e-01, 2.39277150e-01, 7.55970113e-01, 2.97939482e-01,\n",
       "       5.64297962e-01, 5.13159735e-01, 1.35991068e-01, 2.51579437e-01,\n",
       "       3.07505457e-01, 4.67994840e-01, 5.53135107e-01, 7.47890033e-01,\n",
       "       8.88245656e-01, 8.21156598e-01, 9.18342335e-02, 6.90432402e-01,\n",
       "       8.59483992e-01, 6.53827717e-01, 7.01193286e-01, 4.49953794e-01,\n",
       "       7.91772258e-01, 8.80347783e-01, 1.97362634e-01, 2.71830773e-01,\n",
       "       2.06748907e-01, 9.43203288e-02, 4.43400093e-01, 7.90409184e-01,\n",
       "       4.90958190e-01, 9.73355380e-01, 8.44217738e-01, 2.77564739e-01,\n",
       "       1.95841402e-01, 4.27854852e-01, 4.97048705e-01, 2.14438067e-01,\n",
       "       6.99516545e-02, 9.71699173e-01, 6.44837612e-01, 2.90704214e-01,\n",
       "       8.11649017e-01, 7.64686631e-01, 6.60633764e-01, 9.48686927e-01,\n",
       "       3.73244981e-01, 8.25036019e-01, 2.98724630e-01, 7.31721904e-01,\n",
       "       4.89759305e-01, 8.53965395e-01, 2.18709670e-02, 6.21607714e-02,\n",
       "       7.33082663e-01, 7.55643548e-01, 8.07320555e-02, 8.69586415e-01,\n",
       "       9.04828974e-01, 7.59090583e-01, 2.30520504e-02, 2.54853527e-01,\n",
       "       6.85282020e-01, 4.77214847e-01, 1.95526849e-01, 7.96492650e-03,\n",
       "       2.69282927e-01, 2.63980025e-02, 6.56251528e-01, 7.33326339e-01,\n",
       "       2.42508643e-01, 8.00612580e-02, 2.70024931e-01, 9.96773113e-01,\n",
       "       2.76836101e-01, 8.55668845e-01, 7.07991725e-01, 3.08678428e-01,\n",
       "       5.71105323e-01, 8.50591451e-01, 2.69831495e-01, 8.82532857e-01,\n",
       "       9.55965945e-01, 3.85513468e-02, 7.85584751e-01, 3.23927759e-01,\n",
       "       1.99759303e-01, 4.81984240e-01, 8.23333165e-01, 6.03277949e-01,\n",
       "       8.95115834e-01, 4.65820707e-01, 7.59420180e-01, 9.60315022e-01,\n",
       "       7.00520510e-01, 5.25316097e-02, 6.92713491e-01, 9.58596052e-01,\n",
       "       7.36921013e-01, 9.20027107e-01, 7.80246715e-02, 6.99906360e-01,\n",
       "       1.34276214e-01, 6.32644835e-02, 3.49913687e-02, 2.72589424e-02,\n",
       "       4.06089500e-01, 6.46798615e-01, 3.30850888e-01, 5.30541005e-01,\n",
       "       5.32938222e-01, 1.27813015e-01, 2.36909091e-01, 3.92241198e-01,\n",
       "       8.64421890e-01, 4.02084855e-01, 1.38333215e-01, 3.15932175e-02,\n",
       "       8.75765344e-01, 6.31722310e-01, 4.38004215e-01, 8.69735042e-01,\n",
       "       1.02024016e-01, 1.63060654e-01, 4.86670417e-01, 3.38089465e-01,\n",
       "       8.61966229e-01, 3.43611454e-01, 5.57385445e-01, 8.95690574e-01,\n",
       "       5.76386977e-01, 1.47410847e-01, 5.37145787e-01, 4.41954652e-01,\n",
       "       1.74240662e-01, 6.44902185e-01, 1.71485667e-01, 3.28333003e-01,\n",
       "       3.02753317e-01, 5.76517534e-01, 7.01785685e-01, 7.05505140e-01,\n",
       "       6.82480079e-01, 5.43178790e-01, 2.90029628e-01, 2.60484014e-01,\n",
       "       3.08480615e-01, 1.68710309e-01, 2.36070968e-01, 5.87765732e-01,\n",
       "       6.99054093e-02, 5.80624389e-01, 8.30972175e-01, 3.23304246e-01,\n",
       "       8.30260818e-01, 4.32405872e-01, 6.65508361e-01, 9.22617797e-02,\n",
       "       7.10484715e-01, 3.72120939e-01, 5.37763647e-01, 9.26185084e-01,\n",
       "       4.97487520e-01, 9.45383207e-01, 7.86608222e-01, 3.83578548e-01,\n",
       "       6.47454829e-01, 5.52743221e-01, 1.87215474e-01, 6.97636225e-02,\n",
       "       1.54939491e-01, 2.81170755e-01, 2.31774618e-01, 8.27060766e-01,\n",
       "       2.38515441e-01, 3.64932238e-01, 5.45975411e-01, 7.69798021e-01,\n",
       "       9.15980902e-01, 4.72846717e-01, 4.67093777e-01, 8.34216783e-03,\n",
       "       3.28642749e-01, 5.72011092e-01, 9.37416461e-01, 8.22750385e-01,\n",
       "       4.89669744e-01, 1.39145011e-01, 8.19952404e-01, 8.67843735e-01,\n",
       "       4.22968362e-01, 8.69993680e-01, 8.07745091e-01, 7.50084740e-01,\n",
       "       1.43017894e-01, 6.42903011e-01, 3.78044359e-01, 5.47737708e-01,\n",
       "       2.33327456e-01, 1.57167718e-01, 8.21527279e-01, 8.94875679e-01,\n",
       "       1.39754742e-01, 4.99213622e-01, 3.83567944e-01, 9.01442646e-01,\n",
       "       5.50019595e-02, 8.75270870e-01, 4.45146545e-01, 8.70764505e-01,\n",
       "       7.05995169e-01, 7.95485760e-01, 8.60687442e-01, 4.28914052e-02])"
      ]
     },
     "execution_count": 3,
     "metadata": {},
     "output_type": "execute_result"
    }
   ],
   "source": [
    "#get an array of 1000 floats\n",
    "x = np.random.rand (1000)\n",
    "x"
   ]
  },
  {
   "cell_type": "markdown",
   "metadata": {},
   "source": [
    "From the experiment above, if just one value is given when using numpy.random.rand(x) then the result is and array of x number of floats. The floats in the array according to the function numpy.random.rand are in the interval [[0,1)] which means that 0 is included but 1 is excluded. So there is a semi open interval. From the list above it could seem that the numbers are higher than 1: for example 7.05995169e-01, but looking with attention they are presented in an exponential form, the number avobe in decimal notation is 0.705995169, then a number between the defined interval in the function."
   ]
  },
  {
   "cell_type": "code",
   "execution_count": 3,
   "metadata": {},
   "outputs": [
    {
     "data": {
      "text/plain": [
       "<function matplotlib.pyplot.show(*args, **kw)>"
      ]
     },
     "execution_count": 3,
     "metadata": {},
     "output_type": "execute_result"
    },
    {
     "data": {
      "image/png": "[encoded data removed]",
      "text/plain": [
       "<matplotlib.figure.Figure at 0x110191ef0>"
      ]
     },
     "metadata": {
      "needs_background": "light"
     },
     "output_type": "display_data"
    }
   ],
   "source": [
    "%matplotlib inline\n",
    "\n",
    "import matplotlib.pyplot as plt\n",
    "\n",
    "plt.hist(x)\n",
    "plt.show"
   ]
  },
  {
   "cell_type": "markdown",
   "metadata": {},
   "source": [
    "Returns random floats from low (inclusive) to high (exclusive) following continuous uniform distribution. That means that there is the same probability of obtaining any number. Moreover a continuous distribution means that there is no separation between one result and the following one as there are an infinite number of floats between those two."
   ]
  },
  {
   "cell_type": "markdown",
   "metadata": {},
   "source": [
    "**2.2 numpy.random.randn**"
   ]
  },
  {
   "cell_type": "markdown",
   "metadata": {},
   "source": [
    "Return a sample (or samples) from the “standard normal” distribution. If no argument is given, the result is a single float."
   ]
  },
  {
   "cell_type": "code",
   "execution_count": 4,
   "metadata": {},
   "outputs": [
    {
     "data": {
      "text/plain": [
       "0.7880200482129548"
      ]
     },
     "execution_count": 4,
     "metadata": {},
     "output_type": "execute_result"
    }
   ],
   "source": [
    "#Running randn function\n",
    "np.random.randn()"
   ]
  },
  {
   "cell_type": "markdown",
   "metadata": {},
   "source": [
    "In the example below taken from the documentation the random numbers are subjected to external calculations such as * 2.5 or +3."
   ]
  },
  {
   "cell_type": "code",
   "execution_count": 5,
   "metadata": {},
   "outputs": [
    {
     "data": {
      "text/plain": [
       "array([[0.14637456, 3.17904927, 7.16463174, 3.99218441],\n",
       "       [5.47450018, 5.57881989, 3.29482353, 1.52935603]])"
      ]
     },
     "execution_count": 5,
     "metadata": {},
     "output_type": "execute_result"
    }
   ],
   "source": [
    "2.5 * np.random.randn(2, 4) + 3"
   ]
  },
  {
   "cell_type": "code",
   "execution_count": 6,
   "metadata": {},
   "outputs": [
    {
     "data": {
      "text/plain": [
       "array([ 4.10908444e-01,  1.83312229e+00, -2.27119493e+00,  5.11644409e-01,\n",
       "        1.41023289e+00, -6.53767899e-01,  7.79737990e-03, -1.22011648e+00,\n",
       "        1.10882884e-01, -8.39962596e-01,  8.71431482e-02,  6.72685280e-01,\n",
       "       -1.89374275e+00, -1.65774193e+00, -1.20274208e-01, -1.26271079e-01,\n",
       "        8.71731791e-01, -1.62095048e+00,  8.83665132e-01, -7.04764297e-01,\n",
       "        4.31676505e-01,  5.64036224e-01, -9.55050812e-01, -1.39760774e-03,\n",
       "        2.13972431e+00,  1.65355163e-02, -5.22211944e-01,  1.12674487e+00,\n",
       "        4.28744100e-02,  1.34135467e+00, -3.38424080e-01, -2.04140527e+00,\n",
       "       -7.57329660e-01,  8.32176663e-01, -4.82226521e-01, -5.21952070e-01,\n",
       "       -1.29375259e+00,  1.97352532e-01, -5.47468430e-01,  3.93383308e-01,\n",
       "       -6.87280804e-01,  2.90006573e-01, -2.24044696e-01,  4.41753729e-01,\n",
       "        2.02407909e-01,  3.08339562e-02,  1.66322836e+00,  6.73413690e-01,\n",
       "        2.47906665e+00,  1.36708253e+00,  3.23122994e-01,  8.98431474e-01,\n",
       "       -5.04806046e-01, -3.40345242e-01,  1.03209804e+00, -8.24893027e-01,\n",
       "        8.17337402e-02, -9.92291494e-01,  6.65888709e-01, -6.79644143e-01,\n",
       "        2.61301107e-01,  2.13962037e-02,  1.17107715e-01,  8.96910553e-02,\n",
       "       -1.52279329e+00, -8.19399385e-01, -1.16953146e+00,  3.93316342e-01,\n",
       "       -4.39406814e-01, -1.37146645e+00, -5.43893296e-01, -1.82592964e+00,\n",
       "        1.39464302e+00,  1.59199386e-01, -3.58373846e-01, -4.85732693e-01,\n",
       "        5.36462920e-01,  7.82186848e-02,  4.49978398e-01,  1.49215457e+00,\n",
       "       -6.08388528e-01, -1.14388503e+00, -8.31853416e-01,  6.40106455e-01,\n",
       "       -2.15798418e-01, -5.01449320e-01,  1.60120683e+00,  1.18624836e+00,\n",
       "       -1.38049199e-01, -1.19717674e-01, -1.12804086e+00, -3.80593628e-01,\n",
       "        3.21539098e-02,  1.13581160e+00,  1.96234584e+00,  8.57851958e-01,\n",
       "        7.27506224e-01,  2.00316092e+00, -1.73033636e+00,  8.40709756e-01,\n",
       "        1.14687181e+00,  5.48406480e-01,  1.33679664e+00,  6.54293094e-01,\n",
       "       -2.14608241e+00,  1.66701351e+00,  1.27695743e+00,  4.11798501e-01,\n",
       "        4.34918762e-01, -4.73618189e-01, -5.11185447e-01, -4.17852410e-01,\n",
       "       -1.03522537e+00, -8.17242326e-01,  1.27352895e-01, -2.40352244e+00,\n",
       "        6.65698729e-01,  1.07651526e+00,  1.03091717e+00,  5.25817443e-01,\n",
       "       -8.16188954e-01,  5.76091538e-01,  1.81392723e+00, -2.46392819e-01,\n",
       "       -2.01474972e+00, -3.62842271e-01,  2.32858133e+00, -5.28444187e-01,\n",
       "        1.31991678e+00,  1.20214086e+00, -1.73841153e+00, -9.26952494e-01,\n",
       "        3.71815439e-01,  1.16657831e+00, -7.72615952e-02,  2.51885579e-01,\n",
       "        1.11443894e+00,  4.51428957e-01,  8.43606984e-01, -1.64043665e+00,\n",
       "        7.63634137e-01, -8.56037088e-01,  1.05529815e-01,  4.70300596e-01,\n",
       "        1.00560726e+00,  2.02668264e+00,  1.17060864e+00,  4.19862861e-01,\n",
       "       -6.08200497e-01,  1.52290807e+00, -6.28845795e-01, -8.35170605e-01,\n",
       "        3.46537405e-02,  1.82911801e+00, -1.81052888e+00, -1.52086606e+00,\n",
       "       -1.62089881e+00,  1.69538709e+00,  8.91880200e-01,  1.07348823e+00,\n",
       "        1.89524082e-01,  1.04003055e+00, -1.31355371e+00, -2.68094858e+00,\n",
       "        1.85910785e-01, -3.81006918e-01, -1.56130326e+00, -4.77813477e-02,\n",
       "        4.87814116e-01, -8.83038581e-01, -5.38378717e-01, -6.75706914e-02,\n",
       "        1.08829473e+00,  1.68012128e+00,  1.53794176e+00, -8.03674310e-01,\n",
       "        2.45059257e-01, -1.60112545e+00,  1.31291290e+00, -2.17441926e-01,\n",
       "        7.05004759e-01, -5.82398293e-01, -9.17509939e-01,  1.83424691e+00,\n",
       "       -6.42059922e-01,  3.48624565e-01,  1.97918885e+00, -2.46303506e-01,\n",
       "       -8.32616970e-01, -1.82648429e-01,  6.07878164e-02,  1.72683318e-03,\n",
       "       -1.95291367e+00, -3.44352165e-01,  8.51496713e-01,  3.53318134e-01,\n",
       "        3.05220560e-01,  8.44688256e-01,  1.70274073e+00, -2.27191397e+00,\n",
       "       -1.67802655e-02,  6.04452708e-01, -2.25680913e-01, -5.71653645e-01,\n",
       "       -2.88440907e-01, -2.76089830e-01, -1.24055413e-01,  2.10865654e-01,\n",
       "        4.95312510e-01,  1.52305870e+00, -1.48392039e+00,  4.90493596e-01,\n",
       "       -2.05982584e+00,  2.38488824e+00,  1.03326525e-01,  8.92909812e-01,\n",
       "       -4.99687195e-01,  5.07933276e-01,  1.95855471e-01, -5.05845376e-01,\n",
       "       -2.51360461e-01,  6.36178405e-01,  7.20585548e-01, -8.61177787e-01,\n",
       "       -3.84452474e-01, -4.61695608e-01,  4.75846998e-01, -2.33341515e-01,\n",
       "       -5.14047910e-01,  2.39398553e+00, -1.67207546e+00,  1.58543270e+00,\n",
       "       -3.98017793e-01,  5.13151195e-01,  1.80539663e+00, -3.94503800e-01,\n",
       "       -1.52062369e-01, -1.73438384e-01, -5.58066496e-01, -1.95667761e+00,\n",
       "       -2.17498706e-01, -1.45936572e+00,  1.36016020e+00, -1.68907221e+00,\n",
       "        1.05869324e-01, -2.20239244e-01, -8.58115924e-03,  3.31104996e-01,\n",
       "        4.60139585e-01,  9.32713120e-01, -2.27460920e-01,  1.97278164e+00,\n",
       "       -2.34098618e+00, -4.16301778e-01, -7.50150412e-01, -4.96309244e-01,\n",
       "       -2.36056893e-01, -8.92230461e-01, -1.49843527e-01,  1.67619547e+00,\n",
       "       -1.22369045e+00, -1.85225940e-01, -9.15771181e-01,  2.47689937e-01,\n",
       "       -3.79939266e-01, -9.53451731e-01, -7.85470714e-01,  2.54686606e+00,\n",
       "       -6.07161741e-01,  1.30526929e+00, -8.80532226e-01, -1.97332324e-01,\n",
       "       -8.65622206e-01,  7.45589189e-01, -3.63784618e-01, -2.18352114e-01,\n",
       "       -1.05234908e+00, -3.42048780e-01, -8.85047767e-01,  1.17752153e+00,\n",
       "        1.75680387e+00, -8.98613955e-01,  3.64494055e-01,  9.48363478e-01,\n",
       "       -1.23269558e-01,  4.25278609e-01,  1.59972781e+00, -7.11220020e-01,\n",
       "       -2.72096572e-01,  7.21795807e-01, -1.75481816e-01,  2.48628145e-02,\n",
       "       -1.38286414e-02, -2.28354316e+00, -6.13688781e-01, -1.52205494e+00,\n",
       "        6.55113297e-01,  5.55730509e-01, -3.81680451e-01, -1.05942136e+00,\n",
       "        7.45727987e-01, -1.61386055e+00,  1.16765146e+00, -4.71405907e-01,\n",
       "        3.54871022e-01, -1.51804897e+00,  7.33803531e-01,  1.21418312e+00,\n",
       "        4.97604017e-02,  1.21791241e+00,  5.16744560e-02, -4.54898005e-01,\n",
       "       -9.23385916e-02, -1.95528731e-02, -3.20099333e-01, -2.60535896e-01,\n",
       "       -1.23728860e+00,  8.94756977e-01,  1.31942183e+00, -1.08873068e-01,\n",
       "        3.10435301e-01,  1.69784584e+00, -1.78751982e+00, -3.85875568e-01,\n",
       "       -1.87270828e+00, -8.59108981e-01, -2.76580069e-01,  2.96198227e-01,\n",
       "        2.56595351e-01,  1.77359433e-01, -2.05254348e+00,  6.78408276e-02,\n",
       "       -8.91311743e-01, -5.22860412e-01,  3.17947675e-01, -2.70616369e-02,\n",
       "       -5.06071617e-01,  9.43504528e-01, -1.95508570e-02,  1.54382961e-02,\n",
       "        1.04545727e+00,  4.65338680e-01,  2.03208530e-01, -2.23956126e-01,\n",
       "       -1.61173529e-01,  3.68010812e-01,  1.03514127e+00,  5.66236043e-01,\n",
       "       -4.49449603e-02, -1.18741824e+00,  1.56287393e+00,  4.79247717e-01,\n",
       "        1.30750843e+00,  2.50139953e+00,  4.57555967e-01, -9.01701107e-01,\n",
       "        3.59530625e-01, -3.71784449e-01,  1.77520627e+00,  2.95340389e-01,\n",
       "       -2.75096208e+00,  1.11117523e+00, -1.58885628e+00, -4.03316688e-01,\n",
       "       -7.36389087e-01,  2.17749689e-01, -5.90500294e-01,  8.31214647e-01,\n",
       "        5.41657595e-01,  4.75778584e-01, -1.17772785e+00, -6.56921995e-01,\n",
       "        4.63731352e-01, -2.97279530e-01,  1.10072014e-01, -3.06527196e-01,\n",
       "        8.33205946e-02, -1.02096458e+00, -4.70864079e-01, -8.12469563e-01,\n",
       "        2.14044154e-01, -4.92015405e-01, -1.33341568e+00,  6.78197534e-02,\n",
       "       -1.94138842e+00, -7.87829041e-01,  1.08625543e+00,  7.42440535e-01,\n",
       "       -5.97993224e-01,  5.93835499e-01, -7.08994868e-01, -6.89560236e-01,\n",
       "       -1.36690071e+00, -7.27722835e-01,  7.17193411e-01,  1.14338392e+00,\n",
       "        6.39423223e-01, -2.30716680e-01,  4.50991057e-01, -1.32083653e+00,\n",
       "        3.23554767e-01,  3.24834687e-01, -1.00815944e-01,  3.90298908e-01,\n",
       "       -1.63754888e+00,  4.27450094e-01, -1.25273601e+00,  1.47681877e-01,\n",
       "        6.52664683e-01, -5.86463881e-01,  7.94187257e-01,  1.46869789e+00,\n",
       "        6.69364911e-01, -2.64488088e+00, -2.14177122e-01, -1.58631510e+00,\n",
       "        1.38240078e+00,  4.04211297e-01, -6.50610309e-01,  1.58495107e+00,\n",
       "        6.23846065e-01,  1.38719771e+00, -1.34971242e+00, -1.01926359e+00,\n",
       "       -6.28925270e-01, -4.07692059e-01,  2.26576669e-01,  6.11410406e-01,\n",
       "        1.17331385e+00,  1.82965106e+00, -1.16880995e-02, -2.19716807e-01,\n",
       "        1.06714153e-01, -3.93147117e-01,  4.77194531e-01, -5.41814102e-01,\n",
       "       -2.01414306e-01,  9.08950744e-01, -8.21730075e-01, -2.04075783e-01,\n",
       "       -2.98434829e+00,  1.66960166e+00, -8.10038594e-01, -4.34538283e-01,\n",
       "        5.96145034e-01, -9.91616501e-01, -9.58827614e-02, -3.16651161e-01,\n",
       "        7.92759690e-02,  3.90426233e-01, -9.53671533e-01,  1.14371972e-01,\n",
       "        1.93103586e+00,  1.15009544e+00, -6.49954459e-01,  1.70888543e+00,\n",
       "       -4.53690319e-01,  9.76095594e-01, -4.27927813e-01,  1.73464572e+00,\n",
       "       -6.88268771e-01,  2.09940157e+00, -8.51470676e-01, -4.75084790e-01,\n",
       "        1.26794716e-01,  4.41876263e-01,  3.26416968e-01,  1.82326685e+00,\n",
       "        9.97436729e-02,  8.00657121e-02,  5.10762469e-02, -1.43393864e-01,\n",
       "        8.50194978e-01, -4.95765413e-01, -8.69683092e-01,  8.71917611e-01,\n",
       "       -8.99639547e-03, -1.22671067e+00,  1.52354954e+00,  1.99905933e+00,\n",
       "        7.43042753e-01, -2.69517003e+00,  7.66249720e-01, -7.39606368e-01,\n",
       "        1.89049029e+00,  1.51749284e+00, -2.29386703e+00, -2.32092142e-01,\n",
       "       -2.37048994e-01,  1.21629614e+00, -1.14199915e+00, -9.49209715e-01,\n",
       "       -4.08428543e-01,  4.82847378e-01,  6.09964092e-01,  6.29901686e-01,\n",
       "        6.00537169e-01, -1.03092195e+00,  7.63245961e-01,  2.51360847e-02,\n",
       "        2.18576204e-02, -7.76777901e-01,  5.34766996e-01, -1.14665068e+00,\n",
       "        1.38832629e+00, -4.35445507e-01, -1.28198637e+00, -5.18393459e-01,\n",
       "       -5.38130365e-01,  5.23402396e-01, -2.40408259e+00, -1.87881254e-01,\n",
       "        2.53633593e-01,  2.66997396e+00,  2.69026428e-01,  2.52945372e+00,\n",
       "       -3.50000142e-01,  1.47132700e-01,  2.16397649e+00,  2.04074818e-01,\n",
       "        5.22981294e-01, -8.78622070e-01,  1.12429554e+00, -1.90355982e-01,\n",
       "        6.09080230e-02, -1.03526943e+00, -1.67139566e+00, -1.09939129e+00,\n",
       "        5.29796082e-02,  2.23976176e+00, -3.73732274e-01,  1.50917080e-01,\n",
       "       -1.99399535e+00,  4.62100470e-01,  4.32966463e-01, -1.04827606e+00,\n",
       "        8.47501210e-01,  3.24297261e-01,  3.28395893e-01, -1.29539504e-02,\n",
       "       -9.25820215e-01,  4.32742492e-01, -9.77778279e-02,  5.37033404e-01,\n",
       "        5.21020333e-01,  1.53931950e-01,  1.90700175e-02, -1.55925054e+00,\n",
       "        9.66873391e-01,  2.66347688e-01, -3.00548300e-01,  9.91372169e-01,\n",
       "       -1.19518111e+00,  1.21444048e+00, -1.47183254e+00, -1.05164194e+00,\n",
       "       -3.09751157e-01, -2.24628175e+00, -1.49602974e-01, -1.42002945e+00,\n",
       "        7.82839799e-01, -9.01201250e-01, -6.18268538e-01, -9.24158425e-01,\n",
       "       -4.59971808e-01, -5.65871976e-01, -3.66338285e-01,  7.13962110e-01,\n",
       "       -6.12741039e-01, -3.40851014e-02,  9.84666309e-01,  2.91925864e+00,\n",
       "       -5.83433491e-01,  6.18253828e-01, -2.64301336e-01, -2.89284141e-01,\n",
       "        9.89626561e-01,  5.17818141e-01,  1.56101959e+00,  4.13710203e-01,\n",
       "       -1.84658517e-01, -9.13229678e-01,  6.76412907e-01,  1.08434065e+00,\n",
       "       -7.88506329e-02, -8.38981808e-02, -1.45931716e-03,  1.60514573e+00,\n",
       "        1.52809327e+00, -1.19025440e+00, -4.35566727e-01, -4.46183559e-02,\n",
       "       -7.20851960e-01, -5.28511065e-01,  4.96056108e-01,  6.05727409e-02,\n",
       "       -8.52313030e-01, -1.56990464e+00,  1.37305025e-01,  5.71480897e-01,\n",
       "        8.50616404e-01,  3.93001643e-02,  5.68045601e-01, -4.81407333e-01,\n",
       "        7.68112712e-01, -8.55585320e-01, -3.98218286e-02,  1.32248529e-01,\n",
       "       -4.15116362e-01,  3.25979997e-02, -1.34915542e+00, -3.46903205e-02,\n",
       "       -5.58640586e-01,  1.13186962e+00, -1.99143634e+00,  2.58003657e-01,\n",
       "       -1.12136565e+00, -5.48042604e-01, -1.38183925e-01, -2.42775474e+00,\n",
       "       -9.33520065e-01,  8.09887736e-01, -3.53400895e-01, -1.32143995e-01,\n",
       "        1.22338450e-02, -2.97185763e+00, -4.83223711e-01,  8.25777900e-01,\n",
       "        2.51106807e-01,  8.40564369e-01,  2.99798571e-01, -3.76580897e-01,\n",
       "        1.76374377e+00,  1.31890814e+00, -4.30919440e-01, -7.74827111e-01,\n",
       "       -2.52629423e-01, -1.26562395e-01, -1.06555974e+00,  4.79548741e-01,\n",
       "       -1.01298477e+00, -1.36062296e+00, -5.55466131e-01,  1.01524014e+00,\n",
       "        1.28061230e+00,  1.91952840e-02, -1.13468293e+00,  1.69850954e+00,\n",
       "        1.90022779e+00,  4.55008484e-01, -1.06123587e+00, -1.71562461e+00,\n",
       "       -4.40707225e-01,  6.98529337e-01, -5.56926359e-01, -8.36839085e-01,\n",
       "       -6.02657469e-01, -5.67547609e-01,  3.04461930e-01, -7.27329583e-01,\n",
       "        1.32383451e+00, -6.62967524e-01, -1.80513526e-01, -2.38043511e-01,\n",
       "        1.99030377e-01,  1.32644150e+00, -1.92786984e-01,  1.50638626e+00,\n",
       "        4.60135825e-01, -7.43132991e-01,  4.05841045e-01,  6.93614863e-01,\n",
       "        8.82619401e-01, -3.08744404e-01,  1.65543861e+00,  1.17384069e-01,\n",
       "        5.63703616e-02,  3.60554656e-02,  6.97439741e-02,  5.89788120e-01,\n",
       "        7.97540277e-01, -9.71093628e-01, -8.22682289e-01,  6.96751914e-01,\n",
       "        6.81877459e-02,  2.68098467e-01,  7.12236603e-01, -1.12032796e+00,\n",
       "        8.73501930e-01,  4.96892004e-01, -1.01551393e+00,  7.17913683e-01,\n",
       "       -2.15987379e+00,  9.57523455e-01,  1.27052840e-01, -1.42935347e+00,\n",
       "       -1.25444453e+00, -8.58853421e-01, -4.93430143e-01,  1.65017244e-01,\n",
       "       -5.19633680e-02, -1.86581055e+00,  6.97600848e-02,  1.61060485e-01,\n",
       "        1.20361292e-01, -7.39969696e-01, -1.00587117e+00, -1.21380569e+00,\n",
       "       -8.02124262e-01,  1.37826002e+00, -8.04872554e-01,  2.95276446e-01,\n",
       "       -1.53136321e-01, -6.61642097e-01, -4.80812516e-01, -5.67423916e-01,\n",
       "       -2.20362742e-01,  7.63520166e-01, -1.48856738e+00,  3.56171074e-01,\n",
       "       -1.41289850e+00, -1.02815465e+00, -6.36366435e-01, -2.56378855e-01,\n",
       "        1.13692038e+00, -1.38515106e-01,  7.97449587e-01, -1.27024078e+00,\n",
       "        9.52698480e-01, -2.42862667e-01, -2.58311085e-01, -1.12762122e+00,\n",
       "        6.55655208e-01,  6.91250469e-01,  9.67311828e-01, -7.80973508e-01,\n",
       "       -1.21950509e+00, -4.20068722e-01,  3.69692791e-01,  3.61271197e-01,\n",
       "       -9.95296004e-01, -1.37481850e+00, -2.36861312e-02,  2.53214007e+00,\n",
       "        5.18720007e-01,  2.40623840e+00,  9.70551844e-01,  7.78322223e-01,\n",
       "        6.75308342e-01,  5.66978173e-01,  2.62017808e-01,  1.22817893e+00,\n",
       "       -5.10965578e-01,  2.11954412e+00,  1.56114976e+00,  7.04384218e-01,\n",
       "        1.61429200e-01,  2.38467080e+00,  4.77967784e-01, -2.80424953e-01,\n",
       "       -1.09634641e+00,  2.38578821e-02, -8.12319381e-01,  5.52120161e-01,\n",
       "        2.87843038e-01,  1.31680452e+00, -1.49152560e+00,  8.04317312e-02,\n",
       "       -3.35680327e-01, -1.51883451e+00,  1.20482589e+00, -6.26922706e-01,\n",
       "       -1.88937215e+00, -2.79478510e+00,  4.86452462e-01, -1.95766819e-01,\n",
       "       -2.69299614e-01,  4.61136119e-01, -8.13616543e-01,  4.99732697e-01,\n",
       "       -1.44615300e+00, -1.02901605e-01,  7.88419324e-01,  1.27688209e+00,\n",
       "       -6.86176533e-01, -6.48015657e-01,  9.16761407e-01,  3.78456583e-01,\n",
       "       -7.74293656e-01, -2.97114581e+00, -5.26138584e-01, -4.19235246e-01,\n",
       "        2.16935402e+00,  1.54807655e+00,  1.82258321e+00, -9.75316625e-01,\n",
       "       -4.12690228e-01, -1.64464090e+00, -4.69555889e-01, -8.49984403e-01,\n",
       "       -8.83863615e-01,  3.72279041e+00, -4.05044584e-01, -4.40840655e-01,\n",
       "       -1.69279395e+00, -4.54304660e-01, -9.53595703e-01,  6.22342432e-01,\n",
       "        5.33537238e-01,  1.23261188e+00, -1.68712909e+00,  6.83621399e-01,\n",
       "       -2.29003143e-01, -4.44584568e-01,  1.71768891e-01, -1.03309620e+00,\n",
       "        9.64546287e-01,  9.70189435e-01, -4.16757434e-02, -2.23685007e+00,\n",
       "        9.07545746e-02,  7.31366354e-01,  7.83628895e-01,  1.38772675e+00,\n",
       "       -1.88784569e-01,  5.80476878e-01, -5.27145016e-01,  7.77313390e-01,\n",
       "       -6.76481547e-01, -1.02660685e+00, -5.78538706e-01,  6.92669196e-01,\n",
       "       -3.91190947e-01, -3.73015308e-01, -1.41301631e-01, -5.25468416e-01,\n",
       "        5.34817815e-03,  1.44505635e+00, -1.48173409e+00, -7.77862555e-01,\n",
       "       -6.11104413e-01,  6.89676025e-01,  3.21910433e-01, -6.17625111e-01,\n",
       "        1.14882163e+00, -9.54735612e-01,  1.12760708e+00, -1.32899067e+00,\n",
       "        1.42742208e+00, -1.02857655e+00, -1.04797151e+00, -9.00569191e-02,\n",
       "       -2.77643347e+00, -5.10319592e-01,  1.35594047e+00,  2.31675638e-01,\n",
       "        1.61937429e-01, -3.14381216e-02,  5.59288555e-01,  1.29752140e+00,\n",
       "        2.13278053e-01,  2.11484988e+00,  1.03567845e+00,  9.75590349e-01,\n",
       "       -2.33801771e-01,  9.73393064e-01, -7.51611314e-01,  9.32702368e-01,\n",
       "       -1.35119899e+00,  4.13167115e-01,  2.07049014e-01,  1.25018464e+00,\n",
       "        4.44737581e-01,  4.06045386e-01,  1.24296826e+00,  9.45980627e-02,\n",
       "       -4.80100500e-01,  9.96970227e-01, -3.09336398e-01, -1.57156246e+00,\n",
       "        1.61014233e+00,  6.60590295e-01, -1.67278992e+00,  3.24805959e+00,\n",
       "       -3.72910112e-01, -6.77814378e-01,  4.23308835e-01,  1.26037763e+00,\n",
       "        1.76361873e+00, -6.04733585e-01,  2.72229216e+00, -2.01537666e+00,\n",
       "       -2.15218059e-01,  1.24503424e+00,  4.10432595e-01, -5.30650757e-01,\n",
       "       -7.41245729e-02, -3.84736566e-01,  1.30226961e-01, -3.20527347e-01,\n",
       "       -5.30183724e-01, -7.02840636e-01, -5.24420373e-01,  4.31816343e-01,\n",
       "       -1.51544827e+00,  6.03998080e-01,  6.91588188e-02,  3.11258536e-01,\n",
       "       -2.27489610e-01,  1.53642818e+00, -1.54460249e+00,  1.02223505e+00,\n",
       "       -7.83521440e-01, -1.64008853e-01,  8.85703914e-01,  4.14502031e-01,\n",
       "       -5.13430226e-01, -2.27938507e-01,  1.30818882e+00,  2.06584402e-01,\n",
       "       -2.03291569e+00, -8.98999428e-01, -2.08960336e+00,  2.24976973e+00,\n",
       "       -1.21983588e+00, -1.05079824e-01, -1.61804373e+00, -5.23645560e-01,\n",
       "       -1.60466611e-01,  7.10518712e-01,  1.19465655e-01,  8.73073058e-01,\n",
       "        1.98671618e-01, -1.45113649e+00, -5.25385175e-01, -8.00314750e-01,\n",
       "        2.35541458e-01, -1.31535649e+00,  5.08998650e-01, -5.23029822e-01,\n",
       "       -8.69270191e-01, -8.02291944e-01, -7.90607323e-01,  3.03644577e-01,\n",
       "        1.85299321e-01, -7.63318319e-01, -2.69552798e-01,  1.32793448e+00,\n",
       "        1.31809491e+00,  2.00613678e-01,  5.24040477e-01,  5.77619299e-01,\n",
       "       -4.58330788e-01, -2.09186430e+00,  2.79538399e-01,  9.90378678e-02,\n",
       "        1.44006489e+00,  5.04772191e-01,  6.07536703e-01,  5.56247134e-01,\n",
       "       -3.29818113e-01,  1.21911393e-01,  1.61801321e+00, -1.97047508e-01,\n",
       "        1.86687696e+00, -3.70533201e-01,  4.64038289e-01,  1.11163539e+00,\n",
       "        3.36746790e-01,  6.61069705e-02, -1.49206993e+00, -2.01203104e+00,\n",
       "        1.22959839e+00, -6.27919159e-02, -7.39539733e-01, -4.19189701e-01,\n",
       "        1.26890598e+00,  9.46337844e-01,  1.24534651e-02, -7.09713593e-01,\n",
       "        5.63435769e-01, -1.49798850e+00,  2.38601530e-01, -1.79150649e+00,\n",
       "       -1.13058801e+00, -2.34087377e+00,  4.70666920e-01,  1.65119595e-01,\n",
       "       -2.44040990e+00, -9.74219932e-01,  1.48200614e+00, -1.22243473e+00,\n",
       "        1.35256816e+00, -9.60029114e-01,  5.86986704e-02,  5.23618184e-01,\n",
       "        5.17011174e-01,  1.70824700e-01, -2.20017677e-01, -9.76825927e-02])"
      ]
     },
     "execution_count": 6,
     "metadata": {},
     "output_type": "execute_result"
    }
   ],
   "source": [
    "x = np.random.randn (1000)\n",
    "x"
   ]
  },
  {
   "cell_type": "code",
   "execution_count": 7,
   "metadata": {},
   "outputs": [
    {
     "data": {
      "text/plain": [
       "<function matplotlib.pyplot.show(*args, **kw)>"
      ]
     },
     "execution_count": 7,
     "metadata": {},
     "output_type": "execute_result"
    },
    {
     "data": {
      "image/png": "[encoded data removed]",
      "text/plain": [
       "<matplotlib.figure.Figure at 0x110195ba8>"
      ]
     },
     "metadata": {
      "needs_background": "light"
     },
     "output_type": "display_data"
    }
   ],
   "source": [
    "%matplotlib inline\n",
    "\n",
    "import matplotlib.pyplot as plt\n",
    "\n",
    "plt.hist(x)\n",
    "plt.show"
   ]
  },
  {
   "cell_type": "markdown",
   "metadata": {},
   "source": [
    "Return a sample (or samples) from the “standard normal” distribution.\n",
    "\n",
    "**2.2.1 Standard Normal distribution**\n",
    "\n",
    "The Numpy Standard distribution draws samples from a standard Normal distribution with a default mean of 0 and standard deviation of 1 if no arguments are given.\n",
    "\n",
    "In the Normal Distribution the results are distributed in a continuous way (there is no spaces between bars because a variable can take on any value between two specified values). The standard normal distribution is a special case of the normal distribution. It is the distribution that occurs when a normal random variable has a mean of zero and a standard deviation of one\n",
    "\n",
    "Nomal distribution is aso known as Gaussian Distribution or bell curve. The Bell Curve refers to the shape that is created when a line is plotted using the data points for an item that meets the criteria of ‘normal distribution’. The center contains the greatest number of a value and therefore would be the highest point on the arc of the line.\n",
    "\n",
    "\n",
    "This point is referred to the mean, but it is the highest number of occurrences of an element (in statistical terms, the mode).\n",
    "\n",
    "The important thing to note about a normal distribution is the curve is concentrated in the center and decreases on either side. The data has less of a tendency to produce unusually extreme values, called outliers, as compared to other distributions. Also, the bell curve signifies that the data is symmetrical and thus we can create expectations as to the possibility that an outcome will lie within a range to the left or right of the center, once we can measure the amount of deviation contained in the data. \n",
    "\n",
    "A bell curve graph depends on two factors: the mean and the standard deviation. The mean identifies the position of the center and the standard deviation determines the height and width of the bell.\n",
    "\n",
    "For example, a large standard deviation creates a bell that is short and wide while a small standard deviation creates a tall and narrow curve. (_Source: https://docs.scipy.org and https://www.thoughtco.com, https://www.casrilanka.com/casl/images/stories/EDBA/chap_8_normal_distribution.pdf, http://www.usc.es/genp/docencia/AnalDatos_New.pdf)"
   ]
  },
  {
   "cell_type": "markdown",
   "metadata": {},
   "source": [
    "*Example in code of the Standard normal distribution*"
   ]
  },
  {
   "cell_type": "code",
   "execution_count": 8,
   "metadata": {},
   "outputs": [
    {
     "data": {
      "text/plain": [
       "array([ 1.97137805, -0.27191827, -0.52130658, ...,  0.19011555,\n",
       "        2.36171595,  0.4310424 ])"
      ]
     },
     "execution_count": 8,
     "metadata": {},
     "output_type": "execute_result"
    }
   ],
   "source": [
    "s = np.random.standard_normal(10000) #getting 10000 of values of the standard normal distribution.\n",
    "# s = is giving the function of getting 10000 of values of the standard normal distribution the name of s.\n",
    "s #calling s to show the results"
   ]
  },
  {
   "cell_type": "code",
   "execution_count": 9,
   "metadata": {},
   "outputs": [
    {
     "data": {
      "text/plain": [
       "<function matplotlib.pyplot.show(*args, **kw)>"
      ]
     },
     "execution_count": 9,
     "metadata": {},
     "output_type": "execute_result"
    },
    {
     "data": {
      "image/png": "[encoded data removed]",
      "text/plain": [
       "<matplotlib.figure.Figure at 0x11106f5c0>"
      ]
     },
     "metadata": {
      "needs_background": "light"
     },
     "output_type": "display_data"
    }
   ],
   "source": [
    "%matplotlib inline\n",
    "\n",
    "import matplotlib.pyplot as plt\n",
    "\n",
    "plt.hist(s)\n",
    "plt.show\n",
    "#showing the histogram for the standard normal distribution named s and specified in the code above (10000 values)"
   ]
  },
  {
   "cell_type": "markdown",
   "metadata": {},
   "source": [
    "The experiment above confirms that the standard normal distribution draw samples following the bell shape with most of the values tending to 0 and a standard deviation of 1. The ony argument that we can set in standard_normal is the size."
   ]
  },
  {
   "cell_type": "markdown",
   "metadata": {},
   "source": [
    "**2.2.2 Normal distribution**"
   ]
  },
  {
   "cell_type": "markdown",
   "metadata": {},
   "source": [
    "Draw random samples from a normal (Gaussian) distribution.\n",
    "\n",
    "The probability density function of the normal distribution, is often called the bell curve because of its characteristic shape (see the example below).\n",
    "\n",
    "numpy.random.normal(loc=0.0, scale=1.0, size=None)\n",
    "\n",
    "'Loc' will set the centre of the distribution\n",
    "'scale' will set the standard deviation (spread or “width”) of the distribution\n",
    "'Size' will set the amount of values generated\n"
   ]
  },
  {
   "cell_type": "code",
   "execution_count": 27,
   "metadata": {},
   "outputs": [
    {
     "data": {
      "text/plain": [
       "array([ 8.92553769,  8.98681753,  9.36209041, ...,  8.11405892,\n",
       "        9.76127544, 10.19371472])"
      ]
     },
     "execution_count": 27,
     "metadata": {},
     "output_type": "execute_result"
    }
   ],
   "source": [
    "#normal standard deviation with arguments \n",
    "#10 indicates the mean\n",
    "#1 indicates the standard deviation\n",
    "#10000 is the size, or how many values are given\n",
    "x = np.random.normal (10, 1, 10000)\n",
    "x"
   ]
  },
  {
   "cell_type": "code",
   "execution_count": 28,
   "metadata": {},
   "outputs": [
    {
     "data": {
      "text/plain": [
       "<function matplotlib.pyplot.show(*args, **kw)>"
      ]
     },
     "execution_count": 28,
     "metadata": {},
     "output_type": "execute_result"
    },
    {
     "data": {
      "image/png": "[encoded data removed]",
      "text/plain": [
       "<matplotlib.figure.Figure at 0x1129d5128>"
      ]
     },
     "metadata": {
      "needs_background": "light"
     },
     "output_type": "display_data"
    }
   ],
   "source": [
    "%matplotlib inline\n",
    "\n",
    "import matplotlib.pyplot as plt\n",
    "\n",
    "plt.hist(x)\n",
    "plt.show\n",
    "#showing the histogram for the normal distribution named x"
   ]
  },
  {
   "cell_type": "markdown",
   "metadata": {},
   "source": [
    "As can be observed in the example above, defining the arguments in the standard normal distribution sets in the first place the mean, most of the values will be tending to that number. In the example above most of the numbers will be around 10 and 3 standard deviations.\n",
    "The second argument will give the deviation, meaning the size of the bins containing the values; 1 in the example above.\n",
    "The tird argument is the size of the function, meaning how many numbers will be generated in the function; in the previous example 10000."
   ]
  },
  {
   "cell_type": "markdown",
   "metadata": {},
   "source": [
    "**2.3 numpy.random.randint**"
   ]
  },
  {
   "cell_type": "markdown",
   "metadata": {},
   "source": [
    "Return random integers from low (inclusive) to high (exclusive).\n",
    "\n",
    "Return random integers from the “discrete uniform” distribution of the specified dtype in the “half-open” interval [low, high). If high is None (the default), then results are from [0, low)\n",
    "\n",
    "In the following example we set the hight to 3 and the size to 10. As high is not inclusive the function returns an array of 10 integers (size) of numbers from 0 to 2. 0 is the low parameter set by default and it's inclusive so 0 can be generated but not 3 as it's not inclusive."
   ]
  },
  {
   "cell_type": "code",
   "execution_count": 10,
   "metadata": {},
   "outputs": [
    {
     "data": {
      "text/plain": [
       "array([0, 0, 2, 0, 1, 2, 0, 1, 0, 2])"
      ]
     },
     "execution_count": 10,
     "metadata": {},
     "output_type": "execute_result"
    }
   ],
   "source": [
    "np.random.randint(3, size=10)"
   ]
  },
  {
   "cell_type": "markdown",
   "metadata": {},
   "source": [
    "In the following example the low is set to 1 (inclusive) and the hight to 3 (not inclusive) so the result will show an array of 10 integers of 1s and 2s."
   ]
  },
  {
   "cell_type": "code",
   "execution_count": 29,
   "metadata": {},
   "outputs": [
    {
     "data": {
      "text/plain": [
       "array([1, 2, 1, 1, 2, 1, 1, 1, 1, 1])"
      ]
     },
     "execution_count": 29,
     "metadata": {},
     "output_type": "execute_result"
    }
   ],
   "source": [
    "np.random.randint(1,3, size=10)"
   ]
  },
  {
   "cell_type": "markdown",
   "metadata": {},
   "source": [
    "The function can also generate multidimensional arrays as in the exampe above."
   ]
  },
  {
   "cell_type": "code",
   "execution_count": 11,
   "metadata": {},
   "outputs": [
    {
     "data": {
      "text/plain": [
       "array([[0, 0, 2, 1],\n",
       "       [0, 2, 1, 2],\n",
       "       [0, 2, 1, 0]])"
      ]
     },
     "execution_count": 11,
     "metadata": {},
     "output_type": "execute_result"
    }
   ],
   "source": [
    "np.random.randint(3, size=(3, 4))"
   ]
  },
  {
   "cell_type": "code",
   "execution_count": 12,
   "metadata": {},
   "outputs": [
    {
     "data": {
      "text/plain": [
       "array([[2, 2, 1, 2],\n",
       "       [2, 0, 0, 2],\n",
       "       [2, 2, 0, 1],\n",
       "       [2, 2, 2, 1],\n",
       "       [0, 1, 2, 1],\n",
       "       [2, 1, 0, 0],\n",
       "       [2, 1, 0, 2],\n",
       "       [0, 1, 2, 1],\n",
       "       [2, 1, 1, 0],\n",
       "       [2, 0, 1, 2]])"
      ]
     },
     "execution_count": 12,
     "metadata": {},
     "output_type": "execute_result"
    }
   ],
   "source": [
    "np.random.randint(3, size=(10, 4))"
   ]
  },
  {
   "cell_type": "code",
   "execution_count": 13,
   "metadata": {},
   "outputs": [
    {
     "data": {
      "text/plain": [
       "array([10,  0,  0,  3,  9, 16,  1,  0, 18,  6,  1,  1, 11, 18,  1,  0,  1,\n",
       "       14,  6, 18, 16,  6,  6,  7,  0,  3, 19, 16,  1,  5,  8, 15,  5,  3,\n",
       "        6,  0, 10,  6, 14,  7,  1,  4, 16,  0, 13,  5, 17, 18, 11, 14, 11,\n",
       "        1,  6, 15, 10, 17, 12,  3,  0,  8, 10,  2, 10, 19, 19,  3, 12,  3,\n",
       "       16, 15, 17, 17, 15, 11, 15,  6,  6, 10, 14,  3, 11, 12,  8,  5,  4,\n",
       "        1,  3,  9, 12, 17,  5, 19, 17,  4,  9,  3, 11, 15,  2,  7,  2, 11,\n",
       "        7, 16,  0,  2, 19, 18, 19, 16,  7,  4, 13, 19, 16, 18, 19,  0,  9,\n",
       "       10, 14, 14, 19,  8, 17, 18,  5, 18,  0,  6,  3, 11,  6, 13,  1, 14,\n",
       "       19,  9,  9,  7,  5, 19,  7, 12, 11, 13, 13, 14, 15, 15,  1, 13,  6,\n",
       "       14, 17, 18,  4,  8,  5, 12, 19, 17, 12, 16, 14, 10, 16,  9,  2, 17,\n",
       "       11,  4, 15, 19,  4,  0,  3, 15, 17, 19, 19,  6,  5,  9, 11,  1,  6,\n",
       "       19,  4, 13, 18, 17, 17,  7, 11,  2, 15,  6, 17,  1,  5,  8,  9, 16,\n",
       "        4,  7,  8,  6, 10,  1,  5, 15,  5,  0,  8, 12, 16, 18,  4,  9,  7,\n",
       "        3, 19,  5, 14, 10, 12, 17,  1, 14, 15, 18, 11, 16, 11,  0, 13, 13,\n",
       "        7, 17, 12,  2, 15,  2, 18,  5, 10, 17, 11,  6, 10, 13, 10, 12,  8,\n",
       "        5, 17,  6,  4, 10,  4, 13,  5,  9,  6,  2, 10, 13,  9, 10, 17, 14,\n",
       "        6, 17,  0, 17, 14,  5, 12, 15,  8, 14,  7, 14, 10,  2,  6, 17,  1,\n",
       "        2, 12, 11,  2, 16,  9, 14, 18,  2, 17,  3,  3,  1,  2, 16, 10, 19,\n",
       "        9,  9,  6,  4, 15, 17,  1,  8, 18, 14, 13, 18,  6,  3, 15, 10,  6,\n",
       "       18,  8, 16,  3,  0, 19,  8, 15,  7, 13, 16, 14,  8,  8,  6, 17,  5,\n",
       "       13,  6, 10, 18,  7, 13,  6, 13,  7,  0, 10,  2, 13, 16, 18, 10, 16,\n",
       "       11,  0,  2, 19, 14, 14, 11, 11,  6, 19,  5,  8, 15,  1,  2, 19,  0,\n",
       "        8, 15, 10, 13, 12, 15,  2, 17,  7, 11,  4, 16,  2,  7, 14, 17, 15,\n",
       "        0,  8,  7, 15, 15,  5, 17, 16, 10, 17,  8,  0,  8,  4,  4, 16, 18,\n",
       "       15,  1, 19,  5,  2, 18,  0,  8, 15,  5,  2,  0, 16,  3, 15, 19, 13,\n",
       "        9,  4,  6,  0, 19, 15,  3,  1,  9, 11,  4,  6, 11, 19,  2, 12, 10,\n",
       "        2, 17,  0, 19,  6,  1,  9, 13, 18, 19, 12,  7,  4,  2, 12, 15, 17,\n",
       "        3, 17, 13, 12, 15, 18,  3,  9, 18, 15,  7, 18,  6,  0, 17, 15, 14,\n",
       "        6,  5,  4,  3, 19, 18, 13,  9,  6,  9, 15,  5,  3, 11, 14, 15,  8,\n",
       "       10,  9,  8, 17,  3, 10, 19, 14,  6, 16, 11, 14,  2,  5, 12,  0, 12,\n",
       "        6,  5,  7,  0, 14,  6,  3,  0, 16, 10, 19, 15, 13,  9, 14, 17, 12,\n",
       "        5,  3, 16, 16,  1,  0,  6,  2, 17,  2,  3,  7, 17, 12,  0, 12,  0,\n",
       "        7, 15, 14, 12, 17,  6,  9,  9,  6, 11, 15, 10, 18,  0, 11,  1, 10,\n",
       "        6,  3,  5, 12,  6,  5, 10,  8,  3, 18,  1,  1, 18,  2,  5, 10, 15,\n",
       "       19,  9,  6,  0, 14, 18, 14, 13, 12,  7, 17, 16, 12,  6,  8, 18, 12,\n",
       "        8, 18, 12,  3,  9, 10, 10,  2,  3, 10,  2, 16, 10, 10,  9, 10, 16,\n",
       "        6, 14, 11,  2,  7,  3,  9, 11, 16, 10, 10,  4,  1, 15,  2,  3,  2,\n",
       "       16,  3,  7,  2, 18, 16,  9, 15,  6, 16, 14, 14,  6, 14,  8,  8, 16,\n",
       "       13,  7,  6, 19, 11, 11, 15,  6, 19,  2, 13,  3,  0,  8, 18,  5,  1,\n",
       "        3,  4, 15,  5, 11,  5, 19, 17,  4,  3, 10, 14,  3,  6, 14, 12,  6,\n",
       "        5, 19, 13,  3,  4, 12,  3, 14, 18,  4, 18, 15,  4, 19,  9, 16, 16,\n",
       "       12, 13,  1,  8, 18,  5,  6,  3,  2,  1,  3, 11, 11, 17, 14,  4, 15,\n",
       "       15, 16, 16,  7, 13,  3, 19, 15, 10, 10, 10, 14, 15, 18, 11,  9,  7,\n",
       "        5,  1,  4, 15,  5,  0,  0, 17, 14, 11, 16, 12, 19,  9, 14,  0, 13,\n",
       "        2, 12,  1, 11, 16, 10,  4, 16,  8,  3, 11,  3,  3,  8, 18,  9,  8,\n",
       "       10,  0,  1,  5, 13,  8,  5, 10,  1,  2, 14,  7,  0,  2,  2, 15,  8,\n",
       "        4,  8,  0,  5, 11,  6, 14,  1,  6, 16,  2,  6, 11,  9,  6,  6, 18,\n",
       "       13, 18,  0,  0,  0,  0, 17,  5,  0, 10, 14, 13,  7,  1,  9,  6,  4,\n",
       "        0, 17,  7,  0,  7, 18,  1, 18, 11, 16, 10,  8,  2,  1,  1,  5, 17,\n",
       "       14,  8, 19, 17,  5, 12, 15, 16, 13, 11,  4,  5,  4,  3, 13,  6,  5,\n",
       "       19,  9, 16,  6, 12, 15,  1,  9,  8, 15,  3,  1,  5, 13, 18, 17, 19,\n",
       "       10,  3, 18,  6,  6, 12,  5,  4,  9,  5, 16, 16, 13, 19, 15, 17, 12,\n",
       "        8,  4, 19, 18,  1,  7, 16, 12, 15,  7, 10,  7,  4, 11, 19,  2, 11,\n",
       "        1, 11, 12, 17,  3, 17, 10, 16,  6, 17,  1,  4, 11,  9, 19,  6, 19,\n",
       "        2,  0, 16,  9, 11,  7, 14, 16, 16,  7, 17, 11,  6, 13, 11, 19, 15,\n",
       "        9,  0, 13, 17,  6, 17, 11, 14,  0, 15,  0, 10, 15, 11,  6, 16, 13,\n",
       "       12, 13,  8, 17, 13, 11,  5, 17, 19, 19,  1, 15,  5, 16,  3,  8,  2,\n",
       "        7,  8, 19,  2, 16,  6,  6,  8,  7, 15, 14,  5,  4, 12,  9, 16, 19,\n",
       "       18, 19, 19, 15, 18, 11, 10, 17,  9, 17, 10,  1,  8,  2])"
      ]
     },
     "execution_count": 13,
     "metadata": {},
     "output_type": "execute_result"
    }
   ],
   "source": [
    "x = np.random.randint (20, size=(1000))\n",
    "x"
   ]
  },
  {
   "cell_type": "code",
   "execution_count": 14,
   "metadata": {},
   "outputs": [
    {
     "data": {
      "text/plain": [
       "<function matplotlib.pyplot.show(*args, **kw)>"
      ]
     },
     "execution_count": 14,
     "metadata": {},
     "output_type": "execute_result"
    },
    {
     "data": {
      "image/png": "[encoded data removed]",
      "text/plain": [
       "<matplotlib.figure.Figure at 0x111064f98>"
      ]
     },
     "metadata": {
      "needs_background": "light"
     },
     "output_type": "display_data"
    }
   ],
   "source": [
    "%matplotlib inline\n",
    "\n",
    "import matplotlib.pyplot as plt\n",
    "\n",
    "plt.hist(x)\n",
    "plt.show"
   ]
  },
  {
   "cell_type": "markdown",
   "metadata": {},
   "source": [
    "As we can conclude from the representation in the histogram above, the result is random integers from low (inclusive) to high (exclusive) following the uniform distribution. "
   ]
  },
  {
   "cell_type": "markdown",
   "metadata": {},
   "source": [
    "\n",
    "\n",
    "**2.3.1 Uniform distribution**\n",
    "\n",
    "The uniform distribution generates random numbers and that every of them have the same chance of being the generated. In the uniform distribution we can set the interval of it setting them as arguments within the function. The low value is included but the high value is excluded [low, high). See the example above.\n",
    "The third argument in the function is the sample size. It will determine the number of values that will result in the array.\n",
    "\n",
    "A uniform distribution can be continuous or discrete. * *Go to section 5.1 to obtain more detail about continuous and discrete distributions.*\n",
    "\n",
    "Related to numpy.random.randint, this function generates random numbers following the discrete uniform distribution.\n",
    "In probability theory and statistics, the discrete uniform distribution is a symmetric probability distribution whereby a finite number of values are equally likely to be observed; every one of n values has equal probability 1/n. Another way of saying \"discrete uniform distribution\" would be \"a known, finite number of outcomes equally likely to happen\". (_Source: https://docs.scipy.org and Wikipedia_)\n",
    "\n",
    "The difference between the uniform distribution and the standard normal distribution is that the Standard Normal distribution is represented in a “bell shaped” frequency - high occurrence of values in the middle and gradually lower occurrence as you go towards the ends.\n",
    "\n",
    "Uniform distribution is uniform - equal height for all values wich shows a flat shaped picture. Example the histogram represented above https://math.stackexchange.com/"
   ]
  },
  {
   "cell_type": "code",
   "execution_count": 15,
   "metadata": {},
   "outputs": [
    {
     "data": {
      "text/plain": [
       "True"
      ]
     },
     "execution_count": 15,
     "metadata": {},
     "output_type": "execute_result"
    }
   ],
   "source": [
    "l = np.random.uniform(-1,0,1000) # -1 being the lowest number and 0 being the higher number, the size of the sample being 1000\n",
    "np.all(l >= -1) #checks that all the values are higher than -1 (the lower value allowed) \n",
    "#np.all is a method that processes an array\n"
   ]
  },
  {
   "cell_type": "code",
   "execution_count": 16,
   "metadata": {},
   "outputs": [
    {
     "data": {
      "text/plain": [
       "False"
      ]
     },
     "execution_count": 16,
     "metadata": {},
     "output_type": "execute_result"
    }
   ],
   "source": [
    "l = np.random.uniform(-2,0,1000) \n",
    "np.all(l >= -1) #checks that all the values are higher than -1. In that case returns false as the lowest value has been modified to -2\n"
   ]
  },
  {
   "cell_type": "code",
   "execution_count": 17,
   "metadata": {},
   "outputs": [
    {
     "data": {
      "image/png": "[encoded data removed]",
      "text/plain": [
       "<matplotlib.figure.Figure at 0x111212080>"
      ]
     },
     "metadata": {
      "needs_background": "light"
     },
     "output_type": "display_data"
    }
   ],
   "source": [
    "s = np.random.uniform(-1,0,1000) \n",
    "\n",
    "import matplotlib.pyplot as plt\n",
    "count, bins, ignored = plt.hist(s, 15, density=True)\n",
    "plt.plot(bins, np.ones_like(bins), linewidth=2, color='r')\n",
    "plt.show() #Display the histogram of the samples, along with the probability density function"
   ]
  },
  {
   "cell_type": "markdown",
   "metadata": {},
   "source": [
    "Note: Probability desnsity function is the notion of being close to a number. *(Source: https://mathinsight.org/probability_density_function_idea)"
   ]
  },
  {
   "cell_type": "markdown",
   "metadata": {},
   "source": [
    "**2.4 numpy.random.random_integers**\n",
    "\n",
    "This function has been deprecated. Scipy ducumentation advices to use randint instead."
   ]
  },
  {
   "cell_type": "markdown",
   "metadata": {},
   "source": [
    "**2.5 numpy.random.random_sample**"
   ]
  },
  {
   "cell_type": "markdown",
   "metadata": {},
   "source": [
    "Return random floats in the half-open interval [0.0, 1.0).\n",
    "\n",
    "Results are from the “continuous uniform” distribution over the stated interval. "
   ]
  },
  {
   "cell_type": "code",
   "execution_count": 18,
   "metadata": {},
   "outputs": [
    {
     "data": {
      "text/plain": [
       "0.6393855078975514"
      ]
     },
     "execution_count": 18,
     "metadata": {},
     "output_type": "execute_result"
    }
   ],
   "source": [
    "np.random.random_sample()"
   ]
  },
  {
   "cell_type": "markdown",
   "metadata": {},
   "source": [
    "In the example above, as no argument is set, the funtion generates a single float between 0 inclusive and 1 exclusive.\n",
    "The code below helps us to identify the type of value that the function generates."
   ]
  },
  {
   "cell_type": "code",
   "execution_count": 19,
   "metadata": {},
   "outputs": [
    {
     "data": {
      "text/plain": [
       "float"
      ]
     },
     "execution_count": 19,
     "metadata": {},
     "output_type": "execute_result"
    }
   ],
   "source": [
    "type(np.random.random_sample())"
   ]
  },
  {
   "cell_type": "markdown",
   "metadata": {},
   "source": [
    "The following example sets the size to 5, so the result is an aray of 5 floats all between 0 inclusive and 1 exclusive (default in the function)."
   ]
  },
  {
   "cell_type": "code",
   "execution_count": 20,
   "metadata": {},
   "outputs": [
    {
     "data": {
      "text/plain": [
       "array([0.73484391, 0.55406833, 0.99564956, 0.89317294, 0.36996184])"
      ]
     },
     "execution_count": 20,
     "metadata": {},
     "output_type": "execute_result"
    }
   ],
   "source": [
    "np.random.random_sample((5,))"
   ]
  },
  {
   "cell_type": "markdown",
   "metadata": {},
   "source": [
    "To sample an interval different to the default this function needs to be set with the following: \n",
    "the Unif[a, b), b > a multiply the output of random_sample by (b-a) and add a.\n",
    "\n",
    "See the example below (a=low= 3 (inclusive), b=high =5 (exclusive)):\n",
    "\n",
    "5-3 * function + 3"
   ]
  },
  {
   "cell_type": "code",
   "execution_count": 35,
   "metadata": {},
   "outputs": [
    {
     "data": {
      "text/plain": [
       "array([[4.28572069, 3.68186265],\n",
       "       [3.59144242, 4.2176987 ],\n",
       "       [4.45928872, 4.37172354]])"
      ]
     },
     "execution_count": 35,
     "metadata": {},
     "output_type": "execute_result"
    }
   ],
   "source": [
    "2* np.random.random_sample((3, 2)) + 3"
   ]
  },
  {
   "cell_type": "code",
   "execution_count": 22,
   "metadata": {},
   "outputs": [
    {
     "data": {
      "text/plain": [
       "array([3.34409297, 3.861163  , 3.26843072, 3.35099477, 3.39940143,\n",
       "       4.25394835, 3.22369206, 3.18218279, 4.89483113, 3.39765799,\n",
       "       4.10206531, 3.61640334, 4.23745903, 4.43607609, 3.61973284,\n",
       "       3.91809624, 3.70239376, 3.08091962, 3.35240984, 3.75523929,\n",
       "       4.64551059, 3.52068498, 3.72054519, 3.52306094, 4.94777586,\n",
       "       3.86726736, 3.12687797, 4.75946479, 4.80543001, 4.62630196,\n",
       "       3.78003718, 3.66582798, 3.13662088, 3.76300783, 4.74673327,\n",
       "       4.36673067, 3.46239744, 3.95376569, 4.88385716, 4.01771482,\n",
       "       3.80090346, 3.8994396 , 4.36583692, 3.95091415, 3.14024645,\n",
       "       3.66326165, 3.55236933, 4.06557201, 3.0021743 , 4.12650947,\n",
       "       4.75319881, 4.8748949 , 4.70040828, 4.38163629, 3.5754929 ,\n",
       "       3.09904124, 3.80181584, 3.60713514, 4.50364319, 4.42621991,\n",
       "       3.92782229, 3.22507941, 3.45284146, 3.10029523, 3.43747189,\n",
       "       4.99977085, 4.93262523, 3.03777971, 4.55200606, 3.63567003,\n",
       "       3.48303578, 4.78556913, 4.98209485, 3.19279996, 4.07284334,\n",
       "       4.74727386, 4.41784305, 4.60969488, 4.39042408, 3.77118112,\n",
       "       4.62751646, 3.13751945, 4.09196347, 4.22778669, 3.06991473,\n",
       "       4.61200273, 3.6642168 , 3.0572957 , 3.00872809, 4.10042383,\n",
       "       4.19385079, 4.07033395, 4.6375569 , 4.54775479, 3.8850022 ,\n",
       "       4.15707652, 3.96152028, 3.98068775, 3.00430988, 3.66438913,\n",
       "       4.18190966, 3.07547462, 4.27103449, 4.2181749 , 3.37845891,\n",
       "       4.84739256, 4.54848284, 4.77367916, 3.13821566, 4.11192565,\n",
       "       4.78718244, 4.04782371, 4.85615109, 4.18002737, 3.22363074,\n",
       "       4.82368737, 4.2902969 , 3.03142336, 4.84639829, 3.42684343,\n",
       "       4.82651971, 3.64102991, 3.04205092, 3.345312  , 4.92452311,\n",
       "       3.51745568, 3.2022023 , 4.93063951, 4.46353832, 3.14939972,\n",
       "       3.07423671, 3.57494613, 3.61732096, 4.86103843, 4.74346811,\n",
       "       3.59485287, 4.95648559, 4.11152369, 3.28199309, 3.88294438,\n",
       "       3.25858457, 3.74033421, 3.29972719, 4.95265824, 4.38920443,\n",
       "       4.01178633, 4.68539405, 4.58879876, 3.57245335, 3.54208732,\n",
       "       3.39802876, 3.38517468, 3.8185342 , 3.08641486, 3.9814584 ,\n",
       "       3.21506695, 4.21070285, 4.39177618, 3.57681888, 4.45355267,\n",
       "       4.48047825, 3.65983133, 4.68491804, 3.15325241, 4.36588368,\n",
       "       3.47471377, 3.60697742, 4.19315285, 3.34004695, 4.04693221,\n",
       "       3.54848003, 3.21565059, 4.93649721, 3.71614982, 4.91440262,\n",
       "       4.99658231, 3.17068769, 4.92809512, 3.05516118, 3.31518563,\n",
       "       4.93106731, 3.28344062, 3.8205116 , 3.83643365, 3.34274639,\n",
       "       3.7049654 , 3.10140666, 3.00736759, 3.78760131, 3.09091237,\n",
       "       4.51443265, 3.62953137, 4.63448172, 3.47357697, 3.20546648,\n",
       "       4.28902937, 4.10097241, 3.98983171, 3.22504813, 3.58346075,\n",
       "       4.18329763, 4.30570236, 4.87893161, 3.2211072 , 3.52145925,\n",
       "       3.38309755, 4.09127382, 4.08912039, 4.12959016, 4.08065927,\n",
       "       3.04426743, 3.56574952, 4.04968742, 4.55805029, 4.70738449,\n",
       "       4.02183127, 3.11698134, 3.81548506, 3.38696668, 3.78314827,\n",
       "       4.19754004, 4.15977747, 4.28453363, 3.85548437, 4.35039105,\n",
       "       4.71554061, 3.81949683, 3.36823903, 3.62544627, 3.45519694,\n",
       "       4.50885124, 4.90729585, 4.43677959, 4.93251597, 3.17198517,\n",
       "       3.12584826, 3.79974542, 3.7080833 , 4.01352939, 3.59339008,\n",
       "       4.22021373, 3.31896083, 4.5371127 , 4.77723223, 3.7766298 ,\n",
       "       3.01065657, 4.46974289, 4.56436919, 3.69046208, 4.46479957,\n",
       "       3.82719735, 3.9944596 , 4.69572734, 3.79475821, 3.6310323 ,\n",
       "       3.51902805, 4.01511358, 4.36835958, 3.36192288, 3.14694556,\n",
       "       4.66566503, 4.30597272, 3.73426803, 3.74733311, 4.99223003,\n",
       "       4.16270784, 3.64848187, 3.61774517, 3.91623132, 3.24180768,\n",
       "       4.07937874, 3.56520046, 4.90248949, 3.6871687 , 3.60061666,\n",
       "       3.2995477 , 3.17731124, 3.87850362, 3.40246419, 4.16350098,\n",
       "       4.61100534, 3.86052143, 4.93800996, 4.63091527, 4.58717855,\n",
       "       3.36822628, 3.31560734, 3.0829152 , 3.43767992, 3.02622404,\n",
       "       3.28062016, 3.54546693, 3.42774149, 4.7999211 , 3.17364409,\n",
       "       3.36940221, 4.76027332, 4.25677153, 3.70571719, 4.49017855,\n",
       "       4.48885242, 4.23094402, 4.24041397, 3.92448287, 4.30907909,\n",
       "       3.69765312, 4.18439149, 4.65745808, 4.63968439, 3.58198127,\n",
       "       3.73240536, 4.68883387, 4.46132062, 4.31081072, 3.06400051,\n",
       "       3.04794365, 4.58371065, 4.18170668, 4.55473085, 4.85903634,\n",
       "       4.78664462, 4.10186107, 3.67748767, 4.16107931, 3.09073824,\n",
       "       3.5184639 , 3.77078939, 3.09408237, 3.90458968, 4.35386935,\n",
       "       3.66347493, 4.50715218, 4.24970533, 3.8274749 , 4.57956351,\n",
       "       3.22978922, 3.17643707, 3.91567844, 4.69633042, 4.90019027,\n",
       "       4.42550516, 4.94181946, 3.79631053, 3.80187065, 3.98949597,\n",
       "       3.12348886, 3.41243306, 4.08591444, 3.68331168, 3.41750296,\n",
       "       4.4396041 , 3.65179659, 3.0213978 , 3.57979617, 4.34012036,\n",
       "       4.17438883, 3.5628274 , 3.36123942, 3.35965449, 4.37487187,\n",
       "       4.88410048, 4.7676626 , 3.04259656, 4.96984768, 3.32993755,\n",
       "       4.0983649 , 3.5600447 , 3.8207495 , 3.76619753, 4.40591041,\n",
       "       3.21016842, 3.99956757, 3.67270837, 3.38354973, 3.80255384,\n",
       "       4.36233919, 3.50415142, 4.85335736, 3.66541056, 3.35376969,\n",
       "       3.84981959, 4.6397129 , 4.17086633, 3.31752655, 4.90996062,\n",
       "       3.84440791, 4.01495697, 3.69926613, 3.91075219, 3.03362363,\n",
       "       4.12999101, 3.25886913, 3.26951309, 4.8861906 , 3.85777527,\n",
       "       3.17747749, 3.5492435 , 4.17437895, 3.5447443 , 3.97200482,\n",
       "       3.08712577, 3.25364157, 4.18022685, 4.4306002 , 4.3211984 ,\n",
       "       4.33468317, 3.11630973, 4.78790005, 3.18374353, 4.32208792,\n",
       "       3.42734311, 4.00148017, 3.45021198, 3.50047332, 3.73327909,\n",
       "       4.13102464, 4.7556596 , 4.25169869, 4.63909677, 3.83131983,\n",
       "       4.7915225 , 4.64075902, 3.37287401, 4.40675099, 3.18844586,\n",
       "       3.53941482, 3.91751539, 4.61829169, 3.37951108, 3.93348616,\n",
       "       3.47207423, 3.35451819, 3.51468299, 3.47266946, 3.51532177,\n",
       "       3.08803584, 3.37906905, 3.13988034, 3.94506525, 4.34613527,\n",
       "       4.35659609, 3.46741965, 4.0075205 , 4.7946942 , 3.18983913,\n",
       "       3.10423536, 3.9474497 , 3.56840351, 4.63619596, 3.60737896,\n",
       "       3.70012596, 3.49862423, 3.1294018 , 3.1546624 , 4.80797501,\n",
       "       3.55028146, 3.48664826, 4.49988704, 4.72580726, 3.16655594,\n",
       "       3.61487383, 3.94801089, 3.29732623, 4.77924898, 3.78584744,\n",
       "       4.38924445, 3.038562  , 4.49817276, 4.44467187, 4.50351461,\n",
       "       3.97917867, 3.42676243, 4.47453736, 4.04874794, 4.27972119,\n",
       "       4.20994562, 4.03460532, 3.74859358, 4.26243926, 4.65153641,\n",
       "       4.25685269, 3.95751648, 3.27469298, 3.58193944, 3.50493162,\n",
       "       4.36119463, 3.47925145, 3.7840679 , 3.6082616 , 4.20690873,\n",
       "       3.33183038, 3.36661643, 3.95921061, 3.22950486, 3.91307999,\n",
       "       4.12730241, 3.73745371, 3.5308882 , 3.86999501, 3.41823922,\n",
       "       3.84597801, 4.27665634, 4.72867869, 3.16583582, 4.02784313,\n",
       "       3.20175511, 3.64471695, 4.20749755, 3.13676788, 3.1778778 ,\n",
       "       3.54148972, 4.87983419, 4.17578794, 3.86847765, 3.32351057,\n",
       "       3.85834823, 4.49065068, 4.14070722, 3.29498618, 3.99063156,\n",
       "       3.48168659, 4.14847535, 3.17587852, 3.91943063, 4.65333865,\n",
       "       4.84839782, 3.83310128, 4.90206393, 4.46761938, 4.02114594,\n",
       "       3.33489478, 3.88793715, 3.98563394, 3.16027756, 4.94861955,\n",
       "       3.44049037, 4.83556793, 3.05773444, 4.00100913, 3.06537403,\n",
       "       3.55083604, 3.42936199, 4.40036102, 4.43037742, 4.05945438,\n",
       "       4.22675554, 4.24200378, 3.64038045, 3.37195288, 3.51234828,\n",
       "       4.7929216 , 4.78161569, 3.06654884, 4.90594165, 4.60969425,\n",
       "       4.19538566, 3.66243018, 4.29190445, 3.01597226, 3.83442604,\n",
       "       3.98191572, 3.4958196 , 4.06231216, 3.59536738, 3.21510505,\n",
       "       3.45542441, 3.56490959, 3.82849805, 4.18485555, 4.18375889,\n",
       "       4.35334007, 3.41083096, 4.91969845, 4.28861163, 4.56476969,\n",
       "       4.40991846, 4.12833201, 3.4844904 , 3.89457734, 4.61371829,\n",
       "       3.33511769, 4.12682154, 4.39519264, 4.29520779, 3.22426881,\n",
       "       3.9599761 , 4.2930566 , 3.24642474, 3.98050757, 3.117229  ,\n",
       "       3.76590555, 3.68536148, 3.11665282, 4.27830067, 3.01201737,\n",
       "       3.14619227, 4.78339984, 3.92357064, 3.60437716, 3.1231285 ,\n",
       "       3.8697107 , 3.71352851, 3.59462067, 4.66420177, 4.0562886 ,\n",
       "       4.68550306, 4.22828706, 3.7747234 , 3.52966217, 3.20153494,\n",
       "       3.75688223, 3.79071066, 3.92944269, 4.92997802, 3.58936272,\n",
       "       3.31419797, 3.41157163, 3.5023778 , 3.32080614, 4.64981335,\n",
       "       4.22655564, 4.84381953, 3.51815933, 4.4246028 , 3.37536727,\n",
       "       4.2467699 , 3.96932833, 3.52543045, 3.1768571 , 3.57847439,\n",
       "       4.33124018, 4.74654159, 4.50154747, 4.05533036, 4.8805825 ,\n",
       "       4.10231096, 3.10193876, 4.3713636 , 4.42696568, 4.0782006 ,\n",
       "       3.80025416, 4.63526978, 4.35486822, 4.27332225, 4.30370548,\n",
       "       4.13231906, 4.18443958, 3.20698668, 3.94846247, 4.76091816,\n",
       "       4.61504124, 4.17476228, 3.20279625, 4.28851432, 4.25576384,\n",
       "       3.44674478, 4.02559148, 4.54773491, 4.51674647, 4.71391779,\n",
       "       3.41900806, 4.57777909, 3.26817678, 4.11142584, 4.8843026 ,\n",
       "       4.57335534, 3.86888722, 4.47005521, 3.1262316 , 4.22694342,\n",
       "       4.02925593, 3.78604792, 3.16054653, 4.21471771, 3.73900002,\n",
       "       3.37357558, 3.67179992, 3.41602335, 3.52443636, 4.81056051,\n",
       "       3.03727839, 4.43111202, 4.75564263, 3.98202597, 4.72829705,\n",
       "       3.78561707, 4.90322461, 3.78969994, 4.05747344, 4.84401553,\n",
       "       4.07135894, 4.72701414, 3.43238352, 4.68973268, 3.41016307,\n",
       "       4.57292954, 4.4284169 , 3.24992719, 3.73818448, 3.80760658,\n",
       "       4.20235569, 3.76623748, 4.44749243, 4.55675325, 4.54317802,\n",
       "       4.97082723, 3.65918409, 4.48040647, 3.08605004, 3.20002429,\n",
       "       3.31701598, 3.83553551, 4.68585234, 3.75980727, 4.08218587,\n",
       "       3.72933266, 4.73885371, 3.46978258, 3.65218622, 3.72347036,\n",
       "       4.93574604, 4.81041561, 3.22124416, 3.39159482, 4.55922706,\n",
       "       3.22584945, 4.49787894, 3.04212986, 3.95648362, 4.7595961 ,\n",
       "       4.78654683, 4.78026811, 3.30398394, 4.875755  , 3.24724289,\n",
       "       3.33309537, 4.46654806, 3.44781394, 4.84745892, 4.68972635,\n",
       "       4.87557307, 4.93474061, 4.93952363, 3.78754769, 4.73431016,\n",
       "       4.24488375, 4.16604294, 3.79234581, 4.0847263 , 4.26413447,\n",
       "       4.8224197 , 4.87560598, 3.58982448, 3.95553261, 3.01066752,\n",
       "       4.43209719, 4.15722898, 3.19907207, 4.13031156, 4.8975296 ,\n",
       "       3.08872858, 4.26175131, 3.29414878, 4.14449697, 4.4558755 ,\n",
       "       4.77920712, 3.87963979, 4.46615473, 3.63350275, 4.26363884,\n",
       "       4.8321365 , 3.37240909, 3.16013849, 3.50834501, 4.73794018,\n",
       "       3.91080785, 3.7507189 , 3.0577559 , 3.03736142, 4.73871884,\n",
       "       4.38501795, 3.71808148, 3.0158485 , 4.52209917, 4.61554435,\n",
       "       3.85229898, 4.53220794, 4.94724413, 3.25077861, 3.0870866 ,\n",
       "       3.74197206, 3.86882568, 3.87792914, 3.36165023, 4.3587269 ,\n",
       "       4.83609958, 4.89474585, 3.16557464, 4.28422301, 3.49428883,\n",
       "       4.93006166, 4.7217627 , 3.48321717, 4.52794521, 4.46872733,\n",
       "       4.97404097, 3.55305458, 3.52264092, 4.10559019, 4.23063019,\n",
       "       3.77755509, 4.1943552 , 3.04071466, 3.77959897, 4.49623099,\n",
       "       3.98941031, 4.74077529, 3.10611327, 4.71441367, 4.42958759,\n",
       "       3.22347522, 3.55189812, 3.42141225, 4.41721171, 4.59860072,\n",
       "       4.4729814 , 3.65091653, 4.16310474, 4.5263393 , 4.02445326,\n",
       "       4.63101255, 3.76525465, 3.23547219, 4.17816724, 3.91428048,\n",
       "       4.86907285, 4.10867625, 3.38027829, 4.43117224, 3.00850638,\n",
       "       4.71896059, 4.1123213 , 4.28176948, 3.34454401, 3.80503265,\n",
       "       3.73376071, 3.87156138, 3.30272901, 3.43455116, 4.22607933,\n",
       "       3.64783703, 3.39380633, 3.60454294, 3.84327503, 3.28808172,\n",
       "       3.82049571, 4.73316696, 3.23271441, 3.6376339 , 4.95011649,\n",
       "       3.76641527, 3.36462497, 4.29440368, 4.97777791, 4.00406602,\n",
       "       4.14162717, 3.18800445, 4.80534749, 4.19152979, 4.90748219,\n",
       "       4.11076932, 3.70452593, 3.18867586, 3.54399039, 3.35358478,\n",
       "       3.55449145, 3.71018561, 3.00424889, 4.96327895, 3.2736481 ,\n",
       "       4.34804679, 3.89887663, 3.99419281, 4.72808608, 3.26677747,\n",
       "       3.06307517, 3.44253381, 4.75568303, 3.1790135 , 4.5144561 ,\n",
       "       3.46998944, 4.9576959 , 4.74139477, 4.13132044, 3.62141282,\n",
       "       4.42768119, 3.55635865, 4.24523119, 4.41998884, 3.74856805,\n",
       "       3.27784832, 3.50948266, 4.12542805, 3.45144225, 3.617485  ,\n",
       "       3.31265514, 3.81806638, 4.72120827, 4.44165695, 4.92520317,\n",
       "       3.75019541, 4.14525291, 4.60900672, 4.97326238, 4.83640005,\n",
       "       3.5653907 , 3.94311426, 3.55633614, 3.10704906, 4.55765542,\n",
       "       3.55184906, 3.72905266, 3.38253   , 3.85417177, 4.04323064,\n",
       "       4.45762756, 3.64580508, 4.44679868, 3.76041342, 3.62557528,\n",
       "       4.1022602 , 3.37537319, 4.45937437, 3.37366272, 3.62096141,\n",
       "       4.4849161 , 3.66376735, 3.30582402, 3.76480164, 3.72721482,\n",
       "       4.08357813, 4.98755175, 4.43749609, 4.70416777, 3.90009269,\n",
       "       4.11233744, 3.34259605, 3.59564751, 4.08637906, 4.55059911,\n",
       "       4.58228469, 4.76408356, 4.8436634 , 3.69701035, 3.783318  ,\n",
       "       3.99160229, 4.24291282, 4.888851  , 3.5863372 , 4.43897364,\n",
       "       4.51505354, 4.54388547, 4.10918814, 3.57859119, 3.01906772,\n",
       "       3.25484833, 4.59050947, 4.59251371, 3.82771966, 3.73404725,\n",
       "       4.98313887, 3.32320875, 3.9167124 , 3.21877744, 3.12176524,\n",
       "       4.82312857, 3.50401781, 4.54342243, 3.29063369, 4.35741578,\n",
       "       3.92332116, 3.25432125, 4.04653352, 3.40493597, 3.94446813,\n",
       "       4.27557973, 3.89532872, 3.22592131, 3.42389664, 3.43914926,\n",
       "       4.37624023, 3.38562674, 3.44582707, 3.35007863, 3.10446887,\n",
       "       3.35384381, 4.12808905, 4.26513315, 3.78322717, 3.30819493])"
      ]
     },
     "execution_count": 22,
     "metadata": {},
     "output_type": "execute_result"
    }
   ],
   "source": [
    "x = 2* np.random.random_sample((1000)) + 3\n",
    "x"
   ]
  },
  {
   "cell_type": "code",
   "execution_count": 23,
   "metadata": {},
   "outputs": [
    {
     "data": {
      "text/plain": [
       "<function matplotlib.pyplot.show(*args, **kw)>"
      ]
     },
     "execution_count": 23,
     "metadata": {},
     "output_type": "execute_result"
    },
    {
     "data": {
      "image/png": "[encoded data removed]",
      "text/plain": [
       "<matplotlib.figure.Figure at 0x1111cea58>"
      ]
     },
     "metadata": {
      "needs_background": "light"
     },
     "output_type": "display_data"
    }
   ],
   "source": [
    "%matplotlib inline\n",
    "\n",
    "import matplotlib.pyplot as plt\n",
    "\n",
    "plt.hist(x)\n",
    "plt.show"
   ]
  },
  {
   "cell_type": "markdown",
   "metadata": {},
   "source": [
    "As can be observed in the histogram this function returns random floats in a half-open interval (in the case above 3 inclusive 5 exclusive).\n",
    "\n",
    "Results are from the “continuous uniform” distribution over the stated interval. In probability theory and statistics, the continuous uniform distribution or rectangular distribution is a family of symmetric probability distributions such that for each member of the family, all intervals of the same length on the distribution's support are equally probable. The support is defined by the two parameters, a and b, which are its minimum and maximum values. The distribution is often abbreviated U(a,b). It is the maximum entropy probability distribution for a random variate X under no constraint other than that it is contained in the distribution's support. (_Source: https://docs.scipy.org and Wikipedia).\n",
    "\n",
    "Continuous distribution:\n",
    "An idealized random number generator would be considered a continuous uniform distribution. With this type of distribution, every variable has an equal opportunity of appearing, yet there are a continuous (or possibly infinite) number of points that can exist. (_Source: https://www.investopedia.com/)"
   ]
  },
  {
   "cell_type": "markdown",
   "metadata": {},
   "source": [
    "**2.6 numpy.random.random**\n",
    "\n",
    "Based on Scipy.org the numpy.random.random there is no difference between this function and numpy.random.random_sample"
   ]
  },
  {
   "cell_type": "markdown",
   "metadata": {},
   "source": [
    "**2.7 numpy.random.ranf**\n",
    "\n",
    "Based on Scipy.org thenumpy.random.ranf there is no difference between this function and numpy.random.random_sample"
   ]
  },
  {
   "cell_type": "markdown",
   "metadata": {},
   "source": [
    "**2.8 numpy.random.sample**\n",
    "\n",
    "Based on Scipy.org thenumpy.random.sample there is no difference between this function and numpy.random.random_sample described above."
   ]
  },
  {
   "cell_type": "markdown",
   "metadata": {},
   "source": [
    "**2.9 numpy.random.choice**"
   ]
  },
  {
   "cell_type": "code",
   "execution_count": 24,
   "metadata": {},
   "outputs": [
    {
     "data": {
      "text/plain": [
       "array([1, 4, 4])"
      ]
     },
     "execution_count": 24,
     "metadata": {},
     "output_type": "execute_result"
    }
   ],
   "source": [
    "np.random.choice(5, 3)\n",
    "#Per Scipy documentation equivalent to np.random.randint(0,5,3)"
   ]
  },
  {
   "cell_type": "code",
   "execution_count": 25,
   "metadata": {},
   "outputs": [
    {
     "data": {
      "text/plain": [
       "array([3, 3, 3])"
      ]
     },
     "execution_count": 25,
     "metadata": {},
     "output_type": "execute_result"
    }
   ],
   "source": [
    "np.random.choice(5, 3, p=[0.1, 0, 0.3, 0.6, 0])\n",
    "#Non-uniform the p=[0.1, 0, 0.3, 0.6, 0] gives the probability of getting each entry.\n",
    "#In this example the number 1 and 4 have 0 probability, so it won't never show in the result."
   ]
  },
  {
   "cell_type": "code",
   "execution_count": 26,
   "metadata": {},
   "outputs": [
    {
     "data": {
      "text/plain": [
       "array([2, 1, 4])"
      ]
     },
     "execution_count": 26,
     "metadata": {},
     "output_type": "execute_result"
    }
   ],
   "source": [
    "np.random.choice(5, 3, replace=False)\n",
    "#The replace indicates if the numbers can be repeated in the result or not. \n",
    "#In this case they can't.\n",
    "#If is set to True or if we don't specify, the numbers can be repeated in the result."
   ]
  },
  {
   "cell_type": "code",
   "execution_count": 27,
   "metadata": {},
   "outputs": [
    {
     "data": {
      "text/plain": [
       "array([0, 0, 0])"
      ]
     },
     "execution_count": 27,
     "metadata": {},
     "output_type": "execute_result"
    }
   ],
   "source": [
    "np.random.choice(5, 3, replace=True)\n",
    "#As in this case If is set to True or if we leave the replcement blank, the numbers can be repeated in the result."
   ]
  },
  {
   "cell_type": "code",
   "execution_count": 28,
   "metadata": {},
   "outputs": [
    {
     "data": {
      "text/plain": [
       "array([2, 3, 0])"
      ]
     },
     "execution_count": 28,
     "metadata": {},
     "output_type": "execute_result"
    }
   ],
   "source": [
    "np.random.choice(5, 3, replace=False, p=[0.1, 0, 0.3, 0.6, 0])\n",
    "#In this case the 5 means [0, high) 0 is included but 5 is not.\n",
    "#The 3 means the amount of values returned (in this case 3)\n",
    "#Replace specifies if the numbers can be repeated in the result. In this case they cant as replace=False\n",
    "#p= indicates the probability of getting each result.\n",
    "#Attending to all the parameters in this array only 0,2 and 3 can be shown as a result, and they cannot be repeated.\n",
    "#The result will always contain 0,2 and 3 in different order."
   ]
  },
  {
   "cell_type": "code",
   "execution_count": 29,
   "metadata": {},
   "outputs": [
    {
     "data": {
      "text/plain": [
       "array(['Christopher', 'Christopher', 'pooh', 'pooh', 'pooh'], dtype='<U11')"
      ]
     },
     "execution_count": 29,
     "metadata": {},
     "output_type": "execute_result"
    }
   ],
   "source": [
    "aa_milne_arr = ['pooh', 'rabbit', 'piglet', 'Christopher']\n",
    "np.random.choice(aa_milne_arr, 5, p=[0.5, 0.1, 0.1, 0.3])\n",
    "#The same can be achieved with an array."
   ]
  },
  {
   "cell_type": "markdown",
   "metadata": {},
   "source": [
    "Generates a random sample from a given 1-D array. But if the p= is used then the probabilities associated with each entry in a are specified and then it generates a non-uniform random sample. \n",
    "If p is not given, the sample assumes a uniform distribution over all entries."
   ]
  },
  {
   "cell_type": "markdown",
   "metadata": {},
   "source": [
    "### 3. Permutations\n",
    "\n",
    "A permutation is an arrangement of all or part of a set of objects, with regard to the order of the arrangement. *(Source: https://stattrek.com/statistics/dictionary.aspx?definition=permutation)*"
   ]
  },
  {
   "cell_type": "markdown",
   "metadata": {},
   "source": [
    "**numpy.random.shuffle**"
   ]
  },
  {
   "cell_type": "code",
   "execution_count": 30,
   "metadata": {},
   "outputs": [
    {
     "data": {
      "text/plain": [
       "array([74, 54,  4, 73, 83, 88, 82, 95, 98, 71, 13, 20, 61, 37, 79, 35, 34,\n",
       "       45, 53, 31, 27,  1, 76, 47, 69, 87, 14, 26,  8, 78, 99, 89,  9, 11,\n",
       "        7, 56, 32, 12, 90, 94, 33, 96, 38, 51, 60, 97, 52, 77, 18, 39, 42,\n",
       "       17, 64, 80, 46, 29, 25, 50, 41, 23, 48, 92, 30, 91, 93, 40, 75, 65,\n",
       "       19, 66, 10, 68, 28,  6, 21, 58, 84,  5, 24, 16, 86, 49, 72, 15,  2,\n",
       "       55, 44, 36,  0, 59, 67,  3, 62, 57, 70, 81, 63, 43, 22, 85])"
      ]
     },
     "execution_count": 30,
     "metadata": {},
     "output_type": "execute_result"
    }
   ],
   "source": [
    "arr = np.arange(100)\n",
    "np.random.shuffle(arr)\n",
    "arr"
   ]
  },
  {
   "cell_type": "markdown",
   "metadata": {},
   "source": [
    "The numpy.random.shuffle permutation modifies a sequence in-place by shuffling its contents."
   ]
  },
  {
   "cell_type": "markdown",
   "metadata": {},
   "source": [
    "**numpy.random.permutation**\n",
    "\n",
    "Randomly permute a sequence, or return a permuted range.\n"
   ]
  },
  {
   "cell_type": "code",
   "execution_count": 31,
   "metadata": {},
   "outputs": [
    {
     "data": {
      "text/plain": [
       "array([ 7,  1,  9, 53, 23])"
      ]
     },
     "execution_count": 31,
     "metadata": {},
     "output_type": "execute_result"
    }
   ],
   "source": [
    "np.random.permutation([1,7,9,23,53])\n"
   ]
  },
  {
   "cell_type": "markdown",
   "metadata": {},
   "source": [
    "After investigating the differences between shuffle and permutation I came to the conclusion that one of the differences is that shuffle doesn't work with ranges. See the example below.\n"
   ]
  },
  {
   "cell_type": "code",
   "execution_count": 7,
   "metadata": {},
   "outputs": [
    {
     "ename": "TypeError",
     "evalue": "unsupported operand type(s) for -: 'list' and 'int'",
     "output_type": "error",
     "traceback": [
      "\u001b[0;31m---------------------------------------------------------------------------\u001b[0m",
      "\u001b[0;31mTypeError\u001b[0m                                 Traceback (most recent call last)",
      "\u001b[0;32m<ipython-input-7-dc2b3510a454>\u001b[0m in \u001b[0;36m<module>\u001b[0;34m()\u001b[0m\n\u001b[0;32m----> 1\u001b[0;31m \u001b[0marr\u001b[0m \u001b[0;34m=\u001b[0m \u001b[0mnp\u001b[0m\u001b[0;34m.\u001b[0m\u001b[0marange\u001b[0m \u001b[0;34m(\u001b[0m\u001b[0;34m[\u001b[0m\u001b[0;36m1\u001b[0m\u001b[0;34m,\u001b[0m\u001b[0;36m2\u001b[0m\u001b[0;34m,\u001b[0m\u001b[0;36m3\u001b[0m\u001b[0;34m,\u001b[0m\u001b[0;36m4\u001b[0m\u001b[0;34m]\u001b[0m\u001b[0;34m)\u001b[0m\u001b[0;34m\u001b[0m\u001b[0m\n\u001b[0m\u001b[1;32m      2\u001b[0m \u001b[0mnp\u001b[0m\u001b[0;34m.\u001b[0m\u001b[0mrandom\u001b[0m\u001b[0;34m.\u001b[0m\u001b[0mshuffle\u001b[0m\u001b[0;34m(\u001b[0m\u001b[0marr\u001b[0m\u001b[0;34m)\u001b[0m\u001b[0;34m\u001b[0m\u001b[0m\n\u001b[1;32m      3\u001b[0m \u001b[0marr\u001b[0m\u001b[0;34m\u001b[0m\u001b[0m\n",
      "\u001b[0;31mTypeError\u001b[0m: unsupported operand type(s) for -: 'list' and 'int'"
     ]
    }
   ],
   "source": [
    "arr = np.arange ([1,2,3,4])\n",
    "np.random.shuffle(arr)\n",
    "arr"
   ]
  },
  {
   "cell_type": "markdown",
   "metadata": {},
   "source": [
    "random.shuffle() only works on mutable sequences, which is usually a list object. range() produces an immutable sequence object, random.shuffle() can't move the values in a range around.\n",
    "\n",
    "(_Source: https://stackoverflow.com/questions/47472691/asking-for-unsupported-operand-types-for-range-and-list)"
   ]
  },
  {
   "cell_type": "markdown",
   "metadata": {},
   "source": [
    "### 4. Seed\n",
    "\n",
    "The seed or np.random.seed(0) makes the random numbers predictable.\n",
    "\n",
    "With the seed reset (every time), the same set of numbers will appear every time.\n",
    "If the random seed is not reset, different numbers appear with every invocation. See examples below first setting the seed to a specific number and in the second case not setting it:\n",
    "\n"
   ]
  },
  {
   "cell_type": "code",
   "execution_count": 14,
   "metadata": {},
   "outputs": [
    {
     "data": {
      "text/plain": [
       "array([0.5488135 , 0.71518937, 0.60276338])"
      ]
     },
     "execution_count": 14,
     "metadata": {},
     "output_type": "execute_result"
    }
   ],
   "source": [
    "#Set the seed to 0\n",
    "np.random.seed(0)\n",
    "\n",
    "#show 3 values\n",
    "np.random.rand(3)\n"
   ]
  },
  {
   "cell_type": "code",
   "execution_count": 15,
   "metadata": {},
   "outputs": [
    {
     "data": {
      "text/plain": [
       "array([0.5488135 , 0.71518937, 0.60276338])"
      ]
     },
     "execution_count": 15,
     "metadata": {},
     "output_type": "execute_result"
    }
   ],
   "source": [
    "#repeat the operation above to check if the numbers returned are the same\n",
    "np.random.seed(0)\n",
    "np.random.rand(3)"
   ]
  },
  {
   "cell_type": "markdown",
   "metadata": {},
   "source": [
    "With the example above can be ilustarted that the random numbers are the same in both cases so the random numbers are predictable. Every time the program is run the result is the same.\n",
    "\n",
    "\n",
    "In the example below the seed is not set, so we get different (pseudo) random numbers:"
   ]
  },
  {
   "cell_type": "code",
   "execution_count": 17,
   "metadata": {},
   "outputs": [
    {
     "data": {
      "text/plain": [
       "array([0.54488318, 0.4236548 , 0.64589411])"
      ]
     },
     "execution_count": 17,
     "metadata": {},
     "output_type": "execute_result"
    }
   ],
   "source": [
    "#Without setting the seed\n",
    "np.random.rand(3)"
   ]
  },
  {
   "cell_type": "code",
   "execution_count": 19,
   "metadata": {},
   "outputs": [
    {
     "data": {
      "text/plain": [
       "array([0.38344152, 0.79172504, 0.52889492])"
      ]
     },
     "execution_count": 19,
     "metadata": {},
     "output_type": "execute_result"
    }
   ],
   "source": [
    "#Without setting the seed second attempt\n",
    "np.random.rand(3)"
   ]
  },
  {
   "cell_type": "markdown",
   "metadata": {},
   "source": [
    "Detailed explanation of the seed:\n",
    "\n",
    "(pseudo-)random numbers work by starting with a number (the seed), multiplying it by a large number, then taking modulo of that product. The resulting number is then used as the seed to generate the next \"random\" number. When the seed is set (every time), it does the same thing every time, giving the same numbers.\n",
    "\n",
    "If the desired result is seemingly random numbers, do not set the seed. If the code uses random numbers and there is the need to debug, however, it can be very helpful to set the seed before each run so that the code does the same thing every time is run.\n",
    "\n",
    "To get the most random numbers for each run, the recomended is to call numpy.random.seed(). This will cause numpy to set the seed to a random number obtained from /dev/urandom or its Windows analog or, if neither of those is available, it will use the clock.\n",
    "\n",
    "(_Source: https://stackoverflow.com/questions/21494489/what-does-numpy-random-seed0-do#)"
   ]
  },
  {
   "cell_type": "markdown",
   "metadata": {},
   "source": [
    "### 5. Discovery on the Random package distributions"
   ]
  },
  {
   "cell_type": "markdown",
   "metadata": {},
   "source": [
    "**5.1 Discrete and continuous distributions**\n",
    "\n",
    "There are two types of probability distributions, discrete and continuous probability distributions.\n",
    "\n",
    "Discrete probability distributions take distinct or separate values and are also called as probability mass functions. Some examples of discrete probability distributions are  Bernoulli distribution,  Binomial distribution, Poisson distribution and Geometric distribution.\n",
    "\n",
    "Continuous probability distributions can take any value in a range or interval and they are also known as probability density functions, they are functions that take on continuous values (e.g. values on the real line). Examples include the normal distribution, the exponential distribution and the beta distribution.\n",
    "\n",
    "\n",
    "(_Source: https://bigdata-madesimple.com/how-to-implement-these-5-powerful-probability-distributions-in-python/)\n",
    "\n",
    "The use of Numpy distributions is generate random numbers that are distributed  following the patterns of either specific discrete or continuos distributions.\n"
   ]
  },
  {
   "cell_type": "markdown",
   "metadata": {},
   "source": [
    "### 5.2 Discrete distributions"
   ]
  },
  {
   "cell_type": "markdown",
   "metadata": {},
   "source": [
    "NOTE: **Uniform distribution** Described under the function numpy.random.randint as it is closely related to that function."
   ]
  },
  {
   "cell_type": "markdown",
   "metadata": {},
   "source": [
    "**5.2.1 Binominal Distribution**\n",
    "\n",
    "The binominal distribution is based on only two possible outcomes. It folowws a binominal distribution if there is only 2 possible values and it's probability is constant in time\n",
    "A binomial random variable is the number of successes x in n repeated trials. The probability distribution of a binomial random variable is called a binomial distribution.\n",
    "\n",
    "It is a binominal distribution if\n",
    "1. If only two values are possible: Success or fail\n",
    "2. The probability of sucess or failure is constant\n",
    "3. The number of countings is always the same\n",
    "\n",
    "\n",
    "Example, if we  flip a coin two times and count the number of heads (successes). The binomial random variable is the number of heads, which can take on values of 0, 1, or 2.\n",
    "\n",
    "*(Source: https://stattrek.com/probability-distributions and http://www.usc.es/genp/docencia/AnalDatos_New.pdf)"
   ]
  },
  {
   "cell_type": "markdown",
   "metadata": {},
   "source": [
    "Example:\n",
    "\n",
    "Flipping a coin 10 times, tested 1000 times"
   ]
  },
  {
   "cell_type": "code",
   "execution_count": 13,
   "metadata": {
    "scrolled": true
   },
   "outputs": [
    {
     "name": "stdout",
     "output_type": "stream",
     "text": [
      "[ 3  3  4  4  5  7  4  4  4  8  3  6  6  4  4  3  1  3  6  3  3  5  8  6\n",
      "  6  5  4  3  5  5  5  4  5  6  8  5  8  2  6  6  4  2  4  6  8  5  3  6\n",
      "  8  6  4  4  2  3  6  3  3  5  8  3  5  5  4  5  8  3  2  6  5  6  5  5\n",
      "  4  5  3  4  3  6  7  5  5  6  5  6  8  5  5  7  3  6  6  6  5  4  6  7\n",
      "  5  4  7  5  4  5  4  5  5  4  4  5  3  5  5  6  5  5  4  4  5  3  6  5\n",
      "  4  5  3  5  4  5  5  6  6  7  5  4  6  5  4  6  6  6  5  6  4  6  2  6\n",
      "  6  2  5  4  8  4  6  6  6  4  5  8  3  5  5  7  3  5  3  4  5  3  7  5\n",
      "  4  8  7  3  5  6  3  6  3  6  5  2  5  4  5  5  5  6  4  4  6  2  5  1\n",
      "  8  7  4  5  4  6  6  4  3  4  5  4  1  6  4  4  2  5  6  5  4  5  4  5\n",
      "  7  5  6  7  5  5  5  6  4  4  6  5  4  8  3  5  7  5  7  6  6  4  5  4\n",
      "  8  5  6  7  4  6  6  5  3  4  3  4  4  4  3  5  5  5  5  5  4  6  5  5\n",
      "  3  8  4  8  8  5  6  2  5  5  5  5  7  6  5  2  7  6  5  6  4  3  1  7\n",
      "  7  4  7  5  4  7  8  3  6  3  5  5  2  5  7 10  6  4  5  7  5  4  7  5\n",
      "  5  5  3  5  6  5  6  4  6  2  7  6  4  3  5  4  7  5  6  4  6  5  9  7\n",
      "  5  6  2  4  7  7  6  6  6  5  5  4  6  6  2  7  5  5  5  5  4  6  4  7\n",
      "  5  6  8  3  5  4  3  4  6  5  5  5  6  4  2  2  6  6  7  6  8  7  7  2\n",
      "  5  4  9  6  2  4  4  6  3  5  4  6  5  7  3  5  6  7  6  3  4  6  5  6\n",
      "  5  5  6  3  6  5  2  2  3  5  3  7  4  6  7  6  5  5  6  3  4  2  6  7\n",
      "  6  2  6  4  8  4  7  5  6  4  4  5  7  6  2  8  3  3  5  3  3  3  8  8\n",
      "  4  6  6  2  5  6  6  7  4  5  8  4  8  2  5  6  6  3  6  6  7  7  3  5\n",
      "  4  4  3  3  6  5  6  4  8  9  6  7  5  7  7  4  7  4  5  7  4  7  5  5\n",
      "  6  4  4  7  5  5  4  7  5  2  7  4  5  5  8  6  5  8  5  3  4  4  5  6\n",
      "  0  7  2  6  4  8  2  2  5  4  5  6  3  3  3  3  3  6  4  8  6  5  4  4\n",
      "  7  2  4  2  5  4  7  6  8  7  5  5  7  6  7  4  2  7  6  6  5  8  3  4\n",
      "  7  3  6  5  3  4  3  9  9  4  7  3  5  4  4  6  6  7  2  5  5  7  6  3\n",
      "  7  6  4  3  4  4  1  7  5  3  6  4  3  5  4  5  4  5  5  6  7  7  3  5\n",
      "  5  4  7  6  6  3  9  8  7  7  5  7  7  4  7  5  6  7  6  5  4  7  6  4\n",
      "  4  4  5  5  6  5  7  7  8  4  6  4  4  4  6  7  9  3  3  3  6  4  7  4\n",
      "  4  3  7  5  7  3  6  5  6  4  4  4  8  3  7  7  8  5  6  4  3  6  5  2\n",
      "  6  5  5  6  6  1  5  4  9  4  4  2  4  3  8  8  4  6  2  2  5  5  6  3\n",
      "  6  7  4  5  4  6  4  2  4  5  3  6  2  5  2  6  8  5  4  5  9  3  8  5\n",
      "  1  6  6  6  5  5  7  6  6  6  4  7  3  6  4  7  4  4  6  4  7  6  4  6\n",
      "  5  5  7  3  2  4  5  4  4  7  5  5  6  6  5  1  6  6  3  8  6  5  5  5\n",
      "  6  6  9  6  5  5  4  5  4  5  6  6  7  6  4  6  4  4  6  5  6  5  5  3\n",
      "  7  3  6  6  3  5  2  4  4  6  5  4  4  6  5  6  4  3  4  6  4  4  3  3\n",
      "  3  7  4  4  6  8  4  6  4  6  3  6  7  4  4  3  6  7  7  7  6  7  4  4\n",
      "  5  4  4  8  6  5  5  4  4  4  6  5  5  5  4  6  6  3  5  5  6  5  6  6\n",
      "  5  6  6  7  4  2  8  1  6  4  5  5  5  6  5  5  5  4  5  1  4  5  5  6\n",
      "  4  5  6  6  4  4  7  7  4  5  7  7  4  6  1  3  4  6  6  2  6  4  9  6\n",
      "  4  6  7  5  2  5  3  4  3  5  5  5  5  4  4  7  6  6  2  7  4  5  5  7\n",
      "  4  4  7  4  4  5  4  7  6  6  6  5  4  6  5  5  5  4  4  4  4  5  6  8\n",
      "  8  6  4  6  6  6  6  4  7  2  4  4  6  6  6  3]\n"
     ]
    }
   ],
   "source": [
    "n, p = 10, .5  # number of trials, probability of each trial\n",
    "s = np.random.binomial(n, p, 1000)\n",
    "# result of flipping a coin 10 times, tested 1000 times.\n",
    "print(s)\n"
   ]
  },
  {
   "cell_type": "code",
   "execution_count": 57,
   "metadata": {},
   "outputs": [
    {
     "data": {
      "text/plain": [
       "<function matplotlib.pyplot.show(*args, **kw)>"
      ]
     },
     "execution_count": 57,
     "metadata": {},
     "output_type": "execute_result"
    },
    {
     "data": {
      "image/png": "[encoded data removed]",
      "text/plain": [
       "<matplotlib.figure.Figure at 0x11546ccc0>"
      ]
     },
     "metadata": {
      "needs_background": "light"
     },
     "output_type": "display_data"
    }
   ],
   "source": [
    "plt.hist(s)\n",
    "plt.show"
   ]
  },
  {
   "cell_type": "markdown",
   "metadata": {},
   "source": [
    "In the histogram we can see that when I flip the coin 10 times and I reproduce this experiment 1000 times, the result of getting:\n",
    "-  One head happened around 10 times\n",
    "-  Two heads happened around 40 times\n",
    "-  Three heads happened around 120 times\n",
    "-  Four heads happened around 210 times\n",
    "-  Five heads happened around 250 times\n",
    "-  Six heads happened around 190 times\n",
    "-  Seven heads happened around 140 times\n",
    "-  Eight heads happened around 40 times\n",
    "-  Nine heads happened around 5 times\n",
    "-  Ten heads happened less than 5 times"
   ]
  },
  {
   "cell_type": "markdown",
   "metadata": {},
   "source": [
    "**5.2.2 Poisson Distribution**\n",
    " \n",
    "Poisson was a French mathematician, and amongst the many contributions he made, proposed the Poisson distribution, with the example of modelling the number of soldiers accidentally injured or killed from kicks by horses. This distribution became useful as it models events, particularly uncommon events.\n",
    "\n",
    "A random variable X that has a Poisson distribution represents the number of events occurring in a fixed time interval with a rate parameters λ. λ tells you the rate at which the number of events occur.  The average and variance is λ.\n",
    "\n",
    "Counts of events, based on the Poisson distribution, is a frequently encountered model in medical research. The Poisson parameter Lambda (λ) is the total number of events (k) divided by the number of units (n) in the data (λ = k/n). \n",
    "\n",
    "This is different to the Binomial parameter of proportion or risk where proportion is the number of individuals classified as positive (p) divided by the total number of individuals in the data (r = p/n). Proportion or risk must always be a number between 0 and 1, while λ may be any positive number.\n",
    "\n",
    "We can define a distribution as Poisson if\n",
    "1. Each counting is independent and random\n",
    "2. The probability of each event is constant\n",
    "3. The events happen at a constant rithm \n",
    "\n",
    "\n",
    "Examples of this are number of falls, asthma attacks, number of cells, and so on. \n",
    "\n",
    "Another example:\n",
    "\n",
    "If we have 100 people, and only 90 of them go shopping in a week then the binomial risk of shopping is 90/100 = 0.9. However, some of the people will go shopping more than once in the week, and the total number of shopping trips between the 100 people may be 160, and the Poisson Lambda is 160/100 = 1.6 per 100 person week Large Lambda (λ=k/n), say over 200, assumes an approximately normal or geometric distribution, and the count (or sqrt(count)) can be used as a Parametric measurement. If the events occur very few times per individual, so that individuals can be classified as positive or negative cases, then the Binomial distribution can be assumed and statistics related to proportions used. In between, or when events are infrequent, the Poisson distribution is used.\n",
    "\n",
    "(_Source:https://www.khanacademy.org/math/statistics-probability/random-variables-stats-library/random-variables-discrete/v/discrete-probability-distribution, http://www.usc.es/genp/docencia/AnalDatos_New.pdf, https://stattrek.com/probability-distributions/poisson.aspx, https://www.statstodo.com/Poisson_Exp.php, https://bigdata-madesimple.com/how-to-implement-these-5-powerful-probability-distributions-in-python/)\n"
   ]
  },
  {
   "cell_type": "markdown",
   "metadata": {},
   "source": [
    "Applied example:\n",
    "\n",
    "Number of cases of ashma in a population of 1.000 children of 10 years old. The research shows that there are 100 attacks in 1800 children months. "
   ]
  },
  {
   "cell_type": "code",
   "execution_count": 18,
   "metadata": {},
   "outputs": [
    {
     "name": "stdout",
     "output_type": "stream",
     "text": [
      "0.05555555555555555\n"
     ]
    }
   ],
   "source": [
    "import numpy as np\n",
    "a = 100\n",
    "#variable number of ashma attacks\n",
    "\n",
    "b1 = 1800\n",
    "#variable children months\n",
    "\n",
    "lamda = a/b\n",
    "print(lamda)"
   ]
  },
  {
   "cell_type": "code",
   "execution_count": 19,
   "metadata": {},
   "outputs": [
    {
     "name": "stdout",
     "output_type": "stream",
     "text": [
      "120000\n"
     ]
    }
   ],
   "source": [
    "#Posson distribution\n",
    "import numpy as np\n",
    "\n",
    "c = 1000\n",
    "#number of children\n",
    "\n",
    "y = 10\n",
    "#number of years\n",
    "\n",
    "b2 = c * y * 12\n",
    "#total number of months (number of childre * years * months in a year)\n",
    "print(b2)\n"
   ]
  },
  {
   "cell_type": "code",
   "execution_count": 20,
   "metadata": {},
   "outputs": [
    {
     "name": "stdout",
     "output_type": "stream",
     "text": [
      "[0 0 1 ... 0 0 0]\n"
     ]
    }
   ],
   "source": [
    "#poison distribution application\n",
    "import numpy as np\n",
    "s = np.random.poisson(0.05555555555555555, 120000)\n",
    "#poisson distribution where the lambda is 0.05555555555555555 and the size, in this case the number of months is 120000000 \n",
    "print(s)"
   ]
  },
  {
   "cell_type": "code",
   "execution_count": 21,
   "metadata": {},
   "outputs": [
    {
     "data": {
      "image/png": "[encoded data removed]",
      "text/plain": [
       "<matplotlib.figure.Figure at 0x153c5f0f0>"
      ]
     },
     "metadata": {
      "needs_background": "light"
     },
     "output_type": "display_data"
    }
   ],
   "source": [
    "#plot the result of the distribution of ashma cases\n",
    "import matplotlib.pyplot as plt\n",
    "count, bins, ignored = plt.hist(s, 20, density=True)\n",
    "plt.show()"
   ]
  },
  {
   "cell_type": "markdown",
   "metadata": {},
   "source": [
    "### 5.3 Continuous distributions ###"
   ]
  },
  {
   "cell_type": "markdown",
   "metadata": {},
   "source": [
    "NOTE: **Standard Normal distribution** described under the function numpy.random.randn as it is closely related to that function."
   ]
  },
  {
   "cell_type": "markdown",
   "metadata": {},
   "source": [
    "**5.3.1 Exponential distributions**\n",
    "\n",
    "The exponential distribution represents a process in which events occur continuously and independently at a constant average rate.\n",
    "\n",
    "In probability theory and statistics, the exponential distribution (also known as the negative exponential distribution) is the probability distribution that describes the time between events in a Poisson point process. It is a particular case of the gamma distribution. It is the continuous analogue of the geometric distribution, and it has the key property of being memoryless. \n",
    "\n",
    "We can define a distribution as exponential if\n",
    "\n",
    "- The events occur continuously\n",
    "- Each event is independant\n",
    "- The events happen in a constant average rate\n",
    "\n",
    "Example: \n",
    "The exponential distribution can be found in the example of predicting the probability of a battery wearing out at a particular number of miles. The result would be is exponentially distributed with an average of x miles. \n",
    "\n",
    "(_Source: https://en.wikipedia.org/wiki/Exponential_distribution, https://bigdata-madesimple.com/how-to-implement-these-5-powerful-probability-distributions-in-python/, https://onlinecourses.science.psu.edu/stat414/node/140/)\n"
   ]
  },
  {
   "cell_type": "markdown",
   "metadata": {},
   "source": [
    "Exponential distribution applied"
   ]
  },
  {
   "cell_type": "code",
   "execution_count": 17,
   "metadata": {},
   "outputs": [],
   "source": [
    "z = np.random.exponential(scale=1.0, size=300000)\n",
    "# defining z as the exponential function with the scale parameter, which is the inverse of the rate parameter \\lambda\n",
    "# ad the size of values that is going to retur in the result\n"
   ]
  },
  {
   "cell_type": "code",
   "execution_count": 22,
   "metadata": {},
   "outputs": [
    {
     "data": {
      "text/plain": [
       "<function matplotlib.pyplot.show(*args, **kw)>"
      ]
     },
     "execution_count": 22,
     "metadata": {},
     "output_type": "execute_result"
    },
    {
     "data": {
      "image/png": "[encoded data removed]",
      "text/plain": [
       "<matplotlib.figure.Figure at 0x11a075ef0>"
      ]
     },
     "metadata": {
      "needs_background": "light"
     },
     "output_type": "display_data"
    }
   ],
   "source": [
    "plt.hist(z, bins = 20, normed = True)\n",
    "plt.show"
   ]
  },
  {
   "cell_type": "code",
   "execution_count": null,
   "metadata": {},
   "outputs": [],
   "source": []
  }
 ],
 "metadata": {
  "kernelspec": {
   "display_name": "Python 3",
   "language": "python",
   "name": "python3"
  },
  "language_info": {
   "codemirror_mode": {
    "name": "ipython",
    "version": 3
   },
   "file_extension": ".py",
   "mimetype": "text/x-python",
   "name": "python",
   "nbconvert_exporter": "python",
   "pygments_lexer": "ipython3",
   "version": "3.6.6"
  }
 },
 "nbformat": 4,
 "nbformat_minor": 2
}
